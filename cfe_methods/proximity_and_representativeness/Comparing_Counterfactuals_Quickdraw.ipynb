{
 "cells": [
  {
   "cell_type": "markdown",
   "metadata": {},
   "source": [
    "### MNIST Model and Misclassified Images"
   ]
  },
  {
   "cell_type": "code",
   "execution_count": 1,
   "metadata": {},
   "outputs": [
    {
     "name": "stdout",
     "output_type": "stream",
     "text": [
      "TF version:  2.4.1\n",
      "Eager execution enabled:  False\n"
     ]
    }
   ],
   "source": [
    "import tensorflow as tf\n",
    "tf.get_logger().setLevel(40) # suppress deprecation messages\n",
    "tf.compat.v1.disable_v2_behavior() # disable TF2 behaviour as alibi code still relies on TF1 constructs\n",
    "from tensorflow.keras.layers import Conv2D, Dense, Dropout, Flatten, MaxPooling2D, Input, UpSampling2D\n",
    "from tensorflow.keras.models import Model, load_model\n",
    "from tensorflow.keras.utils import to_categorical\n",
    "import alibi\n",
    "import matplotlib\n",
    "%matplotlib inline\n",
    "import matplotlib.pyplot as plt\n",
    "import numpy as np\n",
    "import os\n",
    "from time import time\n",
    "from alibi.explainers import CounterFactualProto\n",
    "print('TF version: ', tf.__version__)\n",
    "print('Eager execution enabled: ', tf.executing_eagerly()) # False"
   ]
  },
  {
   "cell_type": "code",
   "execution_count": 2,
   "metadata": {},
   "outputs": [],
   "source": [
    "x_train = np.load('quickdraw_x_train.npy')\n",
    "y_train = np.load('quickdraw_y_train.npy')\n",
    "x_test = np.load('quickdraw_x_test.npy')\n",
    "y_test = np.load('quickdraw_y_test.npy')"
   ]
  },
  {
   "cell_type": "markdown",
   "metadata": {},
   "source": [
    "### Evaluate MC-Model on Test Set"
   ]
  },
  {
   "cell_type": "code",
   "execution_count": 3,
   "metadata": {},
   "outputs": [],
   "source": [
    "cnn=load_model('cnn_quickdraw_5_classes.h5')"
   ]
  },
  {
   "cell_type": "markdown",
   "metadata": {},
   "source": [
    "### Loading the Generated Explanations"
   ]
  },
  {
   "cell_type": "code",
   "execution_count": 4,
   "metadata": {},
   "outputs": [],
   "source": [
    "quickdraw_min_edit_cf = np.load('quickdraw_min_edit_cf.npy')\n",
    "quickdraw_cem_cf = np.load('quickdraw_cem_cf.npy')\n",
    "quickdraw_vlk_cf = np.load('quickdraw_vlk_cf.npy')"
   ]
  },
  {
   "cell_type": "code",
   "execution_count": 5,
   "metadata": {},
   "outputs": [
    {
     "data": {
      "text/plain": [
       "<matplotlib.image.AxesImage at 0x1a1b928d848>"
      ]
     },
     "execution_count": 5,
     "metadata": {},
     "output_type": "execute_result"
    },
    {
     "data": {
      "image/png": "[encoded data removed]",
      "text/plain": [
       "<Figure size 432x288 with 1 Axes>"
      ]
     },
     "metadata": {
      "needs_background": "light"
     },
     "output_type": "display_data"
    }
   ],
   "source": [
    "plt.imshow(quickdraw_min_edit_cf[4])"
   ]
  },
  {
   "cell_type": "code",
   "execution_count": 6,
   "metadata": {},
   "outputs": [
    {
     "data": {
      "text/plain": [
       "<matplotlib.image.AxesImage at 0x1a1c06a5b88>"
      ]
     },
     "execution_count": 6,
     "metadata": {},
     "output_type": "execute_result"
    },
    {
     "data": {
      "image/png": "[encoded data removed]",
      "text/plain": [
       "<Figure size 432x288 with 1 Axes>"
      ]
     },
     "metadata": {
      "needs_background": "light"
     },
     "output_type": "display_data"
    }
   ],
   "source": [
    "plt.imshow(quickdraw_cem_cf[13])"
   ]
  },
  {
   "cell_type": "code",
   "execution_count": 7,
   "metadata": {},
   "outputs": [
    {
     "data": {
      "text/plain": [
       "<matplotlib.image.AxesImage at 0x1a1c0715c08>"
      ]
     },
     "execution_count": 7,
     "metadata": {},
     "output_type": "execute_result"
    },
    {
     "data": {
      "image/png": "[encoded data removed]",
      "text/plain": [
       "<Figure size 432x288 with 1 Axes>"
      ]
     },
     "metadata": {
      "needs_background": "light"
     },
     "output_type": "display_data"
    }
   ],
   "source": [
    "plt.imshow(quickdraw_vlk_cf[13])"
   ]
  },
  {
   "cell_type": "code",
   "execution_count": 8,
   "metadata": {},
   "outputs": [],
   "source": [
    "user_0 = np.load('../../../../../../eoind/cfe_quickdraw_0.npy')\n",
    "user_1 = np.load('../../../../../../eoind/cfe_quickdraw_1.npy')\n",
    "user_2 = np.load('../../../../../../eoind/cfe_quickdraw_2.npy')\n",
    "user_3 = np.load('../../../../../../eoind/cfe_quickdraw_3.npy')\n",
    "user_4 = np.load('../../../../../../eoind/cfe_quickdraw_4.npy')"
   ]
  },
  {
   "cell_type": "code",
   "execution_count": 9,
   "metadata": {},
   "outputs": [],
   "source": [
    "user_counterfactual_dataset = []\n",
    "\n",
    "for user in [user_0, user_1, user_2, user_3, user_4]:\n",
    "    \n",
    "    user_counterfactual_dataset.append(user)\n",
    "    \n",
    "user_counterfactual_dataset = np.array(user_counterfactual_dataset)"
   ]
  },
  {
   "cell_type": "code",
   "execution_count": 10,
   "metadata": {},
   "outputs": [
    {
     "data": {
      "text/plain": [
       "(5, 30, 28, 28, 1)"
      ]
     },
     "execution_count": 10,
     "metadata": {},
     "output_type": "execute_result"
    }
   ],
   "source": [
    "user_counterfactual_dataset.shape"
   ]
  },
  {
   "cell_type": "code",
   "execution_count": 11,
   "metadata": {},
   "outputs": [
    {
     "data": {
      "text/plain": [
       "<matplotlib.image.AxesImage at 0x1a1c0786588>"
      ]
     },
     "execution_count": 11,
     "metadata": {},
     "output_type": "execute_result"
    },
    {
     "data": {
      "image/png": "[encoded data removed]",
      "text/plain": [
       "<Figure size 432x288 with 1 Axes>"
      ]
     },
     "metadata": {
      "needs_background": "light"
     },
     "output_type": "display_data"
    }
   ],
   "source": [
    "plt.imshow(user_4[4])"
   ]
  },
  {
   "cell_type": "code",
   "execution_count": 12,
   "metadata": {},
   "outputs": [
    {
     "data": {
      "text/plain": [
       "<matplotlib.image.AxesImage at 0x1a1c07f24c8>"
      ]
     },
     "execution_count": 12,
     "metadata": {},
     "output_type": "execute_result"
    },
    {
     "data": {
      "image/png": "[encoded data removed]",
      "text/plain": [
       "<Figure size 432x288 with 1 Axes>"
      ]
     },
     "metadata": {
      "needs_background": "light"
     },
     "output_type": "display_data"
    }
   ],
   "source": [
    "plt.imshow(user_counterfactual_dataset[4][4])"
   ]
  },
  {
   "cell_type": "code",
   "execution_count": 13,
   "metadata": {},
   "outputs": [],
   "source": [
    "user_counterfactual_dataset = np.load('user_explanations_quickdraw.npy')"
   ]
  },
  {
   "cell_type": "code",
   "execution_count": 14,
   "metadata": {},
   "outputs": [],
   "source": [
    "misclassification_indices_test_set = np.load('quickdraw_misclassification_indices_test_set.npy')"
   ]
  },
  {
   "cell_type": "markdown",
   "metadata": {},
   "source": [
    "### Visualizing Human Explanations"
   ]
  },
  {
   "cell_type": "code",
   "execution_count": 15,
   "metadata": {},
   "outputs": [
    {
     "data": {
      "image/png": "[encoded data removed]",
      "text/plain": [
       "<Figure size 1080x1080 with 9 Axes>"
      ]
     },
     "metadata": {
      "needs_background": "light"
     },
     "output_type": "display_data"
    }
   ],
   "source": [
    "for image in [6]:\n",
    "\n",
    "    image_index = image\n",
    "\n",
    "    f, axarr = plt.subplots(nrows=1,ncols=9, figsize=(15,15))\n",
    "    plt.sca(axarr[0]); \n",
    "    plt.imshow(x_test[misclassification_indices_test_set[image_index]], cmap='viridis'); plt.title('Query')\n",
    "    plt.axis('off')\n",
    "\n",
    "    \n",
    "    plt.sca(axarr[1]); \n",
    "    plt.imshow(quickdraw_min_edit_cf[image_index],cmap='viridis'); plt.title('Min-Edit')\n",
    "    plt.axis('off')\n",
    "\n",
    "    plt.sca(axarr[2]); \n",
    "    plt.imshow(quickdraw_cem_cf[image_index],cmap='viridis'); plt.title('CEM')\n",
    "    plt.axis('off')\n",
    "    \n",
    "    plt.sca(axarr[3]); \n",
    "    plt.imshow(quickdraw_vlk_cf[image_index],cmap='viridis'); plt.title('VLK')\n",
    "    plt.axis('off')\n",
    "    \n",
    "    plt.sca(axarr[4]); \n",
    "    plt.imshow(user_0[image_index], cmap='viridis'); plt.title('User 0')\n",
    "    plt.axis('off')\n",
    "\n",
    "    plt.sca(axarr[5]); \n",
    "    plt.imshow(user_1[image_index], cmap='viridis'); plt.title('User 1');\n",
    "    plt.axis('off')\n",
    "\n",
    "    plt.sca(axarr[6]); \n",
    "    plt.imshow(user_2[image_index], cmap='viridis'); plt.title('User 2');\n",
    "    plt.axis('off')\n",
    "\n",
    "\n",
    "    plt.sca(axarr[7]); \n",
    "    plt.imshow(user_3[image_index], cmap='viridis'); plt.title('User 3');\n",
    "    plt.axis('off')\n",
    "\n",
    "    plt.sca(axarr[8]); \n",
    "    plt.imshow(user_4[image_index], cmap='viridis'); plt.title('User 4');\n",
    "    plt.axis('off')\n",
    "\n",
    "\n",
    "    plt.show()"
   ]
  },
  {
   "cell_type": "markdown",
   "metadata": {},
   "source": [
    "### Comparisons - Proximity "
   ]
  },
  {
   "cell_type": "markdown",
   "metadata": {},
   "source": [
    "#### Distance between Query and CFE"
   ]
  },
  {
   "cell_type": "code",
   "execution_count": 16,
   "metadata": {},
   "outputs": [],
   "source": [
    "import scipy"
   ]
  },
  {
   "cell_type": "code",
   "execution_count": 17,
   "metadata": {},
   "outputs": [],
   "source": [
    "min_edit_l1 = []\n",
    "cem_l1 = []\n",
    "vlk_l1 = []\n",
    "\n",
    "min_edit_l2 = []\n",
    "cem_l2 = []\n",
    "vlk_l2 = []\n",
    "\n",
    "for image in range(30):\n",
    "    \n",
    "    query = x_test[misclassification_indices_test_set[image]].flatten()\n",
    "    min_edit = quickdraw_min_edit_cf[image].flatten()\n",
    "    cem = quickdraw_cem_cf[image].flatten()\n",
    "    vlk = quickdraw_vlk_cf[image].flatten()\n",
    "    \n",
    "    min_edit_l1.append(scipy.spatial.distance.cityblock(query,min_edit))\n",
    "    cem_l1.append(scipy.spatial.distance.cityblock(query,cem))\n",
    "    vlk_l1.append(scipy.spatial.distance.cityblock(query,vlk))\n",
    "    \n",
    "    min_edit_l2.append(scipy.spatial.distance.euclidean(query,min_edit))\n",
    "    cem_l2.append(scipy.spatial.distance.euclidean(query,cem))\n",
    "    vlk_l2.append(scipy.spatial.distance.euclidean(query,vlk))\n",
    "        "
   ]
  },
  {
   "cell_type": "code",
   "execution_count": 18,
   "metadata": {},
   "outputs": [],
   "source": [
    "min_edit_l1 = np.array(min_edit_l1)\n",
    "min_edit_l1_sem = scipy.stats.sem(min_edit_l1)\n",
    "\n",
    "cem_l1 = np.array(cem_l1)\n",
    "cem_l1_sem = scipy.stats.sem(cem_l1)\n",
    "\n",
    "vlk_l1 = np.array(vlk_l1)\n",
    "vlk_l1_sem = scipy.stats.sem(vlk_l1)\n",
    "\n",
    "\n",
    "\n",
    "min_edit_l2 = np.array(min_edit_l2)\n",
    "min_edit_l2_sem = scipy.stats.sem(min_edit_l2)\n",
    "\n",
    "cem_l2 = np.array(cem_l2)\n",
    "cem_l2_sem = scipy.stats.sem(cem_l2)\n",
    "\n",
    "vlk_l2 = np.array(vlk_l2)\n",
    "vlk_l2_sem = scipy.stats.sem(vlk_l2)\n"
   ]
  },
  {
   "cell_type": "markdown",
   "metadata": {},
   "source": [
    "#### Human CFE Mean (We have several counterfactuals --- One for each user)"
   ]
  },
  {
   "cell_type": "code",
   "execution_count": 19,
   "metadata": {},
   "outputs": [],
   "source": [
    "mean_l1 = []\n",
    "mean_l2 = []\n",
    "\n",
    "for instance in range(30):\n",
    "    \n",
    "    l1=[]\n",
    "    \n",
    "    l2 = []\n",
    "    \n",
    "    for user in [user_0, user_1, user_2, user_3, user_4]:\n",
    "        l1.append(scipy.spatial.distance.cityblock(x_test[misclassification_indices_test_set[instance]].flatten(), user[instance].flatten()))\n",
    "        l2.append(scipy.spatial.distance.euclidean(x_test[misclassification_indices_test_set[instance]].flatten(), user[instance].flatten()))\n",
    "    mean_l1.append(np.mean(np.mean(l1)))\n",
    "    mean_l2.append(np.mean(np.mean(l2)))"
   ]
  },
  {
   "cell_type": "code",
   "execution_count": 20,
   "metadata": {},
   "outputs": [],
   "source": [
    "import scikit_posthocs as sp\n",
    "from scipy.stats import stats"
   ]
  },
  {
   "cell_type": "markdown",
   "metadata": {},
   "source": [
    "##### Manhattan"
   ]
  },
  {
   "cell_type": "code",
   "execution_count": 21,
   "metadata": {},
   "outputs": [
    {
     "name": "stdout",
     "output_type": "stream",
     "text": [
      "107.02965388851811 2.8630247707542682e-33\n"
     ]
    }
   ],
   "source": [
    "fvalue, pvalue = stats.f_oneway(np.array(min_edit_l1), np.array(cem_l1), np.array(vlk_l1),\n",
    "                                np.array(mean_l1))\n",
    "print(fvalue, pvalue)"
   ]
  },
  {
   "cell_type": "code",
   "execution_count": 22,
   "metadata": {},
   "outputs": [
    {
     "data": {
      "text/html": [
       "<div>\n",
       "<style scoped>\n",
       "    .dataframe tbody tr th:only-of-type {\n",
       "        vertical-align: middle;\n",
       "    }\n",
       "\n",
       "    .dataframe tbody tr th {\n",
       "        vertical-align: top;\n",
       "    }\n",
       "\n",
       "    .dataframe thead th {\n",
       "        text-align: right;\n",
       "    }\n",
       "</style>\n",
       "<table border=\"1\" class=\"dataframe\">\n",
       "  <thead>\n",
       "    <tr style=\"text-align: right;\">\n",
       "      <th></th>\n",
       "      <th>1</th>\n",
       "      <th>2</th>\n",
       "      <th>3</th>\n",
       "      <th>4</th>\n",
       "    </tr>\n",
       "  </thead>\n",
       "  <tbody>\n",
       "    <tr>\n",
       "      <th>1</th>\n",
       "      <td>1.000000e+00</td>\n",
       "      <td>6.654550e-04</td>\n",
       "      <td>7.842139e-06</td>\n",
       "      <td>9.643370e-24</td>\n",
       "    </tr>\n",
       "    <tr>\n",
       "      <th>2</th>\n",
       "      <td>6.654550e-04</td>\n",
       "      <td>1.000000e+00</td>\n",
       "      <td>2.157787e-01</td>\n",
       "      <td>3.790384e-15</td>\n",
       "    </tr>\n",
       "    <tr>\n",
       "      <th>3</th>\n",
       "      <td>7.842139e-06</td>\n",
       "      <td>2.157787e-01</td>\n",
       "      <td>1.000000e+00</td>\n",
       "      <td>2.307907e-12</td>\n",
       "    </tr>\n",
       "    <tr>\n",
       "      <th>4</th>\n",
       "      <td>9.643370e-24</td>\n",
       "      <td>3.790384e-15</td>\n",
       "      <td>2.307907e-12</td>\n",
       "      <td>1.000000e+00</td>\n",
       "    </tr>\n",
       "  </tbody>\n",
       "</table>\n",
       "</div>"
      ],
      "text/plain": [
       "              1             2             3             4\n",
       "1  1.000000e+00  6.654550e-04  7.842139e-06  9.643370e-24\n",
       "2  6.654550e-04  1.000000e+00  2.157787e-01  3.790384e-15\n",
       "3  7.842139e-06  2.157787e-01  1.000000e+00  2.307907e-12\n",
       "4  9.643370e-24  3.790384e-15  2.307907e-12  1.000000e+00"
      ]
     },
     "execution_count": 22,
     "metadata": {},
     "output_type": "execute_result"
    }
   ],
   "source": [
    "sp.posthoc_conover([np.array(min_edit_l1), np.array(cem_l1), np.array(vlk_l1), np.array(mean_l1)], p_adjust='holm')"
   ]
  },
  {
   "cell_type": "markdown",
   "metadata": {},
   "source": [
    "##### Euclidean "
   ]
  },
  {
   "cell_type": "code",
   "execution_count": 23,
   "metadata": {},
   "outputs": [
    {
     "name": "stdout",
     "output_type": "stream",
     "text": [
      "123.61999108098533 5.5993533712269357e-36\n"
     ]
    }
   ],
   "source": [
    "fvalue, pvalue = stats.f_oneway(np.array(min_edit_l2), np.array(cem_l2), np.array(vlk_l2),\n",
    "                                np.array(mean_l2))\n",
    "print(fvalue, pvalue)"
   ]
  },
  {
   "cell_type": "code",
   "execution_count": 24,
   "metadata": {},
   "outputs": [
    {
     "data": {
      "text/html": [
       "<div>\n",
       "<style scoped>\n",
       "    .dataframe tbody tr th:only-of-type {\n",
       "        vertical-align: middle;\n",
       "    }\n",
       "\n",
       "    .dataframe tbody tr th {\n",
       "        vertical-align: top;\n",
       "    }\n",
       "\n",
       "    .dataframe thead th {\n",
       "        text-align: right;\n",
       "    }\n",
       "</style>\n",
       "<table border=\"1\" class=\"dataframe\">\n",
       "  <thead>\n",
       "    <tr style=\"text-align: right;\">\n",
       "      <th></th>\n",
       "      <th>1</th>\n",
       "      <th>2</th>\n",
       "      <th>3</th>\n",
       "      <th>4</th>\n",
       "    </tr>\n",
       "  </thead>\n",
       "  <tbody>\n",
       "    <tr>\n",
       "      <th>1</th>\n",
       "      <td>1.000000e+00</td>\n",
       "      <td>2.669517e-05</td>\n",
       "      <td>1.332087e-07</td>\n",
       "      <td>4.888399e-27</td>\n",
       "    </tr>\n",
       "    <tr>\n",
       "      <th>2</th>\n",
       "      <td>2.669517e-05</td>\n",
       "      <td>1.000000e+00</td>\n",
       "      <td>1.926515e-01</td>\n",
       "      <td>1.521596e-16</td>\n",
       "    </tr>\n",
       "    <tr>\n",
       "      <th>3</th>\n",
       "      <td>1.332087e-07</td>\n",
       "      <td>1.926515e-01</td>\n",
       "      <td>1.000000e+00</td>\n",
       "      <td>1.407108e-13</td>\n",
       "    </tr>\n",
       "    <tr>\n",
       "      <th>4</th>\n",
       "      <td>4.888399e-27</td>\n",
       "      <td>1.521596e-16</td>\n",
       "      <td>1.407108e-13</td>\n",
       "      <td>1.000000e+00</td>\n",
       "    </tr>\n",
       "  </tbody>\n",
       "</table>\n",
       "</div>"
      ],
      "text/plain": [
       "              1             2             3             4\n",
       "1  1.000000e+00  2.669517e-05  1.332087e-07  4.888399e-27\n",
       "2  2.669517e-05  1.000000e+00  1.926515e-01  1.521596e-16\n",
       "3  1.332087e-07  1.926515e-01  1.000000e+00  1.407108e-13\n",
       "4  4.888399e-27  1.521596e-16  1.407108e-13  1.000000e+00"
      ]
     },
     "execution_count": 24,
     "metadata": {},
     "output_type": "execute_result"
    }
   ],
   "source": [
    "sp.posthoc_conover([np.array(min_edit_l2), np.array(cem_l2), np.array(vlk_l2), np.array(mean_l2)], p_adjust='holm')"
   ]
  },
  {
   "cell_type": "code",
   "execution_count": 25,
   "metadata": {},
   "outputs": [
    {
     "data": {
      "text/plain": [
       "<matplotlib.image.AxesImage at 0x1a1c1421708>"
      ]
     },
     "execution_count": 25,
     "metadata": {},
     "output_type": "execute_result"
    },
    {
     "data": {
      "image/png": "[encoded data removed]",
      "text/plain": [
       "<Figure size 432x288 with 1 Axes>"
      ]
     },
     "metadata": {
      "needs_background": "light"
     },
     "output_type": "display_data"
    }
   ],
   "source": [
    "plt.imshow(x_test[misclassification_indices_test_set[6]])"
   ]
  },
  {
   "cell_type": "code",
   "execution_count": 26,
   "metadata": {},
   "outputs": [
    {
     "data": {
      "text/plain": [
       "<matplotlib.image.AxesImage at 0x1a1c245b448>"
      ]
     },
     "execution_count": 26,
     "metadata": {},
     "output_type": "execute_result"
    },
    {
     "data": {
      "image/png": "[encoded data removed]",
      "text/plain": [
       "<Figure size 432x288 with 1 Axes>"
      ]
     },
     "metadata": {
      "needs_background": "light"
     },
     "output_type": "display_data"
    }
   ],
   "source": [
    "plt.imshow(quickdraw_vlk_cf[6])"
   ]
  },
  {
   "cell_type": "code",
   "execution_count": 27,
   "metadata": {},
   "outputs": [
    {
     "data": {
      "text/plain": [
       "<matplotlib.image.AxesImage at 0x1a1c24c5208>"
      ]
     },
     "execution_count": 27,
     "metadata": {},
     "output_type": "execute_result"
    },
    {
     "data": {
      "image/png": "[encoded data removed]",
      "text/plain": [
       "<Figure size 432x288 with 1 Axes>"
      ]
     },
     "metadata": {
      "needs_background": "light"
     },
     "output_type": "display_data"
    }
   ],
   "source": [
    "plt.imshow(quickdraw_cem_cf[6])"
   ]
  },
  {
   "cell_type": "code",
   "execution_count": 28,
   "metadata": {},
   "outputs": [
    {
     "data": {
      "text/plain": [
       "<matplotlib.image.AxesImage at 0x1a1c252d148>"
      ]
     },
     "execution_count": 28,
     "metadata": {},
     "output_type": "execute_result"
    },
    {
     "data": {
      "image/png": "[encoded data removed]",
      "text/plain": [
       "<Figure size 432x288 with 1 Axes>"
      ]
     },
     "metadata": {
      "needs_background": "light"
     },
     "output_type": "display_data"
    }
   ],
   "source": [
    "plt.imshow(quickdraw_min_edit_cf[6])"
   ]
  },
  {
   "cell_type": "code",
   "execution_count": 425,
   "metadata": {},
   "outputs": [
    {
     "data": {
      "text/plain": [
       "0.5484794411128636"
      ]
     },
     "execution_count": 425,
     "metadata": {},
     "output_type": "execute_result"
    }
   ],
   "source": [
    "scipy.stats.sem(min_edit_l1)"
   ]
  },
  {
   "cell_type": "code",
   "execution_count": 426,
   "metadata": {},
   "outputs": [],
   "source": [
    "human_l1 = np.array(mean_l1)\n",
    "human_l1_sem = scipy.stats.sem(human_l1)\n",
    "\n",
    "human_l2 = np.array(mean_l2)\n",
    "human_l2_sem = scipy.stats.sem(human_l2)\n"
   ]
  },
  {
   "cell_type": "markdown",
   "metadata": {},
   "source": [
    "### Plots"
   ]
  },
  {
   "cell_type": "code",
   "execution_count": 434,
   "metadata": {},
   "outputs": [],
   "source": [
    "materials = ['Min-Edit', 'CEM-PN', 'VLK', 'Revise*', 'Human']\n",
    "x_pos = np.arange(len(materials))\n",
    "CTEs = [np.mean(min_edit_l1), np.mean(cem_l1), np.mean(vlk_l1), np.mean(revise_l1), np.mean(human_l1)]\n",
    "error = [min_edit_l1_sem, cem_l1_sem, vlk_l1_sem, revise_l1_sem, human_l1_sem]\n",
    "\n",
    "#np.mean(revise_l1), revise_l1_sem"
   ]
  },
  {
   "cell_type": "code",
   "execution_count": 435,
   "metadata": {},
   "outputs": [
    {
     "data": {
      "text/plain": [
       "[3.1801035, 9.696355, 19.456522, 90.21039, 67.991714]"
      ]
     },
     "execution_count": 435,
     "metadata": {},
     "output_type": "execute_result"
    }
   ],
   "source": [
    "CTEs"
   ]
  },
  {
   "cell_type": "code",
   "execution_count": 436,
   "metadata": {},
   "outputs": [
    {
     "data": {
      "image/png": "[encoded data removed]",
      "text/plain": [
       "<Figure size 432x288 with 1 Axes>"
      ]
     },
     "metadata": {
      "needs_background": "light"
     },
     "output_type": "display_data"
    }
   ],
   "source": [
    "# Build the plot\n",
    "fig, ax = plt.subplots()\n",
    "ax.bar(x_pos, CTEs, yerr=error, align='center', alpha=0.5, ecolor='black', capsize=10)\n",
    "ax.set_ylabel('Mean L1 Distance between Query and CF', fontsize=10)\n",
    "ax.set_xticks(x_pos)\n",
    "ax.set_xticklabels(materials)\n",
    "ax.set_title('Quickdraw Mean L1 Distance between Query and CF', fontsize = 14)\n",
    "ax.yaxis.grid(True)\n",
    "\n",
    "plt.axvline(x = 3.5, color = 'r', linestyle= '--')\n",
    "# Save the figure and show\n",
    "plt.tight_layout()\n",
    "plt.savefig('quickdraw_bar_plot_with_error_bars_l1.pdf')\n",
    "plt.show()"
   ]
  },
  {
   "cell_type": "code",
   "execution_count": 437,
   "metadata": {},
   "outputs": [
    {
     "data": {
      "text/plain": [
       "5.559456812773049"
      ]
     },
     "execution_count": 437,
     "metadata": {},
     "output_type": "execute_result"
    }
   ],
   "source": [
    "materials = ['Min-Edit', 'CEM-PN', 'VLK','Revise*', 'Human']\n",
    "x_pos = np.arange(len(materials))\n",
    "CTEs = [np.mean(min_edit_l2), np.mean(cem_l2), np.mean(vlk_l2), np.mean(revise_l2), np.mean(human_l2)]\n",
    "error = [min_edit_l2_sem, cem_l2_sem, vlk_l2_sem, revise_l2_sem, human_l2_sem]\n",
    "\n",
    "revise_l1_sem"
   ]
  },
  {
   "cell_type": "code",
   "execution_count": 438,
   "metadata": {},
   "outputs": [
    {
     "data": {
      "image/png": "[encoded data removed]",
      "text/plain": [
       "<Figure size 432x288 with 1 Axes>"
      ]
     },
     "metadata": {
      "needs_background": "light"
     },
     "output_type": "display_data"
    }
   ],
   "source": [
    "# Build the plot\n",
    "fig, ax = plt.subplots()\n",
    "ax.bar(x_pos, CTEs, yerr=error, align='center', alpha=0.5, ecolor='black', capsize=10, color = 'red')\n",
    "ax.set_ylabel('Mean L2 Distance between Query and CF', fontsize=10)\n",
    "ax.set_xticks(x_pos)\n",
    "ax.set_xticklabels(materials)\n",
    "ax.set_title('Quickdraw Mean L2 Distance between Query and CF', fontsize = 14)\n",
    "ax.yaxis.grid(True)\n",
    "\n",
    "plt.axvline(x = 3.5, color = 'r', linestyle= '--')\n",
    "# Save the figure and show\n",
    "plt.tight_layout()\n",
    "plt.savefig('quickdraw_bar_plot_with_error_bars_l2.pdf')\n",
    "plt.show()"
   ]
  },
  {
   "cell_type": "markdown",
   "metadata": {},
   "source": [
    "### Quickdraw MC Dropout\n",
    "\n",
    "Retraining the same model with MC Dropout"
   ]
  },
  {
   "cell_type": "code",
   "execution_count": 36,
   "metadata": {},
   "outputs": [],
   "source": [
    "def get_dropout(input_tensor, p, mc=False):\n",
    "    if mc:\n",
    "        return Dropout(p)(input_tensor, training=True)\n",
    "    else:\n",
    "        return Dropout(p)(input_tensor)\n",
    "    \n",
    "    \n",
    "def cnn_model(mc=False):\n",
    "    \n",
    "    x_in = Input(shape=(28, 28, 1))\n",
    "    x = Conv2D(filters=32, kernel_size=2, padding='same', activation='relu')(x_in)\n",
    "    x = MaxPooling2D(pool_size=2)(x)\n",
    "    x = get_dropout(x, p=0.3, mc=mc)\n",
    "\n",
    "    x = Conv2D(filters=64, kernel_size=2, padding='same', activation='relu')(x)\n",
    "    x = MaxPooling2D(pool_size=2)(x)\n",
    "    x = get_dropout(x, p=0.3, mc=mc)\n",
    "\n",
    "    x = Flatten()(x)\n",
    "    x = Dense(256, activation='relu')(x)\n",
    "    x = get_dropout(x, p=0.5, mc=mc)\n",
    "    x_out = Dense(5, activation='softmax')(x)\n",
    "\n",
    "    cnn = Model(inputs=x_in, outputs=x_out)\n",
    "    cnn.compile(loss='categorical_crossentropy', optimizer='adam', metrics=['accuracy'])\n",
    "\n",
    "    return cnn"
   ]
  },
  {
   "cell_type": "code",
   "execution_count": 37,
   "metadata": {},
   "outputs": [],
   "source": [
    "cnn_mc = cnn_model(mc=True)\n",
    "#cnn_mc.fit(x_train, y_train, batch_size=256, epochs=10, verbose=True)\n",
    "#cnn_mc.save('cnn_quickdraw_5_classes_mc.h5', save_format='h5')\n",
    "cnn_mc = load_model('cnn_quickdraw_5_classes_mc.h5')"
   ]
  },
  {
   "cell_type": "code",
   "execution_count": 38,
   "metadata": {},
   "outputs": [],
   "source": [
    "true_labels_user = np.array([np.argmax(y_test[instance]) for instance in misclassification_indices_test_set])"
   ]
  },
  {
   "cell_type": "code",
   "execution_count": 39,
   "metadata": {},
   "outputs": [],
   "source": [
    "import tqdm\n",
    "\n",
    "def Monte_Carlo_Uncertainty(cf_batch):\n",
    "    \n",
    "    mc_predictions = []\n",
    "    \n",
    "    for i in tqdm.tqdm(range(100)):\n",
    "        \n",
    "        y_p = cnn_mc.predict(cf_batch.reshape(30,28,28,1), batch_size=1)\n",
    "        mc_predictions.append(y_p)\n",
    "        \n",
    "        \n",
    "    mean_mc = []\n",
    "    \n",
    "    std_mc = []\n",
    "    \n",
    "    for image in range(30):\n",
    "        \n",
    "        softmax_prediction_label = []\n",
    "        \n",
    "        for sample in range(100):\n",
    "            \n",
    "            softmax_prediction_label.append(np.array(mc_predictions[sample][image][true_labels_user[image]]))\n",
    "    \n",
    "    mean_mc.append(np.array(softmax_prediction_label).mean())\n",
    "    std_mc.append(np.array(softmax_prediction_label).std())\n",
    "    \n",
    "    \n",
    "    return np.mean(mean_mc), np.mean(std_mc)"
   ]
  },
  {
   "cell_type": "code",
   "execution_count": 40,
   "metadata": {},
   "outputs": [
    {
     "name": "stderr",
     "output_type": "stream",
     "text": [
      "  0%|                                                                                                                                                                                                               | 0/100 [00:00<?, ?it/s]`Model.state_updates` will be removed in a future version. This property should not be used in TensorFlow 2.0, as `updates` are applied automatically.\n",
      "100%|█████████████████████████████████████████████████████████████████████████████████████████████████████████████████████████████████████████████████████████████████████████████████████████████████████| 100/100 [00:03<00:00, 32.55it/s]\n"
     ]
    },
    {
     "data": {
      "text/plain": [
       "(0.3409259, 0.20868967)"
      ]
     },
     "execution_count": 40,
     "metadata": {},
     "output_type": "execute_result"
    }
   ],
   "source": [
    "Monte_Carlo_Uncertainty(quickdraw_min_edit_cf.reshape(30,28,28,1))"
   ]
  },
  {
   "cell_type": "code",
   "execution_count": 41,
   "metadata": {},
   "outputs": [
    {
     "name": "stderr",
     "output_type": "stream",
     "text": [
      "100%|█████████████████████████████████████████████████████████████████████████████████████████████████████████████████████████████████████████████████████████████████████████████████████████████████████| 100/100 [00:03<00:00, 32.72it/s]\n"
     ]
    },
    {
     "data": {
      "text/plain": [
       "(0.18838058, 0.12946999)"
      ]
     },
     "execution_count": 41,
     "metadata": {},
     "output_type": "execute_result"
    }
   ],
   "source": [
    "Monte_Carlo_Uncertainty(quickdraw_cem_cf.reshape(30,28,28,1))"
   ]
  },
  {
   "cell_type": "code",
   "execution_count": 42,
   "metadata": {},
   "outputs": [
    {
     "name": "stderr",
     "output_type": "stream",
     "text": [
      "100%|█████████████████████████████████████████████████████████████████████████████████████████████████████████████████████████████████████████████████████████████████████████████████████████████████████| 100/100 [00:02<00:00, 33.40it/s]\n"
     ]
    },
    {
     "data": {
      "text/plain": [
       "(0.3115128, 0.21424617)"
      ]
     },
     "execution_count": 42,
     "metadata": {},
     "output_type": "execute_result"
    }
   ],
   "source": [
    "Monte_Carlo_Uncertainty(quickdraw_vlk_cf.reshape(30,28,28,1))"
   ]
  },
  {
   "cell_type": "code",
   "execution_count": 43,
   "metadata": {},
   "outputs": [
    {
     "name": "stderr",
     "output_type": "stream",
     "text": [
      "100%|█████████████████████████████████████████████████████████████████████████████████████████████████████████████████████████████████████████████████████████████████████████████████████████████████████| 100/100 [00:02<00:00, 33.78it/s]\n"
     ]
    },
    {
     "data": {
      "text/plain": [
       "(0.27403182, 0.13419741)"
      ]
     },
     "execution_count": 43,
     "metadata": {},
     "output_type": "execute_result"
    }
   ],
   "source": [
    "Monte_Carlo_Uncertainty(user_0.reshape(30,28,28,1))"
   ]
  },
  {
   "cell_type": "code",
   "execution_count": 44,
   "metadata": {},
   "outputs": [
    {
     "name": "stderr",
     "output_type": "stream",
     "text": [
      "100%|█████████████████████████████████████████████████████████████████████████████████████████████████████████████████████████████████████████████████████████████████████████████████████████████████████| 100/100 [00:02<00:00, 34.54it/s]\n"
     ]
    },
    {
     "data": {
      "text/plain": [
       "(0.6911498, 0.2096554)"
      ]
     },
     "execution_count": 44,
     "metadata": {},
     "output_type": "execute_result"
    }
   ],
   "source": [
    "Monte_Carlo_Uncertainty(user_1.reshape(30,28,28,1))"
   ]
  },
  {
   "cell_type": "code",
   "execution_count": 45,
   "metadata": {},
   "outputs": [
    {
     "name": "stderr",
     "output_type": "stream",
     "text": [
      "100%|█████████████████████████████████████████████████████████████████████████████████████████████████████████████████████████████████████████████████████████████████████████████████████████████████████| 100/100 [00:03<00:00, 33.24it/s]\n"
     ]
    },
    {
     "data": {
      "text/plain": [
       "(0.8113907, 0.16853845)"
      ]
     },
     "execution_count": 45,
     "metadata": {},
     "output_type": "execute_result"
    }
   ],
   "source": [
    "Monte_Carlo_Uncertainty(user_2.reshape(30,28,28,1))"
   ]
  },
  {
   "cell_type": "code",
   "execution_count": 46,
   "metadata": {},
   "outputs": [
    {
     "name": "stderr",
     "output_type": "stream",
     "text": [
      "100%|█████████████████████████████████████████████████████████████████████████████████████████████████████████████████████████████████████████████████████████████████████████████████████████████████████| 100/100 [00:02<00:00, 34.37it/s]\n"
     ]
    },
    {
     "data": {
      "text/plain": [
       "(0.8857843, 0.10999798)"
      ]
     },
     "execution_count": 46,
     "metadata": {},
     "output_type": "execute_result"
    }
   ],
   "source": [
    "Monte_Carlo_Uncertainty(user_3.reshape(30,28,28,1))"
   ]
  },
  {
   "cell_type": "code",
   "execution_count": 47,
   "metadata": {},
   "outputs": [
    {
     "name": "stderr",
     "output_type": "stream",
     "text": [
      "100%|█████████████████████████████████████████████████████████████████████████████████████████████████████████████████████████████████████████████████████████████████████████████████████████████████████| 100/100 [00:02<00:00, 34.20it/s]\n"
     ]
    },
    {
     "data": {
      "text/plain": [
       "(0.88882524, 0.13551736)"
      ]
     },
     "execution_count": 47,
     "metadata": {},
     "output_type": "execute_result"
    }
   ],
   "source": [
    "Monte_Carlo_Uncertainty(user_4.reshape(30,28,28,1))"
   ]
  },
  {
   "cell_type": "code",
   "execution_count": 439,
   "metadata": {},
   "outputs": [
    {
     "name": "stderr",
     "output_type": "stream",
     "text": [
      "100%|███████████████████████████████████████████████████████████████████████████████████████████████████████████████████████████████████████████████████████████████████████████████████████| 100/100 [00:10<00:00,  9.11it/s]\n"
     ]
    },
    {
     "data": {
      "text/plain": [
       "(0.15624143, 0.034178264)"
      ]
     },
     "execution_count": 439,
     "metadata": {},
     "output_type": "execute_result"
    }
   ],
   "source": [
    "Monte_Carlo_Uncertainty(revise_cfes.reshape(30,28,28,1))"
   ]
  },
  {
   "cell_type": "markdown",
   "metadata": {},
   "source": [
    "### R% Substiutability\n",
    "\n",
    "Fitting a 1-NN Euclidean Classfier on the Generated Instances and testing on the test set. Comparing to the prototypes generated by MMD Critic. "
   ]
  },
  {
   "cell_type": "code",
   "execution_count": 48,
   "metadata": {},
   "outputs": [
    {
     "data": {
      "text/plain": [
       "Counter({1: 7, 4: 4, 0: 7, 2: 5, 3: 7})"
      ]
     },
     "execution_count": 48,
     "metadata": {},
     "output_type": "execute_result"
    }
   ],
   "source": [
    "from collections import Counter\n",
    "from sklearn.neighbors import KNeighborsClassifier\n",
    "from sklearn.metrics import accuracy_score\n",
    "Counter(true_labels_user)"
   ]
  },
  {
   "cell_type": "code",
   "execution_count": 49,
   "metadata": {},
   "outputs": [],
   "source": [
    "proto_indices = np.load('../../../../../MMD-critic/quickdraw_prototype_indices_mmd_pixel_local.npy')"
   ]
  },
  {
   "cell_type": "code",
   "execution_count": 50,
   "metadata": {},
   "outputs": [
    {
     "data": {
      "text/plain": [
       "23525"
      ]
     },
     "execution_count": 50,
     "metadata": {},
     "output_type": "execute_result"
    }
   ],
   "source": [
    "np.where([np.argmax(y_train, axis=1) == 0])[1][4751]"
   ]
  },
  {
   "cell_type": "code",
   "execution_count": 51,
   "metadata": {},
   "outputs": [],
   "source": [
    "prototypes = []\n",
    "\n",
    "for label in range(5):\n",
    "    \n",
    "    prototypes.append(np.where([np.argmax(y_train, axis=1) == label])[1][[instance for instance in proto_indices[label]][0:6]])"
   ]
  },
  {
   "cell_type": "code",
   "execution_count": 52,
   "metadata": {},
   "outputs": [],
   "source": [
    "prototype_instances = np.array(prototypes).reshape(1,-1)[0]"
   ]
  },
  {
   "cell_type": "code",
   "execution_count": 53,
   "metadata": {},
   "outputs": [],
   "source": [
    "prototypes = np.array([x_train[index] for index in prototype_instances])\n",
    "prototype_labels = np.array([np.argmax(y_train[index]) for index in prototype_instances])"
   ]
  },
  {
   "cell_type": "code",
   "execution_count": 54,
   "metadata": {},
   "outputs": [
    {
     "data": {
      "text/plain": [
       "(30, 28, 28, 1)"
      ]
     },
     "execution_count": 54,
     "metadata": {},
     "output_type": "execute_result"
    }
   ],
   "source": [
    "np.array(prototypes).shape"
   ]
  },
  {
   "cell_type": "code",
   "execution_count": 55,
   "metadata": {},
   "outputs": [
    {
     "data": {
      "text/plain": [
       "array([0, 0, 0, 0, 0, 0, 1, 1, 1, 1, 1, 1, 2, 2, 2, 2, 2, 2, 3, 3, 3, 3,\n",
       "       3, 3, 4, 4, 4, 4, 4, 4], dtype=int64)"
      ]
     },
     "execution_count": 55,
     "metadata": {},
     "output_type": "execute_result"
    }
   ],
   "source": [
    "np.array(prototype_labels)"
   ]
  },
  {
   "cell_type": "code",
   "execution_count": 56,
   "metadata": {},
   "outputs": [
    {
     "data": {
      "text/plain": [
       "array([1, 4, 1, 0, 0, 2, 4, 4, 1, 0, 3, 0, 2, 3, 2, 3, 1, 4, 1, 0, 3, 1,\n",
       "       3, 0, 0, 1, 2, 2, 3, 3], dtype=int64)"
      ]
     },
     "execution_count": 56,
     "metadata": {},
     "output_type": "execute_result"
    }
   ],
   "source": [
    "true_labels_user"
   ]
  },
  {
   "cell_type": "code",
   "execution_count": 57,
   "metadata": {},
   "outputs": [],
   "source": [
    "def R_sub(method_data, method_labels):\n",
    "    \n",
    "\n",
    "    image_set = method_data.reshape(30, -1)\n",
    "    label_set = method_labels\n",
    "    \n",
    "    neigh = KNeighborsClassifier(n_neighbors=1, metric='euclidean')\n",
    "    neigh.fit(image_set, label_set)\n",
    "    \n",
    "    return neigh.predict(x_test.reshape(x_test.shape[0],28*28))\n",
    "    \n",
    "    \n",
    "    "
   ]
  },
  {
   "cell_type": "code",
   "execution_count": 58,
   "metadata": {},
   "outputs": [
    {
     "data": {
      "text/plain": [
       "array([1, 4, 0, ..., 2, 1, 1], dtype=int64)"
      ]
     },
     "execution_count": 58,
     "metadata": {},
     "output_type": "execute_result"
    }
   ],
   "source": [
    "R_sub(quickdraw_cem_cf, true_labels_user)"
   ]
  },
  {
   "cell_type": "code",
   "execution_count": 59,
   "metadata": {},
   "outputs": [
    {
     "data": {
      "text/plain": [
       "array([[[[-0.5       ],\n",
       "         [-0.5       ],\n",
       "         [-0.5       ],\n",
       "         ...,\n",
       "         [-0.5       ],\n",
       "         [-0.5       ],\n",
       "         [-0.5       ]],\n",
       "\n",
       "        [[-0.5       ],\n",
       "         [-0.5       ],\n",
       "         [-0.5       ],\n",
       "         ...,\n",
       "         [-0.5       ],\n",
       "         [-0.5       ],\n",
       "         [-0.5       ]],\n",
       "\n",
       "        [[-0.5       ],\n",
       "         [-0.5       ],\n",
       "         [-0.5       ],\n",
       "         ...,\n",
       "         [-0.5       ],\n",
       "         [-0.5       ],\n",
       "         [-0.5       ]],\n",
       "\n",
       "        ...,\n",
       "\n",
       "        [[-0.5       ],\n",
       "         [-0.5       ],\n",
       "         [-0.5       ],\n",
       "         ...,\n",
       "         [-0.5       ],\n",
       "         [-0.5       ],\n",
       "         [-0.5       ]],\n",
       "\n",
       "        [[-0.5       ],\n",
       "         [-0.5       ],\n",
       "         [-0.5       ],\n",
       "         ...,\n",
       "         [-0.5       ],\n",
       "         [-0.5       ],\n",
       "         [-0.5       ]],\n",
       "\n",
       "        [[-0.5       ],\n",
       "         [-0.5       ],\n",
       "         [-0.5       ],\n",
       "         ...,\n",
       "         [-0.5       ],\n",
       "         [-0.5       ],\n",
       "         [-0.5       ]]],\n",
       "\n",
       "\n",
       "       [[[-0.5       ],\n",
       "         [-0.5       ],\n",
       "         [-0.5       ],\n",
       "         ...,\n",
       "         [-0.5       ],\n",
       "         [-0.5       ],\n",
       "         [-0.5       ]],\n",
       "\n",
       "        [[-0.5       ],\n",
       "         [-0.5       ],\n",
       "         [-0.5       ],\n",
       "         ...,\n",
       "         [-0.5       ],\n",
       "         [-0.5       ],\n",
       "         [-0.5       ]],\n",
       "\n",
       "        [[-0.5       ],\n",
       "         [-0.5       ],\n",
       "         [-0.5       ],\n",
       "         ...,\n",
       "         [-0.5       ],\n",
       "         [-0.5       ],\n",
       "         [-0.5       ]],\n",
       "\n",
       "        ...,\n",
       "\n",
       "        [[-0.5       ],\n",
       "         [-0.5       ],\n",
       "         [-0.5       ],\n",
       "         ...,\n",
       "         [-0.5       ],\n",
       "         [-0.5       ],\n",
       "         [-0.5       ]],\n",
       "\n",
       "        [[-0.5       ],\n",
       "         [-0.5       ],\n",
       "         [-0.5       ],\n",
       "         ...,\n",
       "         [-0.5       ],\n",
       "         [-0.5       ],\n",
       "         [-0.5       ]],\n",
       "\n",
       "        [[-0.5       ],\n",
       "         [-0.5       ],\n",
       "         [-0.5       ],\n",
       "         ...,\n",
       "         [-0.5       ],\n",
       "         [-0.5       ],\n",
       "         [-0.5       ]]],\n",
       "\n",
       "\n",
       "       [[[-0.5       ],\n",
       "         [-0.5       ],\n",
       "         [-0.5       ],\n",
       "         ...,\n",
       "         [-0.5       ],\n",
       "         [-0.5       ],\n",
       "         [-0.5       ]],\n",
       "\n",
       "        [[-0.5       ],\n",
       "         [-0.5       ],\n",
       "         [-0.5       ],\n",
       "         ...,\n",
       "         [-0.5       ],\n",
       "         [-0.5       ],\n",
       "         [-0.5       ]],\n",
       "\n",
       "        [[-0.5       ],\n",
       "         [-0.46862745],\n",
       "         [-0.00980392],\n",
       "         ...,\n",
       "         [-0.5       ],\n",
       "         [-0.5       ],\n",
       "         [-0.5       ]],\n",
       "\n",
       "        ...,\n",
       "\n",
       "        [[-0.5       ],\n",
       "         [-0.5       ],\n",
       "         [-0.5       ],\n",
       "         ...,\n",
       "         [-0.5       ],\n",
       "         [-0.5       ],\n",
       "         [-0.5       ]],\n",
       "\n",
       "        [[-0.5       ],\n",
       "         [-0.5       ],\n",
       "         [-0.5       ],\n",
       "         ...,\n",
       "         [-0.5       ],\n",
       "         [-0.5       ],\n",
       "         [-0.5       ]],\n",
       "\n",
       "        [[-0.5       ],\n",
       "         [-0.5       ],\n",
       "         [-0.5       ],\n",
       "         ...,\n",
       "         [-0.5       ],\n",
       "         [-0.5       ],\n",
       "         [-0.5       ]]],\n",
       "\n",
       "\n",
       "       ...,\n",
       "\n",
       "\n",
       "       [[[-0.5       ],\n",
       "         [-0.5       ],\n",
       "         [-0.5       ],\n",
       "         ...,\n",
       "         [-0.5       ],\n",
       "         [-0.5       ],\n",
       "         [-0.5       ]],\n",
       "\n",
       "        [[-0.5       ],\n",
       "         [-0.5       ],\n",
       "         [-0.5       ],\n",
       "         ...,\n",
       "         [-0.5       ],\n",
       "         [-0.5       ],\n",
       "         [-0.5       ]],\n",
       "\n",
       "        [[-0.5       ],\n",
       "         [-0.5       ],\n",
       "         [-0.5       ],\n",
       "         ...,\n",
       "         [-0.5       ],\n",
       "         [-0.5       ],\n",
       "         [-0.5       ]],\n",
       "\n",
       "        ...,\n",
       "\n",
       "        [[-0.5       ],\n",
       "         [-0.5       ],\n",
       "         [-0.5       ],\n",
       "         ...,\n",
       "         [-0.5       ],\n",
       "         [-0.5       ],\n",
       "         [-0.5       ]],\n",
       "\n",
       "        [[-0.5       ],\n",
       "         [-0.5       ],\n",
       "         [-0.5       ],\n",
       "         ...,\n",
       "         [-0.5       ],\n",
       "         [-0.5       ],\n",
       "         [-0.5       ]],\n",
       "\n",
       "        [[-0.5       ],\n",
       "         [-0.5       ],\n",
       "         [-0.5       ],\n",
       "         ...,\n",
       "         [-0.5       ],\n",
       "         [-0.5       ],\n",
       "         [-0.5       ]]],\n",
       "\n",
       "\n",
       "       [[[-0.5       ],\n",
       "         [-0.5       ],\n",
       "         [-0.5       ],\n",
       "         ...,\n",
       "         [-0.5       ],\n",
       "         [-0.5       ],\n",
       "         [-0.5       ]],\n",
       "\n",
       "        [[-0.5       ],\n",
       "         [-0.5       ],\n",
       "         [-0.5       ],\n",
       "         ...,\n",
       "         [-0.5       ],\n",
       "         [-0.5       ],\n",
       "         [-0.5       ]],\n",
       "\n",
       "        [[-0.5       ],\n",
       "         [-0.5       ],\n",
       "         [-0.5       ],\n",
       "         ...,\n",
       "         [-0.5       ],\n",
       "         [-0.5       ],\n",
       "         [-0.5       ]],\n",
       "\n",
       "        ...,\n",
       "\n",
       "        [[-0.5       ],\n",
       "         [-0.5       ],\n",
       "         [-0.5       ],\n",
       "         ...,\n",
       "         [-0.5       ],\n",
       "         [-0.5       ],\n",
       "         [-0.5       ]],\n",
       "\n",
       "        [[-0.5       ],\n",
       "         [-0.5       ],\n",
       "         [-0.5       ],\n",
       "         ...,\n",
       "         [-0.5       ],\n",
       "         [-0.5       ],\n",
       "         [-0.5       ]],\n",
       "\n",
       "        [[-0.5       ],\n",
       "         [-0.5       ],\n",
       "         [-0.5       ],\n",
       "         ...,\n",
       "         [-0.5       ],\n",
       "         [-0.5       ],\n",
       "         [-0.5       ]]],\n",
       "\n",
       "\n",
       "       [[[-0.5       ],\n",
       "         [-0.5       ],\n",
       "         [-0.5       ],\n",
       "         ...,\n",
       "         [-0.5       ],\n",
       "         [-0.5       ],\n",
       "         [-0.5       ]],\n",
       "\n",
       "        [[-0.5       ],\n",
       "         [-0.5       ],\n",
       "         [-0.5       ],\n",
       "         ...,\n",
       "         [-0.5       ],\n",
       "         [-0.5       ],\n",
       "         [-0.5       ]],\n",
       "\n",
       "        [[-0.5       ],\n",
       "         [-0.5       ],\n",
       "         [-0.5       ],\n",
       "         ...,\n",
       "         [-0.5       ],\n",
       "         [-0.5       ],\n",
       "         [-0.5       ]],\n",
       "\n",
       "        ...,\n",
       "\n",
       "        [[-0.5       ],\n",
       "         [-0.5       ],\n",
       "         [-0.5       ],\n",
       "         ...,\n",
       "         [-0.5       ],\n",
       "         [-0.5       ],\n",
       "         [-0.5       ]],\n",
       "\n",
       "        [[-0.5       ],\n",
       "         [-0.5       ],\n",
       "         [-0.5       ],\n",
       "         ...,\n",
       "         [-0.5       ],\n",
       "         [-0.5       ],\n",
       "         [-0.5       ]],\n",
       "\n",
       "        [[-0.5       ],\n",
       "         [-0.5       ],\n",
       "         [-0.5       ],\n",
       "         ...,\n",
       "         [-0.5       ],\n",
       "         [-0.5       ],\n",
       "         [-0.5       ]]]], dtype=float32)"
      ]
     },
     "execution_count": 59,
     "metadata": {},
     "output_type": "execute_result"
    }
   ],
   "source": [
    "prototypes"
   ]
  },
  {
   "cell_type": "code",
   "execution_count": 60,
   "metadata": {},
   "outputs": [
    {
     "data": {
      "text/plain": [
       "0.6920666666666667"
      ]
     },
     "execution_count": 60,
     "metadata": {},
     "output_type": "execute_result"
    }
   ],
   "source": [
    "accuracy_score(np.argmax(y_test,axis=1), R_sub(prototypes, prototype_labels))"
   ]
  },
  {
   "cell_type": "code",
   "execution_count": 61,
   "metadata": {},
   "outputs": [
    {
     "data": {
      "text/plain": [
       "0.28573333333333334"
      ]
     },
     "execution_count": 61,
     "metadata": {},
     "output_type": "execute_result"
    }
   ],
   "source": [
    "accuracy_score(np.argmax(y_test,axis=1), R_sub(quickdraw_min_edit_cf, true_labels_user))"
   ]
  },
  {
   "cell_type": "code",
   "execution_count": 62,
   "metadata": {},
   "outputs": [
    {
     "data": {
      "text/plain": [
       "0.28686666666666666"
      ]
     },
     "execution_count": 62,
     "metadata": {},
     "output_type": "execute_result"
    }
   ],
   "source": [
    "accuracy_score(np.argmax(y_test,axis=1), R_sub(quickdraw_cem_cf, true_labels_user))"
   ]
  },
  {
   "cell_type": "code",
   "execution_count": 63,
   "metadata": {},
   "outputs": [
    {
     "data": {
      "text/plain": [
       "0.31726666666666664"
      ]
     },
     "execution_count": 63,
     "metadata": {},
     "output_type": "execute_result"
    }
   ],
   "source": [
    "accuracy_score(np.argmax(y_test,axis=1), R_sub(quickdraw_vlk_cf, true_labels_user))"
   ]
  },
  {
   "cell_type": "code",
   "execution_count": 445,
   "metadata": {},
   "outputs": [
    {
     "data": {
      "text/plain": [
       "0.342"
      ]
     },
     "execution_count": 445,
     "metadata": {},
     "output_type": "execute_result"
    }
   ],
   "source": [
    "accuracy_score(np.argmax(y_test,axis=1), R_sub(revise_cfes, true_labels_user))"
   ]
  },
  {
   "cell_type": "code",
   "execution_count": 64,
   "metadata": {},
   "outputs": [
    {
     "data": {
      "text/plain": [
       "0.3896"
      ]
     },
     "execution_count": 64,
     "metadata": {},
     "output_type": "execute_result"
    }
   ],
   "source": [
    "accuracy_score(np.argmax(y_test,axis=1), R_sub(user_0, true_labels_user))"
   ]
  },
  {
   "cell_type": "code",
   "execution_count": 65,
   "metadata": {},
   "outputs": [
    {
     "data": {
      "text/plain": [
       "0.3868666666666667"
      ]
     },
     "execution_count": 65,
     "metadata": {},
     "output_type": "execute_result"
    }
   ],
   "source": [
    "accuracy_score(np.argmax(y_test,axis=1), R_sub(user_1, true_labels_user))"
   ]
  },
  {
   "cell_type": "code",
   "execution_count": 66,
   "metadata": {},
   "outputs": [
    {
     "data": {
      "text/plain": [
       "0.47986666666666666"
      ]
     },
     "execution_count": 66,
     "metadata": {},
     "output_type": "execute_result"
    }
   ],
   "source": [
    "accuracy_score(np.argmax(y_test,axis=1), R_sub(user_2, true_labels_user))"
   ]
  },
  {
   "cell_type": "code",
   "execution_count": 67,
   "metadata": {},
   "outputs": [
    {
     "data": {
      "text/plain": [
       "0.2879333333333333"
      ]
     },
     "execution_count": 67,
     "metadata": {},
     "output_type": "execute_result"
    }
   ],
   "source": [
    "accuracy_score(np.argmax(y_test,axis=1), R_sub(user_3, true_labels_user))"
   ]
  },
  {
   "cell_type": "code",
   "execution_count": 68,
   "metadata": {},
   "outputs": [
    {
     "data": {
      "text/plain": [
       "0.39286666666666664"
      ]
     },
     "execution_count": 68,
     "metadata": {},
     "output_type": "execute_result"
    }
   ],
   "source": [
    "accuracy_score(np.argmax(y_test,axis=1), R_sub(user_4, true_labels_user))"
   ]
  },
  {
   "cell_type": "markdown",
   "metadata": {},
   "source": [
    "### Revise CFE's Quickdraw\n"
   ]
  },
  {
   "cell_type": "code",
   "execution_count": 417,
   "metadata": {},
   "outputs": [],
   "source": [
    "revise_cfes = np.load('../../../../../DeDUCE-master/DeDUCE-master/REVISE_l0s-5_arr_vbatch_quickdraw.npy')"
   ]
  },
  {
   "cell_type": "code",
   "execution_count": 418,
   "metadata": {},
   "outputs": [],
   "source": [
    "revise_cfes = np.array([revise_cfes[instance][true_labels_user[instance]] for instance in range(30)])"
   ]
  },
  {
   "cell_type": "code",
   "execution_count": 419,
   "metadata": {},
   "outputs": [],
   "source": [
    "revise_cfes = revise_cfes.reshape(30,28,28,1)"
   ]
  },
  {
   "cell_type": "code",
   "execution_count": 420,
   "metadata": {},
   "outputs": [
    {
     "data": {
      "text/plain": [
       "(array([ 0,  3,  4,  5, 10, 11, 12, 14, 15, 16, 17, 19, 21, 22, 23, 24, 26,\n",
       "        28, 29], dtype=int64),\n",
       " 19)"
      ]
     },
     "execution_count": 420,
     "metadata": {},
     "output_type": "execute_result"
    }
   ],
   "source": [
    "np.where(np.array([revise_cfes[image].max() for image in range(30)]) >= 0)[0], len(np.where(np.array([revise_cfes[image].max() for image in range(30)]) >= 0)[0])"
   ]
  },
  {
   "cell_type": "code",
   "execution_count": 421,
   "metadata": {},
   "outputs": [],
   "source": [
    "revise_l1 = []\n",
    "revise_l2 = []\n",
    "\n",
    "for image in [ 0,  3,  4,  5, 10, 11, 12, 14, 15, 16, 17, 19, 21, 22, 23, 24, 26,\n",
    "        28, 29]:\n",
    "    \n",
    "    query = x_test[misclassification_indices_test_set[image]].flatten()\n",
    "    revise = revise_cfes[image].flatten()\n",
    "    \n",
    "    \n",
    "    \n",
    "    revise_l1.append(scipy.spatial.distance.cityblock(query,revise))\n",
    "    revise_l2.append(scipy.spatial.distance.euclidean(query,revise))\n",
    " "
   ]
  },
  {
   "cell_type": "code",
   "execution_count": 422,
   "metadata": {},
   "outputs": [],
   "source": [
    "revise_l1 = np.array(revise_l1)\n",
    "revise_l1_sem = scipy.stats.sem(revise_l1)\n",
    "\n",
    "revise_l2 = np.array(revise_l2)\n",
    "revise_l2_sem = scipy.stats.sem(revise_l2)"
   ]
  },
  {
   "cell_type": "code",
   "execution_count": 423,
   "metadata": {},
   "outputs": [
    {
     "data": {
      "text/plain": [
       "(90.21039, 5.559456812773049)"
      ]
     },
     "execution_count": 423,
     "metadata": {},
     "output_type": "execute_result"
    }
   ],
   "source": [
    "np.mean(revise_l1), revise_l1_sem"
   ]
  },
  {
   "cell_type": "code",
   "execution_count": 424,
   "metadata": {},
   "outputs": [
    {
     "data": {
      "text/plain": [
       "(6.387449841750295, 0.19774963042367782)"
      ]
     },
     "execution_count": 424,
     "metadata": {},
     "output_type": "execute_result"
    }
   ],
   "source": [
    "np.mean(revise_l2), revise_l2_sem"
   ]
  },
  {
   "cell_type": "markdown",
   "metadata": {},
   "source": [
    "### Local Outlier Factor\n",
    "\n",
    "Fitting a 1-NN Euclidean Classfier on the Generated Instances and testing on the test set. Comparing to the prototypes generated by MMD Critic. "
   ]
  },
  {
   "cell_type": "code",
   "execution_count": 261,
   "metadata": {},
   "outputs": [],
   "source": [
    "user_images_qd = np.array([x_test[misclassification_indices_test_set[image]].flatten() for image in range(30)])"
   ]
  },
  {
   "cell_type": "code",
   "execution_count": 262,
   "metadata": {},
   "outputs": [],
   "source": [
    "user_images_qd = sklearn.preprocessing.minmax_scale(user_images_qd, feature_range = (-0.5, 0.5))"
   ]
  },
  {
   "cell_type": "code",
   "execution_count": 264,
   "metadata": {},
   "outputs": [
    {
     "data": {
      "text/plain": [
       "array([[[[-0.5],\n",
       "         [-0.5],\n",
       "         [-0.5],\n",
       "         ...,\n",
       "         [-0.5],\n",
       "         [-0.5],\n",
       "         [-0.5]],\n",
       "\n",
       "        [[-0.5],\n",
       "         [-0.5],\n",
       "         [-0.5],\n",
       "         ...,\n",
       "         [-0.5],\n",
       "         [-0.5],\n",
       "         [-0.5]],\n",
       "\n",
       "        [[-0.5],\n",
       "         [-0.5],\n",
       "         [-0.5],\n",
       "         ...,\n",
       "         [-0.5],\n",
       "         [-0.5],\n",
       "         [-0.5]],\n",
       "\n",
       "        ...,\n",
       "\n",
       "        [[-0.5],\n",
       "         [-0.5],\n",
       "         [-0.5],\n",
       "         ...,\n",
       "         [-0.5],\n",
       "         [-0.5],\n",
       "         [-0.5]],\n",
       "\n",
       "        [[-0.5],\n",
       "         [-0.5],\n",
       "         [-0.5],\n",
       "         ...,\n",
       "         [-0.5],\n",
       "         [-0.5],\n",
       "         [-0.5]],\n",
       "\n",
       "        [[-0.5],\n",
       "         [-0.5],\n",
       "         [-0.5],\n",
       "         ...,\n",
       "         [-0.5],\n",
       "         [-0.5],\n",
       "         [-0.5]]],\n",
       "\n",
       "\n",
       "       [[[-0.5],\n",
       "         [-0.5],\n",
       "         [-0.5],\n",
       "         ...,\n",
       "         [-0.5],\n",
       "         [-0.5],\n",
       "         [-0.5]],\n",
       "\n",
       "        [[-0.5],\n",
       "         [-0.5],\n",
       "         [-0.5],\n",
       "         ...,\n",
       "         [-0.5],\n",
       "         [-0.5],\n",
       "         [-0.5]],\n",
       "\n",
       "        [[-0.5],\n",
       "         [-0.5],\n",
       "         [-0.5],\n",
       "         ...,\n",
       "         [-0.5],\n",
       "         [-0.5],\n",
       "         [-0.5]],\n",
       "\n",
       "        ...,\n",
       "\n",
       "        [[-0.5],\n",
       "         [-0.5],\n",
       "         [-0.5],\n",
       "         ...,\n",
       "         [-0.5],\n",
       "         [-0.5],\n",
       "         [-0.5]],\n",
       "\n",
       "        [[-0.5],\n",
       "         [-0.5],\n",
       "         [-0.5],\n",
       "         ...,\n",
       "         [-0.5],\n",
       "         [-0.5],\n",
       "         [-0.5]],\n",
       "\n",
       "        [[-0.5],\n",
       "         [-0.5],\n",
       "         [-0.5],\n",
       "         ...,\n",
       "         [-0.5],\n",
       "         [-0.5],\n",
       "         [-0.5]]],\n",
       "\n",
       "\n",
       "       [[[-0.5],\n",
       "         [-0.5],\n",
       "         [-0.5],\n",
       "         ...,\n",
       "         [-0.5],\n",
       "         [-0.5],\n",
       "         [-0.5]],\n",
       "\n",
       "        [[-0.5],\n",
       "         [-0.5],\n",
       "         [-0.5],\n",
       "         ...,\n",
       "         [-0.5],\n",
       "         [-0.5],\n",
       "         [-0.5]],\n",
       "\n",
       "        [[-0.5],\n",
       "         [-0.5],\n",
       "         [-0.5],\n",
       "         ...,\n",
       "         [-0.5],\n",
       "         [-0.5],\n",
       "         [-0.5]],\n",
       "\n",
       "        ...,\n",
       "\n",
       "        [[-0.5],\n",
       "         [-0.5],\n",
       "         [-0.5],\n",
       "         ...,\n",
       "         [-0.5],\n",
       "         [-0.5],\n",
       "         [-0.5]],\n",
       "\n",
       "        [[-0.5],\n",
       "         [-0.5],\n",
       "         [-0.5],\n",
       "         ...,\n",
       "         [-0.5],\n",
       "         [-0.5],\n",
       "         [-0.5]],\n",
       "\n",
       "        [[-0.5],\n",
       "         [-0.5],\n",
       "         [-0.5],\n",
       "         ...,\n",
       "         [-0.5],\n",
       "         [-0.5],\n",
       "         [-0.5]]],\n",
       "\n",
       "\n",
       "       ...,\n",
       "\n",
       "\n",
       "       [[[-0.5],\n",
       "         [-0.5],\n",
       "         [-0.5],\n",
       "         ...,\n",
       "         [-0.5],\n",
       "         [-0.5],\n",
       "         [-0.5]],\n",
       "\n",
       "        [[-0.5],\n",
       "         [-0.5],\n",
       "         [-0.5],\n",
       "         ...,\n",
       "         [-0.5],\n",
       "         [-0.5],\n",
       "         [-0.5]],\n",
       "\n",
       "        [[-0.5],\n",
       "         [-0.5],\n",
       "         [-0.5],\n",
       "         ...,\n",
       "         [-0.5],\n",
       "         [-0.5],\n",
       "         [-0.5]],\n",
       "\n",
       "        ...,\n",
       "\n",
       "        [[-0.5],\n",
       "         [-0.5],\n",
       "         [-0.5],\n",
       "         ...,\n",
       "         [-0.5],\n",
       "         [-0.5],\n",
       "         [-0.5]],\n",
       "\n",
       "        [[-0.5],\n",
       "         [-0.5],\n",
       "         [-0.5],\n",
       "         ...,\n",
       "         [-0.5],\n",
       "         [-0.5],\n",
       "         [-0.5]],\n",
       "\n",
       "        [[-0.5],\n",
       "         [-0.5],\n",
       "         [-0.5],\n",
       "         ...,\n",
       "         [-0.5],\n",
       "         [-0.5],\n",
       "         [-0.5]]],\n",
       "\n",
       "\n",
       "       [[[-0.5],\n",
       "         [-0.5],\n",
       "         [-0.5],\n",
       "         ...,\n",
       "         [-0.5],\n",
       "         [-0.5],\n",
       "         [-0.5]],\n",
       "\n",
       "        [[-0.5],\n",
       "         [-0.5],\n",
       "         [-0.5],\n",
       "         ...,\n",
       "         [-0.5],\n",
       "         [-0.5],\n",
       "         [-0.5]],\n",
       "\n",
       "        [[-0.5],\n",
       "         [-0.5],\n",
       "         [-0.5],\n",
       "         ...,\n",
       "         [-0.5],\n",
       "         [-0.5],\n",
       "         [-0.5]],\n",
       "\n",
       "        ...,\n",
       "\n",
       "        [[-0.5],\n",
       "         [-0.5],\n",
       "         [-0.5],\n",
       "         ...,\n",
       "         [-0.5],\n",
       "         [-0.5],\n",
       "         [-0.5]],\n",
       "\n",
       "        [[-0.5],\n",
       "         [-0.5],\n",
       "         [-0.5],\n",
       "         ...,\n",
       "         [-0.5],\n",
       "         [-0.5],\n",
       "         [-0.5]],\n",
       "\n",
       "        [[-0.5],\n",
       "         [-0.5],\n",
       "         [-0.5],\n",
       "         ...,\n",
       "         [-0.5],\n",
       "         [-0.5],\n",
       "         [-0.5]]],\n",
       "\n",
       "\n",
       "       [[[-0.5],\n",
       "         [-0.5],\n",
       "         [-0.5],\n",
       "         ...,\n",
       "         [-0.5],\n",
       "         [-0.5],\n",
       "         [-0.5]],\n",
       "\n",
       "        [[-0.5],\n",
       "         [-0.5],\n",
       "         [-0.5],\n",
       "         ...,\n",
       "         [-0.5],\n",
       "         [-0.5],\n",
       "         [-0.5]],\n",
       "\n",
       "        [[-0.5],\n",
       "         [-0.5],\n",
       "         [-0.5],\n",
       "         ...,\n",
       "         [-0.5],\n",
       "         [-0.5],\n",
       "         [-0.5]],\n",
       "\n",
       "        ...,\n",
       "\n",
       "        [[-0.5],\n",
       "         [-0.5],\n",
       "         [-0.5],\n",
       "         ...,\n",
       "         [-0.5],\n",
       "         [-0.5],\n",
       "         [-0.5]],\n",
       "\n",
       "        [[-0.5],\n",
       "         [-0.5],\n",
       "         [-0.5],\n",
       "         ...,\n",
       "         [-0.5],\n",
       "         [-0.5],\n",
       "         [-0.5]],\n",
       "\n",
       "        [[-0.5],\n",
       "         [-0.5],\n",
       "         [-0.5],\n",
       "         ...,\n",
       "         [-0.5],\n",
       "         [-0.5],\n",
       "         [-0.5]]]], dtype=float32)"
      ]
     },
     "execution_count": 264,
     "metadata": {},
     "output_type": "execute_result"
    }
   ],
   "source": [
    "user_images_qd.reshape(30,28,28,1)"
   ]
  },
  {
   "cell_type": "code",
   "execution_count": 273,
   "metadata": {},
   "outputs": [],
   "source": [
    "user_labels_qd = np.array([y_test[misclassification_indices_test_set[image]].flatten() for image in range(30)])"
   ]
  },
  {
   "cell_type": "code",
   "execution_count": 274,
   "metadata": {},
   "outputs": [
    {
     "data": {
      "text/plain": [
       "<matplotlib.image.AxesImage at 0x1a1c85e4148>"
      ]
     },
     "execution_count": 274,
     "metadata": {},
     "output_type": "execute_result"
    },
    {
     "data": {
      "image/png": "[encoded data removed]",
      "text/plain": [
       "<Figure size 432x288 with 1 Axes>"
      ]
     },
     "metadata": {
      "needs_background": "light"
     },
     "output_type": "display_data"
    }
   ],
   "source": [
    "plt.imshow(user_images_qd[6].reshape(28,28))"
   ]
  },
  {
   "cell_type": "code",
   "execution_count": 275,
   "metadata": {},
   "outputs": [
    {
     "data": {
      "text/plain": [
       "array([[-0.5, -0.5, -0.5, ..., -0.5, -0.5, -0.5],\n",
       "       [-0.5, -0.5, -0.5, ..., -0.5, -0.5, -0.5],\n",
       "       [-0.5, -0.5, -0.5, ..., -0.5, -0.5, -0.5],\n",
       "       ...,\n",
       "       [-0.5, -0.5, -0.5, ..., -0.5, -0.5, -0.5],\n",
       "       [-0.5, -0.5, -0.5, ..., -0.5, -0.5, -0.5],\n",
       "       [-0.5, -0.5, -0.5, ..., -0.5, -0.5, -0.5]], dtype=float32)"
      ]
     },
     "execution_count": 275,
     "metadata": {},
     "output_type": "execute_result"
    }
   ],
   "source": [
    "user_images_qd"
   ]
  },
  {
   "cell_type": "code",
   "execution_count": 286,
   "metadata": {},
   "outputs": [],
   "source": [
    "y_quickdraw = np.argmax(user_labels_qd, axis=1)"
   ]
  },
  {
   "cell_type": "code",
   "execution_count": 400,
   "metadata": {},
   "outputs": [
    {
     "data": {
      "text/plain": [
       "<matplotlib.image.AxesImage at 0x1a1cbf2a048>"
      ]
     },
     "execution_count": 400,
     "metadata": {},
     "output_type": "execute_result"
    },
    {
     "data": {
      "image/png": "[encoded data removed]",
      "text/plain": [
       "<Figure size 432x288 with 1 Axes>"
      ]
     },
     "metadata": {
      "needs_background": "light"
     },
     "output_type": "display_data"
    }
   ],
   "source": [
    "plt.imshow(user_images_qd[15].reshape(28,28))"
   ]
  },
  {
   "cell_type": "code",
   "execution_count": 443,
   "metadata": {},
   "outputs": [
    {
     "data": {
      "text/plain": [
       "<matplotlib.image.AxesImage at 0x1a1cbb98c08>"
      ]
     },
     "execution_count": 443,
     "metadata": {},
     "output_type": "execute_result"
    },
    {
     "data": {
      "image/png": "[encoded data removed]",
      "text/plain": [
       "<Figure size 432x288 with 1 Axes>"
      ]
     },
     "metadata": {
      "needs_background": "light"
     },
     "output_type": "display_data"
    }
   ],
   "source": [
    "plt.imshow(revise_cfes[15])"
   ]
  },
  {
   "cell_type": "code",
   "execution_count": 444,
   "metadata": {},
   "outputs": [],
   "source": [
    "np.save('revise_cfes_qd.npy', revise_cfes)"
   ]
  },
  {
   "cell_type": "code",
   "execution_count": 442,
   "metadata": {},
   "outputs": [
    {
     "data": {
      "image/png": "[encoded data removed]",
      "text/plain": [
       "<Figure size 1080x1080 with 10 Axes>"
      ]
     },
     "metadata": {
      "needs_background": "light"
     },
     "output_type": "display_data"
    }
   ],
   "source": [
    "for image in [13]:\n",
    "\n",
    "    image_index = image\n",
    "\n",
    "    f, axarr = plt.subplots(nrows=1,ncols=10, figsize=(15,15))\n",
    "    plt.sca(axarr[0]); \n",
    "    plt.imshow(x_test[misclassification_indices_test_set[image_index]], cmap='viridis'); plt.title('Query')\n",
    "    plt.axis('off')\n",
    "\n",
    "    \n",
    "    plt.sca(axarr[1]); \n",
    "    plt.imshow(quickdraw_min_edit_cf[image_index],cmap='viridis'); plt.title('Min-Edit')\n",
    "    plt.axis('off')\n",
    "\n",
    "    plt.sca(axarr[2]); \n",
    "    plt.imshow(quickdraw_cem_cf[image_index],cmap='viridis'); plt.title('CEM')\n",
    "    plt.axis('off')\n",
    "    \n",
    "    plt.sca(axarr[3]); \n",
    "    plt.imshow(quickdraw_vlk_cf[image_index],cmap='viridis'); plt.title('VLK')\n",
    "    plt.axis('off')\n",
    "    \n",
    "    \n",
    "    plt.sca(axarr[4]); \n",
    "    plt.imshow(revise_cfes[image_index],cmap='viridis'); plt.title('Revise')\n",
    "    plt.axis('off')\n",
    "    \n",
    "    \n",
    "    plt.sca(axarr[5]); \n",
    "    plt.imshow(user_0[image_index], cmap='viridis'); plt.title('User 0')\n",
    "    plt.axis('off')\n",
    "\n",
    "    plt.sca(axarr[6]); \n",
    "    plt.imshow(user_1[image_index], cmap='viridis'); plt.title('User 1');\n",
    "    plt.axis('off')\n",
    "\n",
    "    plt.sca(axarr[7]); \n",
    "    plt.imshow(user_2[image_index], cmap='viridis'); plt.title('User 2');\n",
    "    plt.axis('off')\n",
    "\n",
    "\n",
    "    plt.sca(axarr[8]); \n",
    "    plt.imshow(user_3[image_index], cmap='viridis'); plt.title('User 3');\n",
    "    plt.axis('off')\n",
    "\n",
    "    plt.sca(axarr[9]); \n",
    "    plt.imshow(user_4[image_index], cmap='viridis'); plt.title('User 4');\n",
    "    plt.axis('off')\n",
    "\n",
    "\n",
    "    plt.show()"
   ]
  },
  {
   "cell_type": "code",
   "execution_count": 447,
   "metadata": {},
   "outputs": [
    {
     "data": {
      "text/plain": [
       "(5, 30, 28, 28, 1)"
      ]
     },
     "execution_count": 447,
     "metadata": {},
     "output_type": "execute_result"
    }
   ],
   "source": [
    "np.load('user_explanations_quickdraw.npy').shape"
   ]
  },
  {
   "cell_type": "code",
   "execution_count": 462,
   "metadata": {},
   "outputs": [],
   "source": [
    "np.save('quickdraw_misclassified_image_user_set.npy', np.array([x_test[misclassification_indices_test_set[image_index]] for image_index in range(30)]))"
   ]
  },
  {
   "cell_type": "code",
   "execution_count": 464,
   "metadata": {},
   "outputs": [
    {
     "data": {
      "text/plain": [
       "<matplotlib.image.AxesImage at 0x1a1cdb35908>"
      ]
     },
     "execution_count": 464,
     "metadata": {},
     "output_type": "execute_result"
    },
    {
     "data": {
      "image/png": "[encoded data removed]",
      "text/plain": [
       "<Figure size 432x288 with 1 Axes>"
      ]
     },
     "metadata": {
      "needs_background": "light"
     },
     "output_type": "display_data"
    }
   ],
   "source": [
    "plt.imshow(np.load('quickdraw_misclassified_image_user_set.npy')[13])"
   ]
  },
  {
   "cell_type": "code",
   "execution_count": 486,
   "metadata": {},
   "outputs": [
    {
     "data": {
      "text/plain": [
       "<matplotlib.image.AxesImage at 0x1a1ce4604c8>"
      ]
     },
     "execution_count": 486,
     "metadata": {},
     "output_type": "execute_result"
    },
    {
     "data": {
      "image/png": "[encoded data removed]",
      "text/plain": [
       "<Figure size 432x288 with 1 Axes>"
      ]
     },
     "metadata": {
      "needs_background": "light"
     },
     "output_type": "display_data"
    }
   ],
   "source": [
    "plt.imshow(user_4[13])"
   ]
  },
  {
   "cell_type": "code",
   "execution_count": 481,
   "metadata": {},
   "outputs": [
    {
     "data": {
      "image/png": "[encoded data removed]",
      "text/plain": [
       "<Figure size 1080x1080 with 9 Axes>"
      ]
     },
     "metadata": {
      "needs_background": "light"
     },
     "output_type": "display_data"
    }
   ],
   "source": [
    "for image in [10]:\n",
    "\n",
    "    image_index = image\n",
    "\n",
    "    f, axarr = plt.subplots(nrows=1,ncols=9, figsize=(15,15))\n",
    "    plt.sca(axarr[0]); \n",
    "    plt.imshow(x_test[misclassification_indices_test_set[image_index]], cmap='viridis'); plt.title('Query')\n",
    "    plt.axis('off')\n",
    "\n",
    "    \n",
    "    plt.sca(axarr[1]); \n",
    "    plt.imshow(quickdraw_min_edit_cf[image_index],cmap='viridis'); plt.title('Min-Edit')\n",
    "    plt.axis('off')\n",
    "\n",
    "    plt.sca(axarr[2]); \n",
    "    plt.imshow(quickdraw_cem_cf[image_index],cmap='viridis'); plt.title('CEM')\n",
    "    plt.axis('off')\n",
    "    \n",
    "    plt.sca(axarr[3]); \n",
    "    plt.imshow(quickdraw_vlk_cf[image_index],cmap='viridis'); plt.title('VLK')\n",
    "    plt.axis('off')\n",
    "    \n",
    "    plt.sca(axarr[4]); \n",
    "    plt.imshow(user_0[image_index], cmap='viridis'); plt.title('User 0')\n",
    "    plt.axis('off')\n",
    "\n",
    "    plt.sca(axarr[5]); \n",
    "    plt.imshow(user_1[image_index], cmap='viridis'); plt.title('User 1');\n",
    "    plt.axis('off')\n",
    "\n",
    "    plt.sca(axarr[6]); \n",
    "    plt.imshow(user_2[image_index], cmap='viridis'); plt.title('User 2');\n",
    "    plt.axis('off')\n",
    "\n",
    "\n",
    "    plt.sca(axarr[7]); \n",
    "    plt.imshow(user_3[image_index], cmap='viridis'); plt.title('User 3');\n",
    "    plt.axis('off')\n",
    "\n",
    "    plt.sca(axarr[8]); \n",
    "    plt.imshow(user_4[image_index], cmap='viridis'); plt.title('User 4');\n",
    "    plt.axis('off')\n",
    "\n",
    "\n",
    "    plt.show()"
   ]
  }
 ],
 "metadata": {
  "kernelspec": {
   "display_name": "Python 3 (ipykernel)",
   "language": "python",
   "name": "python3"
  },
  "language_info": {
   "codemirror_mode": {
    "name": "ipython",
    "version": 3
   },
   "file_extension": ".py",
   "mimetype": "text/x-python",
   "name": "python",
   "nbconvert_exporter": "python",
   "pygments_lexer": "ipython3",
   "version": "3.8.12"
  },
  "toc": {
   "base_numbering": 1,
   "nav_menu": {},
   "number_sections": true,
   "sideBar": true,
   "skip_h1_title": false,
   "title_cell": "Table of Contents",
   "title_sidebar": "Contents",
   "toc_cell": false,
   "toc_position": {},
   "toc_section_display": true,
   "toc_window_display": false
  }
 },
 "nbformat": 4,
 "nbformat_minor": 4
}
