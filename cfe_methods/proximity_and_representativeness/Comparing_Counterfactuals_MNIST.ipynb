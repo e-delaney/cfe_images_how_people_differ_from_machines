{
 "cells": [
  {
   "cell_type": "markdown",
   "metadata": {},
   "source": [
    "### MNIST Model and Misclassified Images"
   ]
  },
  {
   "cell_type": "code",
   "execution_count": 1,
   "metadata": {},
   "outputs": [
    {
     "name": "stdout",
     "output_type": "stream",
     "text": [
      "TF version:  2.4.1\n",
      "Eager execution enabled:  False\n"
     ]
    }
   ],
   "source": [
    "import tensorflow as tf\n",
    "tf.get_logger().setLevel(40) # suppress deprecation messages\n",
    "tf.compat.v1.disable_v2_behavior() # disable TF2 behaviour as alibi code still relies on TF1 constructs\n",
    "from tensorflow.keras.layers import Conv2D, Dense, Dropout, Flatten, MaxPooling2D, Input, UpSampling2D\n",
    "from tensorflow.keras.models import Model, load_model\n",
    "from tensorflow.keras.utils import to_categorical\n",
    "import alibi\n",
    "import matplotlib\n",
    "%matplotlib inline\n",
    "import matplotlib.pyplot as plt\n",
    "import numpy as np\n",
    "import os\n",
    "from time import time\n",
    "from alibi.explainers import CounterFactualProto\n",
    "print('TF version: ', tf.__version__)\n",
    "print('Eager execution enabled: ', tf.executing_eagerly()) # False"
   ]
  },
  {
   "cell_type": "code",
   "execution_count": 2,
   "metadata": {},
   "outputs": [
    {
     "name": "stdout",
     "output_type": "stream",
     "text": [
      "0.7.0\n"
     ]
    }
   ],
   "source": [
    "print(alibi.__version__)"
   ]
  },
  {
   "cell_type": "code",
   "execution_count": 3,
   "metadata": {},
   "outputs": [
    {
     "name": "stdout",
     "output_type": "stream",
     "text": [
      "x_train shape: (60000, 28, 28) y_train shape: (60000,)\n"
     ]
    },
    {
     "data": {
      "text/plain": [
       "<Figure size 432x288 with 0 Axes>"
      ]
     },
     "metadata": {},
     "output_type": "display_data"
    }
   ],
   "source": [
    "#(x_train, y_train), (x_test, y_test) = tf.keras.datasets.fashion_mnist.load_data()\n",
    "(x_train, y_train), (x_test, y_test) = tf.keras.datasets.mnist.load_data()\n",
    "print('x_train shape:', x_train.shape, 'y_train shape:', y_train.shape)\n",
    "plt.gray()\n",
    "#plt.imshow(x_test[15]);"
   ]
  },
  {
   "cell_type": "code",
   "execution_count": 4,
   "metadata": {},
   "outputs": [
    {
     "name": "stdout",
     "output_type": "stream",
     "text": [
      "x_train shape: (60000, 28, 28, 1) x_test shape: (10000, 28, 28, 1)\n",
      "y_train shape: (60000, 10) y_test shape: (10000, 10)\n"
     ]
    }
   ],
   "source": [
    "# loading etc\n",
    "x_train = x_train.astype('float32') / 255\n",
    "x_test = x_test.astype('float32') / 255\n",
    "x_train = np.reshape(x_train, x_train.shape + (1,))\n",
    "x_test = np.reshape(x_test, x_test.shape + (1,))\n",
    "print('x_train shape:', x_train.shape, 'x_test shape:', x_test.shape)\n",
    "y_train = to_categorical(y_train)\n",
    "y_test = to_categorical(y_test)\n",
    "print('y_train shape:', y_train.shape, 'y_test shape:', y_test.shape)"
   ]
  },
  {
   "cell_type": "code",
   "execution_count": 5,
   "metadata": {},
   "outputs": [],
   "source": [
    "#normalizing\n",
    "xmin, xmax = -.5, .5\n",
    "x_train = ((x_train - x_train.min()) / (x_train.max() - x_train.min())) * (xmax - xmin) + xmin\n",
    "x_test = ((x_test - x_test.min()) / (x_test.max() - x_test.min())) * (xmax - xmin) + xmin"
   ]
  },
  {
   "cell_type": "markdown",
   "metadata": {},
   "source": [
    "### Evaluate MC-Model on Test Set"
   ]
  },
  {
   "cell_type": "code",
   "execution_count": 6,
   "metadata": {},
   "outputs": [
    {
     "name": "stderr",
     "output_type": "stream",
     "text": [
      "`Model.state_updates` will be removed in a future version. This property should not be used in TensorFlow 2.0, as `updates` are applied automatically.\n"
     ]
    },
    {
     "name": "stdout",
     "output_type": "stream",
     "text": [
      "Test accuracy:  0.9893\n"
     ]
    }
   ],
   "source": [
    "cnn=load_model('cnn_mnist.h5')\n",
    "cnn_mc = load_model('cnn_mnist_mc.h5')\n",
    "score = cnn.evaluate(x_test, y_test, verbose=0)\n",
    "print('Test accuracy: ', score[1])"
   ]
  },
  {
   "cell_type": "code",
   "execution_count": 7,
   "metadata": {},
   "outputs": [],
   "source": [
    "y_pred = cnn.predict(x_test)"
   ]
  },
  {
   "cell_type": "code",
   "execution_count": 8,
   "metadata": {},
   "outputs": [],
   "source": [
    "misclassification_indices = list(np.where(np.argmax(y_pred, axis=1) != np.argmax(y_test, axis=1))[0]) #misclassifications"
   ]
  },
  {
   "cell_type": "code",
   "execution_count": 9,
   "metadata": {},
   "outputs": [],
   "source": [
    "misclassified_images = []\n",
    "\n",
    "for index in misclassification_indices:\n",
    "    misclassified_images.append(x_test[index])\n",
    "    "
   ]
  },
  {
   "cell_type": "code",
   "execution_count": 10,
   "metadata": {},
   "outputs": [
    {
     "data": {
      "text/plain": [
       "(107, 28, 28, 1)"
      ]
     },
     "execution_count": 10,
     "metadata": {},
     "output_type": "execute_result"
    }
   ],
   "source": [
    "misclassified_images = np.array(misclassified_images)\n",
    "misclassified_images.shape #i.e network misclassifies 107 28x28 mnist images"
   ]
  },
  {
   "cell_type": "code",
   "execution_count": 11,
   "metadata": {},
   "outputs": [],
   "source": [
    "def truetest(instance):\n",
    "    plt.imshow(x_test[instance])\n",
    "    return print(\"The black-box classifier is {} % sure this is a image of a {}. True Label = {}\".format((np.round(cnn.predict(x_test[instance].reshape(1,28,28,1)).max()*100,2)), cnn.predict(x_test[instance].reshape(1,28,28,1)).argmax(), np.argmax(y_test[instance])))"
   ]
  },
  {
   "cell_type": "code",
   "execution_count": 12,
   "metadata": {},
   "outputs": [
    {
     "name": "stdout",
     "output_type": "stream",
     "text": [
      "The black-box classifier is 50.39 % sure this is a image of a 9. True Label = 7\n"
     ]
    },
    {
     "data": {
      "image/png": "[encoded data removed]",
      "text/plain": [
       "<Figure size 432x288 with 1 Axes>"
      ]
     },
     "metadata": {
      "needs_background": "light"
     },
     "output_type": "display_data"
    }
   ],
   "source": [
    "truetest(misclassification_indices[33])"
   ]
  },
  {
   "cell_type": "code",
   "execution_count": 13,
   "metadata": {},
   "outputs": [],
   "source": [
    "#np.save('misclassified_image_set.npy', misclassified_images)"
   ]
  },
  {
   "cell_type": "code",
   "execution_count": 14,
   "metadata": {},
   "outputs": [],
   "source": [
    "import scipy"
   ]
  },
  {
   "cell_type": "markdown",
   "metadata": {},
   "source": [
    "##### Screwball Un-scramble: (Randomly ordered for psychological experiment)"
   ]
  },
  {
   "cell_type": "code",
   "execution_count": 15,
   "metadata": {},
   "outputs": [],
   "source": [
    "user_explanations = np.load('user_explanations_g1.npy')\n",
    "user_explanations_g2 = np.load('user_explanations_g2.npy')"
   ]
  },
  {
   "cell_type": "code",
   "execution_count": 16,
   "metadata": {},
   "outputs": [],
   "source": [
    "misclassified_user_sample_indices = np.load('user_sample_indices.npy')\n",
    "misclassified_user_sample = np.array([x_test[index] for index in misclassified_user_sample_indices])"
   ]
  },
  {
   "cell_type": "code",
   "execution_count": 17,
   "metadata": {},
   "outputs": [],
   "source": [
    "mean_l1 = []\n",
    "mean_l2 = []\n",
    "\n",
    "for instance in range(50):\n",
    "    \n",
    "    l1=[]\n",
    "    \n",
    "    l2 = []\n",
    "    \n",
    "    for user in range(21):\n",
    "        l1.append(scipy.spatial.distance.cityblock(misclassified_user_sample[instance].flatten(), user_explanations[user][instance].flatten()))\n",
    "        l2.append(scipy.spatial.distance.euclidean(misclassified_user_sample[instance].flatten(), user_explanations[user][instance].flatten()))\n",
    "    mean_l1.append(np.mean(np.mean(l1)))\n",
    "    mean_l2.append(np.mean(np.mean(l2)))"
   ]
  },
  {
   "cell_type": "code",
   "execution_count": 18,
   "metadata": {},
   "outputs": [],
   "source": [
    "mean_l1_g2 = []\n",
    "mean_l2_g2 = []\n",
    "\n",
    "for instance in range(50):\n",
    "    \n",
    "    l1_g2=[]\n",
    "    l2_g2 = []\n",
    "    \n",
    "    for user in range(0,21):\n",
    "        l1_g2.append(scipy.spatial.distance.cityblock(misclassified_user_sample[instance].flatten(), user_explanations_g2[user][instance].flatten()))\n",
    "        l2_g2.append(scipy.spatial.distance.euclidean(misclassified_user_sample[instance].flatten(), user_explanations_g2[user][instance].flatten()))\n",
    "    mean_l1_g2.append(np.mean(np.mean(l1_g2)))\n",
    "    mean_l2_g2.append(np.mean(np.mean(l2_g2)))"
   ]
  },
  {
   "cell_type": "code",
   "execution_count": 19,
   "metadata": {},
   "outputs": [],
   "source": [
    "nun_counterfactual_user = np.load('nun_cf_mnist_user.npy')\n",
    "proto_counterfactual_user = np.load('proto_cf_mnist.npy')"
   ]
  },
  {
   "cell_type": "code",
   "execution_count": 20,
   "metadata": {},
   "outputs": [],
   "source": [
    "wachter_cf = np.load('wachter_cf.npy')\n"
   ]
  },
  {
   "cell_type": "code",
   "execution_count": 21,
   "metadata": {},
   "outputs": [],
   "source": [
    "cem_cf = np.load('../ICLR_22/CEM_mnist.npy')\n",
    "revise_cf_user = np.load('../../../../../DeDUCE-master/DeDUCE-master/REVISE_cfe.npy')\n",
    "jmsa_cf_user = np.load('../../../../../DeDUCE-master/DeDUCE-master/JMSA_cfe.npy')\n",
    "rl_cf_user = np.load('../ICLR_22/cfe_RL.npy')"
   ]
  },
  {
   "cell_type": "code",
   "execution_count": 22,
   "metadata": {},
   "outputs": [],
   "source": [
    "l1_nun_cf = []\n",
    "l1_proto_cf = []\n",
    "l1_wachter_cf = []\n",
    "l1_cem_cf = []\n",
    "l1_revise_cf = []\n",
    "\n",
    "l2_nun_cf = []\n",
    "l2_proto_cf = []\n",
    "l2_wachter_cf = []\n",
    "l2_cem_cf = []\n",
    "l2_revise_cf = []\n",
    "\n",
    "\n",
    "for image in range(0,50):\n",
    "    \n",
    "    l1_nun_cf.append(scipy.spatial.distance.cityblock(misclassified_user_sample[image].flatten(), nun_counterfactual_user[image].flatten()))\n",
    "    l1_proto_cf.append(scipy.spatial.distance.cityblock(misclassified_user_sample[image].flatten(), proto_counterfactual_user[image].flatten()))\n",
    "    l1_wachter_cf.append(scipy.spatial.distance.cityblock(misclassified_user_sample[image].flatten(), wachter_cf[image].flatten()))\n",
    "    l1_cem_cf.append(scipy.spatial.distance.cityblock(misclassified_user_sample[image].flatten(), cem_cf[image].flatten()))\n",
    "    l1_revise_cf.append(scipy.spatial.distance.cityblock(misclassified_user_sample[image].flatten(), revise_cf_user[image].flatten()))\n",
    "    \n",
    "    \n",
    "    l2_nun_cf.append(scipy.spatial.distance.euclidean(misclassified_user_sample[image].flatten(), nun_counterfactual_user[image].flatten()))\n",
    "    l2_proto_cf.append(scipy.spatial.distance.euclidean(misclassified_user_sample[image].flatten(), proto_counterfactual_user[image].flatten()))\n",
    "    l2_wachter_cf.append(scipy.spatial.distance.euclidean(misclassified_user_sample[image].flatten(), wachter_cf[image].flatten()))\n",
    "    l2_cem_cf.append(scipy.spatial.distance.euclidean(misclassified_user_sample[image].flatten(), cem_cf[image].flatten()))\n",
    "    l2_revise_cf.append(scipy.spatial.distance.euclidean(misclassified_user_sample[image].flatten(), revise_cf_user[image].flatten()))\n",
    "    "
   ]
  },
  {
   "cell_type": "code",
   "execution_count": 23,
   "metadata": {},
   "outputs": [
    {
     "data": {
      "text/plain": [
       "(52.73302, 2.178074817719709)"
      ]
     },
     "execution_count": 23,
     "metadata": {},
     "output_type": "execute_result"
    }
   ],
   "source": [
    "np.array(l1_nun_cf).mean(), scipy.stats.sem(np.array(l1_nun_cf))"
   ]
  },
  {
   "cell_type": "code",
   "execution_count": 24,
   "metadata": {},
   "outputs": [
    {
     "data": {
      "text/plain": [
       "(9.804865, 1.1464483623323267)"
      ]
     },
     "execution_count": 24,
     "metadata": {},
     "output_type": "execute_result"
    }
   ],
   "source": [
    "np.array(l1_proto_cf).mean(), scipy.stats.sem(np.array(l1_proto_cf))"
   ]
  },
  {
   "cell_type": "code",
   "execution_count": 25,
   "metadata": {},
   "outputs": [
    {
     "data": {
      "text/plain": [
       "(31.027685, 1.1062399991131033)"
      ]
     },
     "execution_count": 25,
     "metadata": {},
     "output_type": "execute_result"
    }
   ],
   "source": [
    "np.array(mean_l1).mean(), scipy.stats.sem(np.array(mean_l1))"
   ]
  },
  {
   "cell_type": "markdown",
   "metadata": {},
   "source": [
    "#### Plot"
   ]
  },
  {
   "cell_type": "code",
   "execution_count": 26,
   "metadata": {},
   "outputs": [],
   "source": [
    "aluminum_mean = np.array(l1_nun_cf).mean()\n",
    "copper_mean = np.array(l1_proto_cf).mean()\n",
    "steel_mean = np.array(mean_l1).mean()\n",
    "gold_mean = np.array(mean_l1_g2).mean()\n",
    "iron_mean = np.array(l1_wachter_cf).mean()\n",
    "tin_mean = np.array(l1_cem_cf).mean()\n",
    "\n",
    "revise_mean = np.array(l1_revise_cf).mean()\n",
    "\n",
    "aluminum_std = np.array(l1_nun_cf).std()\n",
    "copper_std = np.array(l1_proto_cf).std()\n",
    "steel_std = np.array(mean_l1).std()\n",
    "gold_std = np.array(mean_l1_g2).std()\n",
    "iron_std = np.array(l1_wachter_cf).std()\n",
    "tin_std = np.array(l1_cem_cf).std()\n",
    "\n",
    "aluminum_sem = scipy.stats.sem(np.array(l1_nun_cf))\n",
    "copper_sem = scipy.stats.sem(np.array(l1_proto_cf))\n",
    "steel_sem = scipy.stats.sem(np.array(mean_l1))\n",
    "gold_sem = scipy.stats.sem(np.array(mean_l1_g2))\n",
    "iron_sem = scipy.stats.sem(np.array(l1_wachter_cf))\n",
    "tin_sem = scipy.stats.sem(np.array(l1_cem_cf))\n",
    "\n",
    "revise_sem = scipy.stats.sem(np.array(l1_revise_cf))"
   ]
  },
  {
   "cell_type": "code",
   "execution_count": 27,
   "metadata": {},
   "outputs": [],
   "source": [
    "materials = ['Min-Edit', 'CEM-PN', 'VLK', 'Revise', 'Human']\n",
    "x_pos = np.arange(len(materials))\n",
    "CTEs = [iron_mean, tin_mean, copper_mean, revise_mean, steel_mean]\n",
    "error = [iron_sem, tin_sem, copper_sem, revise_sem, steel_sem]"
   ]
  },
  {
   "cell_type": "code",
   "execution_count": 28,
   "metadata": {},
   "outputs": [
    {
     "data": {
      "image/png": "[encoded data removed]",
      "text/plain": [
       "<Figure size 432x288 with 1 Axes>"
      ]
     },
     "metadata": {
      "needs_background": "light"
     },
     "output_type": "display_data"
    }
   ],
   "source": [
    "# Build the plot\n",
    "fig, ax = plt.subplots()\n",
    "ax.bar(x_pos, CTEs, yerr=error, align='center', alpha=0.5, ecolor='black', capsize=10)\n",
    "ax.set_ylabel('Mean Manhattan Distance between Query and CF', fontsize=10)\n",
    "ax.set_xticks(x_pos)\n",
    "ax.set_xticklabels(materials)\n",
    "ax.set_title('Mean L1 Distance between Query and CF', fontsize = 14)\n",
    "ax.yaxis.grid(True)\n",
    "\n",
    "plt.axvline(x = 3.5, color = 'r', linestyle= '--')\n",
    "\n",
    "# Save the figure and show\n",
    "plt.tight_layout()\n",
    "#plt.savefig('bar_plot_with_error_bars.pdf')\n",
    "plt.show()"
   ]
  },
  {
   "cell_type": "markdown",
   "metadata": {},
   "source": [
    "#### Euclidean Plots"
   ]
  },
  {
   "cell_type": "code",
   "execution_count": 29,
   "metadata": {},
   "outputs": [],
   "source": [
    "aluminum_mean = np.array(l2_nun_cf).mean()\n",
    "copper_mean = np.array(l2_proto_cf).mean()\n",
    "steel_mean = np.array(mean_l2).mean()\n",
    "gold_mean = np.array(mean_l2_g2).mean()\n",
    "iron_mean = np.array(l2_wachter_cf).mean()\n",
    "tin_mean = np.array(l2_cem_cf).mean()\n",
    "revise_mean = np.array(l2_revise_cf).mean()\n",
    "\n",
    "\n",
    "\n",
    "aluminum_sem = scipy.stats.sem(np.array(l2_nun_cf))\n",
    "copper_sem = scipy.stats.sem(np.array(l2_proto_cf))\n",
    "steel_sem = scipy.stats.sem(np.array(mean_l2))\n",
    "gold_sem = scipy.stats.sem(np.array(mean_l2_g2))\n",
    "iron_sem = scipy.stats.sem(np.array(l2_wachter_cf))\n",
    "tin_sem = scipy.stats.sem(np.array(l2_cem_cf))\n",
    "revise_sem = scipy.stats.sem(np.array(l2_revise_cf))"
   ]
  },
  {
   "cell_type": "code",
   "execution_count": 30,
   "metadata": {},
   "outputs": [
    {
     "data": {
      "text/plain": [
       "3.3805479130858465"
      ]
     },
     "execution_count": 30,
     "metadata": {},
     "output_type": "execute_result"
    }
   ],
   "source": [
    "gold_mean"
   ]
  },
  {
   "cell_type": "code",
   "execution_count": 31,
   "metadata": {},
   "outputs": [],
   "source": [
    "materials = ['Min-Edit', 'CEM-PN', 'VLK', 'Revise', 'Human']\n",
    "x_pos = np.arange(len(materials))\n",
    "CTEs = [iron_mean, tin_mean, copper_mean, revise_mean, steel_mean]\n",
    "error = [iron_sem, tin_sem, copper_sem, revise_sem, steel_sem]"
   ]
  },
  {
   "cell_type": "code",
   "execution_count": 32,
   "metadata": {},
   "outputs": [
    {
     "data": {
      "image/png": "[encoded data removed]",
      "text/plain": [
       "<Figure size 432x288 with 1 Axes>"
      ]
     },
     "metadata": {
      "needs_background": "light"
     },
     "output_type": "display_data"
    }
   ],
   "source": [
    "# Build the plot\n",
    "fig, ax = plt.subplots()\n",
    "ax.bar(x_pos, CTEs, yerr=error, align='center', alpha=0.5, ecolor='black', capsize=10, color='red')\n",
    "ax.set_ylabel('Mean L2 Distance between Query and CF', fontsize=10)\n",
    "ax.set_xticks(x_pos)\n",
    "ax.set_xticklabels(materials)\n",
    "ax.set_title('Mean L2 Distance between Query and CF', fontsize = 14)\n",
    "ax.yaxis.grid(True)\n",
    "\n",
    "plt.axvline(x = 3.5, color = 'r', linestyle= '--')\n",
    "# Save the figure and show\n",
    "plt.tight_layout()\n",
    "#plt.savefig('bar_plot_with_error_bars_euclidean.pdf')\n",
    "plt.show()"
   ]
  },
  {
   "cell_type": "markdown",
   "metadata": {},
   "source": [
    "#### Anova Testing with holm adjustment"
   ]
  },
  {
   "cell_type": "code",
   "execution_count": 33,
   "metadata": {},
   "outputs": [],
   "source": [
    "import scipy.stats as stats\n",
    "import scikit_posthocs as sp"
   ]
  },
  {
   "cell_type": "markdown",
   "metadata": {},
   "source": [
    "##### L1 - Manhatten Distance"
   ]
  },
  {
   "cell_type": "code",
   "execution_count": 34,
   "metadata": {},
   "outputs": [],
   "source": [
    "#fvalue, pvalue = stats.f_oneway(np.array(l1_wachter_cf), np.array(l1_cem_cf), np.array(l1_proto_cf),\n",
    "#                                np.array(mean_l1),np.array(mean_l1_g2),np.array(l1_revise_cf))\n",
    "#print(fvalue, pvalue)"
   ]
  },
  {
   "cell_type": "code",
   "execution_count": 35,
   "metadata": {},
   "outputs": [
    {
     "name": "stdout",
     "output_type": "stream",
     "text": [
      "331.8053132367962 1.3142165648777758e-97\n"
     ]
    }
   ],
   "source": [
    "fvalue, pvalue = stats.f_oneway(np.array(l1_wachter_cf), np.array(l1_cem_cf), np.array(l1_proto_cf),\n",
    "                                np.array(mean_l1), np.array(l1_revise_cf))\n",
    "print(fvalue, pvalue)"
   ]
  },
  {
   "cell_type": "code",
   "execution_count": 36,
   "metadata": {},
   "outputs": [
    {
     "data": {
      "text/html": [
       "<div>\n",
       "<style scoped>\n",
       "    .dataframe tbody tr th:only-of-type {\n",
       "        vertical-align: middle;\n",
       "    }\n",
       "\n",
       "    .dataframe tbody tr th {\n",
       "        vertical-align: top;\n",
       "    }\n",
       "\n",
       "    .dataframe thead th {\n",
       "        text-align: right;\n",
       "    }\n",
       "</style>\n",
       "<table border=\"1\" class=\"dataframe\">\n",
       "  <thead>\n",
       "    <tr style=\"text-align: right;\">\n",
       "      <th></th>\n",
       "      <th>1</th>\n",
       "      <th>2</th>\n",
       "      <th>3</th>\n",
       "      <th>4</th>\n",
       "      <th>5</th>\n",
       "    </tr>\n",
       "  </thead>\n",
       "  <tbody>\n",
       "    <tr>\n",
       "      <th>1</th>\n",
       "      <td>1.000000e+00</td>\n",
       "      <td>3.473416e-04</td>\n",
       "      <td>4.962220e-16</td>\n",
       "      <td>1.223931e-52</td>\n",
       "      <td>2.925997e-68</td>\n",
       "    </tr>\n",
       "    <tr>\n",
       "      <th>2</th>\n",
       "      <td>3.473416e-04</td>\n",
       "      <td>1.000000e+00</td>\n",
       "      <td>8.738446e-07</td>\n",
       "      <td>1.739614e-40</td>\n",
       "      <td>7.611792e-57</td>\n",
       "    </tr>\n",
       "    <tr>\n",
       "      <th>3</th>\n",
       "      <td>4.962220e-16</td>\n",
       "      <td>8.738446e-07</td>\n",
       "      <td>1.000000e+00</td>\n",
       "      <td>7.145355e-23</td>\n",
       "      <td>2.299800e-39</td>\n",
       "    </tr>\n",
       "    <tr>\n",
       "      <th>4</th>\n",
       "      <td>1.223931e-52</td>\n",
       "      <td>1.739614e-40</td>\n",
       "      <td>7.145355e-23</td>\n",
       "      <td>1.000000e+00</td>\n",
       "      <td>3.077233e-06</td>\n",
       "    </tr>\n",
       "    <tr>\n",
       "      <th>5</th>\n",
       "      <td>2.925997e-68</td>\n",
       "      <td>7.611792e-57</td>\n",
       "      <td>2.299800e-39</td>\n",
       "      <td>3.077233e-06</td>\n",
       "      <td>1.000000e+00</td>\n",
       "    </tr>\n",
       "  </tbody>\n",
       "</table>\n",
       "</div>"
      ],
      "text/plain": [
       "              1             2             3             4             5\n",
       "1  1.000000e+00  3.473416e-04  4.962220e-16  1.223931e-52  2.925997e-68\n",
       "2  3.473416e-04  1.000000e+00  8.738446e-07  1.739614e-40  7.611792e-57\n",
       "3  4.962220e-16  8.738446e-07  1.000000e+00  7.145355e-23  2.299800e-39\n",
       "4  1.223931e-52  1.739614e-40  7.145355e-23  1.000000e+00  3.077233e-06\n",
       "5  2.925997e-68  7.611792e-57  2.299800e-39  3.077233e-06  1.000000e+00"
      ]
     },
     "execution_count": 36,
     "metadata": {},
     "output_type": "execute_result"
    }
   ],
   "source": [
    "sp.posthoc_conover([np.array(l1_wachter_cf), np.array(l1_cem_cf), np.array(l1_proto_cf),\n",
    "                                np.array(mean_l1),np.array(l1_revise_cf)], p_adjust='holm')"
   ]
  },
  {
   "cell_type": "markdown",
   "metadata": {},
   "source": [
    "##### L2 - Euclidean Distance"
   ]
  },
  {
   "cell_type": "code",
   "execution_count": 37,
   "metadata": {},
   "outputs": [
    {
     "name": "stdout",
     "output_type": "stream",
     "text": [
      "314.13840171229964 3.644051400397814e-95\n"
     ]
    }
   ],
   "source": [
    "fvalue, pvalue = stats.f_oneway(np.array(l2_wachter_cf), np.array(l2_cem_cf), np.array(l2_proto_cf),\n",
    "                                np.array(mean_l2),np.array(l2_revise_cf))\n",
    "print(fvalue, pvalue)"
   ]
  },
  {
   "cell_type": "code",
   "execution_count": 38,
   "metadata": {},
   "outputs": [
    {
     "data": {
      "text/html": [
       "<div>\n",
       "<style scoped>\n",
       "    .dataframe tbody tr th:only-of-type {\n",
       "        vertical-align: middle;\n",
       "    }\n",
       "\n",
       "    .dataframe tbody tr th {\n",
       "        vertical-align: top;\n",
       "    }\n",
       "\n",
       "    .dataframe thead th {\n",
       "        text-align: right;\n",
       "    }\n",
       "</style>\n",
       "<table border=\"1\" class=\"dataframe\">\n",
       "  <thead>\n",
       "    <tr style=\"text-align: right;\">\n",
       "      <th></th>\n",
       "      <th>1</th>\n",
       "      <th>2</th>\n",
       "      <th>3</th>\n",
       "      <th>4</th>\n",
       "      <th>5</th>\n",
       "    </tr>\n",
       "  </thead>\n",
       "  <tbody>\n",
       "    <tr>\n",
       "      <th>1</th>\n",
       "      <td>1.000000e+00</td>\n",
       "      <td>1.182753e-08</td>\n",
       "      <td>4.972095e-19</td>\n",
       "      <td>2.541013e-65</td>\n",
       "      <td>3.774544e-63</td>\n",
       "    </tr>\n",
       "    <tr>\n",
       "      <th>2</th>\n",
       "      <td>1.182753e-08</td>\n",
       "      <td>1.000000e+00</td>\n",
       "      <td>3.862571e-04</td>\n",
       "      <td>1.653271e-45</td>\n",
       "      <td>3.610290e-43</td>\n",
       "    </tr>\n",
       "    <tr>\n",
       "      <th>3</th>\n",
       "      <td>4.972095e-19</td>\n",
       "      <td>3.862571e-04</td>\n",
       "      <td>1.000000e+00</td>\n",
       "      <td>9.471447e-33</td>\n",
       "      <td>1.972536e-30</td>\n",
       "    </tr>\n",
       "    <tr>\n",
       "      <th>4</th>\n",
       "      <td>2.541013e-65</td>\n",
       "      <td>1.653271e-45</td>\n",
       "      <td>9.471447e-33</td>\n",
       "      <td>1.000000e+00</td>\n",
       "      <td>4.798065e-01</td>\n",
       "    </tr>\n",
       "    <tr>\n",
       "      <th>5</th>\n",
       "      <td>3.774544e-63</td>\n",
       "      <td>3.610290e-43</td>\n",
       "      <td>1.972536e-30</td>\n",
       "      <td>4.798065e-01</td>\n",
       "      <td>1.000000e+00</td>\n",
       "    </tr>\n",
       "  </tbody>\n",
       "</table>\n",
       "</div>"
      ],
      "text/plain": [
       "              1             2             3             4             5\n",
       "1  1.000000e+00  1.182753e-08  4.972095e-19  2.541013e-65  3.774544e-63\n",
       "2  1.182753e-08  1.000000e+00  3.862571e-04  1.653271e-45  3.610290e-43\n",
       "3  4.972095e-19  3.862571e-04  1.000000e+00  9.471447e-33  1.972536e-30\n",
       "4  2.541013e-65  1.653271e-45  9.471447e-33  1.000000e+00  4.798065e-01\n",
       "5  3.774544e-63  3.610290e-43  1.972536e-30  4.798065e-01  1.000000e+00"
      ]
     },
     "execution_count": 38,
     "metadata": {},
     "output_type": "execute_result"
    }
   ],
   "source": [
    "sp.posthoc_conover([np.array(l2_wachter_cf), np.array(l2_cem_cf), np.array(l2_proto_cf),\n",
    "                                np.array(mean_l2),np.array(l2_revise_cf)], p_adjust='holm')"
   ]
  },
  {
   "cell_type": "code",
   "execution_count": 39,
   "metadata": {},
   "outputs": [
    {
     "data": {
      "image/png": "[encoded data removed]",
      "text/plain": [
       "<Figure size 432x288 with 8 Axes>"
      ]
     },
     "metadata": {
      "needs_background": "light"
     },
     "output_type": "display_data"
    }
   ],
   "source": [
    "f, axarr = plt.subplots(nrows=2,ncols=4)\n",
    "plt.sca(axarr[0,0]); \n",
    "plt.imshow(misclassified_user_sample[43]); plt.title('Query')\n",
    "plt.sca(axarr[0,1]); \n",
    "plt.imshow(nun_counterfactual_user[43]); plt.title('NUN')\n",
    "plt.sca(axarr[0,2]); \n",
    "plt.imshow(proto_counterfactual_user[43]); plt.title('VLK'); \n",
    "plt.sca(axarr[0,3]); \n",
    "plt.imshow(user_explanations[0][43]); plt.title('User A'); \n",
    "\n",
    "plt.sca(axarr[1,0]); \n",
    "plt.imshow(user_explanations[1][43]); plt.title('User B'); \n",
    "plt.sca(axarr[1,1]); \n",
    "plt.imshow(user_explanations[2][43]); plt.title('User C'); \n",
    "plt.sca(axarr[1,2]); \n",
    "plt.imshow(user_explanations[3][43]); plt.title('User D'); \n",
    "plt.sca(axarr[1,3]); \n",
    "plt.imshow(user_explanations[4][43]); plt.title('User E'); \n",
    "plt.show()"
   ]
  },
  {
   "cell_type": "code",
   "execution_count": 40,
   "metadata": {},
   "outputs": [],
   "source": [
    "user_mean_l1_g1 = []\n",
    "\n",
    "for user in range(21):\n",
    "    \n",
    "    l1=[]\n",
    "    \n",
    "    for image in range(50):\n",
    "        l1.append(scipy.spatial.distance.cityblock(misclassified_user_sample[image].flatten(), user_explanations[user][image].flatten()))\n",
    "        # l1.append(sum(abs(misclassified_user_sample[image].flatten() - user_explanations[user][image].flatten())))\n",
    "    user_mean_l1_g1.append((np.mean(l1)))\n",
    "    \n",
    "user_mean_l1_g1 = np.array(user_mean_l1_g1)"
   ]
  },
  {
   "cell_type": "code",
   "execution_count": 41,
   "metadata": {},
   "outputs": [],
   "source": [
    "user_mean_l1_g2 = []\n",
    "\n",
    "for user in range(21):\n",
    "    \n",
    "    l1_g2=[]\n",
    "    \n",
    "    for image in range(50):\n",
    "        l1_g2.append(scipy.spatial.distance.cityblock(misclassified_user_sample[image].flatten(), user_explanations_g2[user][image].flatten()))\n",
    "        #l1_g2.append(sum(abs(misclassified_user_sample[image].flatten() - user_explanations_g2[user][image].flatten())) / misclassified_user_sample[image].flatten().size)\n",
    "    user_mean_l1_g2.append((np.mean(l1_g2)))\n",
    "    \n",
    "user_mean_l1_g2 = np.array(user_mean_l1_g2)"
   ]
  },
  {
   "cell_type": "code",
   "execution_count": 42,
   "metadata": {},
   "outputs": [
    {
     "data": {
      "text/plain": [
       "(array([33.324234, 25.035294, 29.69498 , 31.906584, 25.436783, 27.086826,\n",
       "        31.304   , 27.08596 , 34.34667 , 29.561256, 25.238588, 49.61945 ,\n",
       "        41.316788, 31.328943, 23.574743, 39.657097, 36.075294, 27.629253,\n",
       "        30.900864, 22.644157, 28.81365 ], dtype=float32),\n",
       " array([24.62039 , 38.428   , 24.457884, 27.188862, 20.403843, 21.942432,\n",
       "        32.035374, 18.980312, 27.953333, 19.851374, 19.959608, 20.172157,\n",
       "        25.651768, 24.40353 , 21.622038, 24.289726, 20.394352, 18.997334,\n",
       "        32.696075, 25.84455 , 31.858192], dtype=float32))"
      ]
     },
     "execution_count": 42,
     "metadata": {},
     "output_type": "execute_result"
    }
   ],
   "source": [
    "user_mean_l1_g1, user_mean_l1_g2"
   ]
  },
  {
   "cell_type": "code",
   "execution_count": 43,
   "metadata": {},
   "outputs": [],
   "source": [
    "km_prototypes = np.load('prototypes_mnist_kmedoids.npy')"
   ]
  },
  {
   "cell_type": "code",
   "execution_count": 44,
   "metadata": {},
   "outputs": [],
   "source": [
    "mmd_pixel_prototype_indices = np.load('../../../../../MMD-critic/prototype_indices_mmd_pixel_local.npy')\n",
    "mmd_pixel_criticism_indices = np.load('../../../../../MMD-critic/criticism_indices_mmd_pixel_local.npy')"
   ]
  },
  {
   "cell_type": "code",
   "execution_count": 45,
   "metadata": {},
   "outputs": [
    {
     "data": {
      "text/plain": [
       "(array([3847, 3031, 3805, 1627, 2188, 3472, 3136, 4582, 4550, 4629],\n",
       "       dtype=int64),\n",
       " array([ 561, 1311, 5077, 4077,  303, 3226,  957, 5080, 3293, 5811],\n",
       "       dtype=int64))"
      ]
     },
     "execution_count": 45,
     "metadata": {},
     "output_type": "execute_result"
    }
   ],
   "source": [
    "mmd_pixel_prototype_indices[0], mmd_pixel_criticism_indices[0]"
   ]
  },
  {
   "cell_type": "code",
   "execution_count": 46,
   "metadata": {},
   "outputs": [],
   "source": [
    "training_indices_mmd_proto = []\n",
    "training_indices_mmd_criticism = []\n",
    "\n",
    "for class_label in range(10):\n",
    "    \n",
    "    training_indices_mmd_proto.append([np.where(np.argmax(y_train,axis=1)==class_label)[0][index] for index in mmd_pixel_prototype_indices[class_label]])\n",
    "    training_indices_mmd_criticism.append([np.where(np.argmax(y_train,axis=1)==class_label)[0][index] for index in mmd_pixel_criticism_indices[class_label]])\n",
    "\n",
    "training_indices_mmd_proto = np.array(training_indices_mmd_proto)\n",
    "training_indices_mmd_criticism = np.array(training_indices_mmd_criticism)\n"
   ]
  },
  {
   "cell_type": "code",
   "execution_count": 47,
   "metadata": {},
   "outputs": [],
   "source": [
    "mmd_pixel_prototypes = []\n",
    "mmd_pixel_criticisms = []\n",
    "\n",
    "for class_label in range(10):\n",
    "    \n",
    "    mmd_pixel_prototypes.append([x_train[index] for index in training_indices_mmd_proto[class_label]])\n",
    "    \n",
    "    mmd_pixel_criticisms.append([x_train[index] for index in training_indices_mmd_criticism[class_label]])\n",
    "    \n",
    "mmd_pixel_prototypes = np.array(mmd_pixel_prototypes)\n",
    "mmd_pixel_criticisms = np.array(mmd_pixel_criticisms)"
   ]
  },
  {
   "cell_type": "code",
   "execution_count": 48,
   "metadata": {},
   "outputs": [
    {
     "data": {
      "text/plain": [
       "((10, 10, 28, 28, 1), (10, 10, 28, 28, 1))"
      ]
     },
     "execution_count": 48,
     "metadata": {},
     "output_type": "execute_result"
    }
   ],
   "source": [
    "mmd_pixel_prototypes.shape, mmd_pixel_criticisms.shape"
   ]
  },
  {
   "cell_type": "markdown",
   "metadata": {},
   "source": [
    "#### Distances"
   ]
  },
  {
   "cell_type": "code",
   "execution_count": 49,
   "metadata": {},
   "outputs": [],
   "source": [
    "user_indices = np.load('user_indices_mnist.npy')"
   ]
  },
  {
   "cell_type": "code",
   "execution_count": 50,
   "metadata": {},
   "outputs": [
    {
     "data": {
      "text/plain": [
       "array([ 259,  321,  445,  582,  717,  740,  882,  883, 1014, 1226, 1232,\n",
       "       1260, 1364, 1393, 1621, 1681, 1878, 1901, 2070, 2148, 2293, 2414,\n",
       "       2454, 2597, 2654, 3289, 3422, 3780, 3808, 3941, 4007, 4065, 4536,\n",
       "       4571, 4740, 4823, 4860, 4956, 5937, 5997, 6571, 6576, 6597, 6625,\n",
       "       6651, 8408, 9015, 9642, 9692, 9839], dtype=int64)"
      ]
     },
     "execution_count": 50,
     "metadata": {},
     "output_type": "execute_result"
    }
   ],
   "source": [
    "user_indices"
   ]
  },
  {
   "cell_type": "code",
   "execution_count": 51,
   "metadata": {},
   "outputs": [],
   "source": [
    "true_labels_user = np.array([np.argmax(y_test, axis=1)[index] for index in user_indices])"
   ]
  },
  {
   "cell_type": "code",
   "execution_count": 52,
   "metadata": {},
   "outputs": [
    {
     "data": {
      "text/plain": [
       "array([6, 2, 6, 8, 0, 4, 9, 3, 6, 7, 9, 7, 8, 5, 0, 3, 8, 9, 7, 4, 9, 9,\n",
       "       6, 5, 6, 8, 6, 4, 7, 4, 7, 0, 6, 6, 3, 9, 4, 8, 5, 5, 9, 7, 0, 8,\n",
       "       0, 8, 7, 9, 9, 2], dtype=int64)"
      ]
     },
     "execution_count": 52,
     "metadata": {},
     "output_type": "execute_result"
    }
   ],
   "source": [
    "true_labels_user"
   ]
  },
  {
   "cell_type": "code",
   "execution_count": 53,
   "metadata": {},
   "outputs": [],
   "source": [
    "test_labels_user_images = true_labels_user"
   ]
  },
  {
   "cell_type": "code",
   "execution_count": 54,
   "metadata": {},
   "outputs": [
    {
     "data": {
      "text/plain": [
       "(10, 28, 28, 1)"
      ]
     },
     "execution_count": 54,
     "metadata": {},
     "output_type": "execute_result"
    }
   ],
   "source": [
    "km_prototypes[6].shape"
   ]
  },
  {
   "cell_type": "code",
   "execution_count": 55,
   "metadata": {},
   "outputs": [
    {
     "data": {
      "text/plain": [
       "(50, 28, 28, 1)"
      ]
     },
     "execution_count": 55,
     "metadata": {},
     "output_type": "execute_result"
    }
   ],
   "source": [
    "user_explanations[0].shape"
   ]
  },
  {
   "cell_type": "code",
   "execution_count": 56,
   "metadata": {},
   "outputs": [],
   "source": [
    "def distance_proto(method):\n",
    "\n",
    "    distances_min = []\n",
    "\n",
    "    for image in range(50):\n",
    "\n",
    "        distances = []\n",
    "        for prototype in range(10):\n",
    "\n",
    "            distances.append(scipy.spatial.distance.euclidean(method[image].flatten(), mmd_pixel_prototypes[test_labels_user_images[image]][prototype].flatten()))\n",
    "\n",
    "        distances_min.append(np.array(distances).min())\n",
    "\n",
    "    distances_min = np.array(distances_min)\n",
    "    \n",
    "    return distances_min\n",
    "    "
   ]
  },
  {
   "cell_type": "code",
   "execution_count": 57,
   "metadata": {},
   "outputs": [],
   "source": [
    "def distance_proto(image_set_a, image_set_b, distance_function):\n",
    "\n",
    "    distances_min = []\n",
    "\n",
    "    for image in range(50):\n",
    "\n",
    "        distances = []\n",
    "        for prototype in range(1):\n",
    "            \n",
    "            if distance_function == 'euclidean':\n",
    "                \n",
    "                distances.append(scipy.spatial.distance.euclidean(image_set_a[image].flatten(), image_set_b[test_labels_user_images[image]][prototype].flatten()))\n",
    "                \n",
    "            elif distance_function == 'manhattan':\n",
    "                distances.append(scipy.spatial.distance.cityblock(image_set_a[image].flatten(), image_set_b[test_labels_user_images[image]][prototype].flatten()))\n",
    "                \n",
    "            elif distance_function =='ssim':\n",
    "                distances.append(ssim(image_set_a[image].flatten(), image_set_b[test_labels_user_images[image]][prototype].flatten()))\n",
    "                \n",
    "        distances_min.append(np.array(distances).min())\n",
    "\n",
    "    distances_min = np.array(distances_min)\n",
    "    \n",
    "    return distances_min\n",
    "    "
   ]
  },
  {
   "cell_type": "markdown",
   "metadata": {},
   "source": [
    "### CNN + MC Dropout\n",
    "\n",
    "Lets use Monte Carlo Dropout to assess model uncertainty --- "
   ]
  },
  {
   "cell_type": "code",
   "execution_count": 58,
   "metadata": {},
   "outputs": [],
   "source": [
    "G1_centroids = np.load('G1_centroids.npy')\n",
    "G2_centroids = np.load('G2_centroids.npy')"
   ]
  },
  {
   "cell_type": "code",
   "execution_count": 59,
   "metadata": {},
   "outputs": [],
   "source": [
    "nun_cf_user = np.load('nun_cf_mnist_user.npy')\n",
    "vlk_cf_user = np.load('proto_cf_mnist.npy')\n",
    "revise_cf_user = np.load('../../../../../DeDUCE-master/DeDUCE-master/REVISE_cfe.npy')\n",
    "jmsa_cf_user = np.load('../../../../../DeDUCE-master/DeDUCE-master/JMSA_cfe.npy')\n",
    "rl_cf_user = np.load('../ICLR_22/cfe_RL.npy')"
   ]
  },
  {
   "cell_type": "code",
   "execution_count": 60,
   "metadata": {},
   "outputs": [
    {
     "name": "stderr",
     "output_type": "stream",
     "text": [
      "`Model.state_updates` will be removed in a future version. This property should not be used in TensorFlow 2.0, as `updates` are applied automatically.\n"
     ]
    },
    {
     "data": {
      "text/plain": [
       "array([0, 7, 6, 3, 0, 4, 9, 3, 5, 1, 9, 1, 2, 3, 0, 7, 3, 4, 7, 9, 0, 1,\n",
       "       5, 5, 1, 8, 6, 4, 7, 4, 7, 1, 8, 8, 9, 9, 4, 9, 5, 5, 9, 1, 3, 4,\n",
       "       1, 5, 7, 7, 9, 7], dtype=int64)"
      ]
     },
     "execution_count": 60,
     "metadata": {},
     "output_type": "execute_result"
    }
   ],
   "source": [
    "np.argmax(cnn_mc.predict(revise_cf_user.reshape(50,28,28,1)), axis=1)"
   ]
  },
  {
   "cell_type": "code",
   "execution_count": 61,
   "metadata": {},
   "outputs": [
    {
     "name": "stderr",
     "output_type": "stream",
     "text": [
      "100%|█████████████████████████████████████████████████████████████████████████████████████████████████████████████████████████████████████████████████████████████████████████████████████████████████████| 100/100 [00:04<00:00, 20.79it/s]\n"
     ]
    }
   ],
   "source": [
    "import tqdm\n",
    "\n",
    "mc_predictions = []\n",
    "for i in tqdm.tqdm(range(100)):\n",
    "    y_p = cnn_mc.predict(G1_centroids.reshape(50,28,28,1), batch_size=1)\n",
    "    mc_predictions.append(y_p)"
   ]
  },
  {
   "cell_type": "code",
   "execution_count": 62,
   "metadata": {},
   "outputs": [
    {
     "data": {
      "text/plain": [
       "(100, 50, 10)"
      ]
     },
     "execution_count": 62,
     "metadata": {},
     "output_type": "execute_result"
    }
   ],
   "source": [
    "np.array(mc_predictions).shape"
   ]
  },
  {
   "cell_type": "code",
   "execution_count": 63,
   "metadata": {},
   "outputs": [],
   "source": [
    "mean_mc = []\n",
    "\n",
    "std_mc = []\n",
    "\n",
    "for image in range(50):\n",
    "    \n",
    "    softmax_prediction_label = []\n",
    "    \n",
    "    for sample in range(100):\n",
    "        \n",
    "        softmax_prediction_label.append(np.array(mc_predictions[sample][image][true_labels_user[image]]))\n",
    "        \n",
    "    mean_mc.append(np.array(softmax_prediction_label).mean())\n",
    "    std_mc.append(np.array(softmax_prediction_label).std())\n",
    "        \n",
    "    \n",
    "    \n"
   ]
  },
  {
   "cell_type": "code",
   "execution_count": 64,
   "metadata": {},
   "outputs": [],
   "source": [
    "def Monte_Carlo_Uncertainty(cf_batch):\n",
    "    \n",
    "    mc_predictions = []\n",
    "    \n",
    "    for i in tqdm.tqdm(range(100)):\n",
    "        \n",
    "        y_p = cnn_mc.predict(cf_batch.reshape(50,28,28,1), batch_size=1)\n",
    "        mc_predictions.append(y_p)\n",
    "        \n",
    "        \n",
    "    mean_mc = []\n",
    "    \n",
    "    std_mc = []\n",
    "    \n",
    "    for image in range(50):\n",
    "        \n",
    "        softmax_prediction_label = []\n",
    "        \n",
    "        for sample in range(100):\n",
    "            \n",
    "            softmax_prediction_label.append(np.array(mc_predictions[sample][image][true_labels_user[image]]))\n",
    "    \n",
    "    mean_mc.append(np.array(softmax_prediction_label).mean())\n",
    "    std_mc.append(np.array(softmax_prediction_label).std())\n",
    "    \n",
    "    \n",
    "    return np.mean(mean_mc), np.mean(std_mc)\n",
    "    \n",
    "    \n",
    "    "
   ]
  },
  {
   "cell_type": "code",
   "execution_count": 65,
   "metadata": {},
   "outputs": [
    {
     "name": "stderr",
     "output_type": "stream",
     "text": [
      "100%|█████████████████████████████████████████████████████████████████████████████████████████████████████████████████████████████████████████████████████████████████████████████████████████████████████| 100/100 [00:04<00:00, 21.01it/s]\n"
     ]
    },
    {
     "data": {
      "text/plain": [
       "(0.93950087, 0.10687759)"
      ]
     },
     "execution_count": 65,
     "metadata": {},
     "output_type": "execute_result"
    }
   ],
   "source": [
    "Monte_Carlo_Uncertainty(G1_centroids.reshape(50,28,28,1))"
   ]
  },
  {
   "cell_type": "code",
   "execution_count": 66,
   "metadata": {},
   "outputs": [
    {
     "name": "stderr",
     "output_type": "stream",
     "text": [
      "100%|█████████████████████████████████████████████████████████████████████████████████████████████████████████████████████████████████████████████████████████████████████████████████████████████████████| 100/100 [00:04<00:00, 21.00it/s]\n"
     ]
    },
    {
     "data": {
      "text/plain": [
       "(0.6550625, 0.3005127)"
      ]
     },
     "execution_count": 66,
     "metadata": {},
     "output_type": "execute_result"
    }
   ],
   "source": [
    "Monte_Carlo_Uncertainty(vlk_cf_user.reshape(50,28,28,1))"
   ]
  },
  {
   "cell_type": "code",
   "execution_count": 67,
   "metadata": {},
   "outputs": [
    {
     "name": "stderr",
     "output_type": "stream",
     "text": [
      "100%|█████████████████████████████████████████████████████████████████████████████████████████████████████████████████████████████████████████████████████████████████████████████████████████████████████| 100/100 [00:04<00:00, 20.92it/s]\n"
     ]
    },
    {
     "data": {
      "text/plain": [
       "(0.32933915, 0.22924376)"
      ]
     },
     "execution_count": 67,
     "metadata": {},
     "output_type": "execute_result"
    }
   ],
   "source": [
    "Monte_Carlo_Uncertainty(revise_cf_user.reshape(50,28,28,1))"
   ]
  },
  {
   "cell_type": "code",
   "execution_count": 68,
   "metadata": {},
   "outputs": [
    {
     "name": "stderr",
     "output_type": "stream",
     "text": [
      "100%|█████████████████████████████████████████████████████████████████████████████████████████████████████████████████████████████████████████████████████████████████████████████████████████████████████| 100/100 [00:04<00:00, 21.01it/s]\n"
     ]
    },
    {
     "data": {
      "text/plain": [
       "(0.61681277, 0.33323795)"
      ]
     },
     "execution_count": 68,
     "metadata": {},
     "output_type": "execute_result"
    }
   ],
   "source": [
    "Monte_Carlo_Uncertainty(wachter_cf.reshape(50,28,28,1))"
   ]
  },
  {
   "cell_type": "code",
   "execution_count": 69,
   "metadata": {},
   "outputs": [
    {
     "name": "stderr",
     "output_type": "stream",
     "text": [
      "100%|█████████████████████████████████████████████████████████████████████████████████████████████████████████████████████████████████████████████████████████████████████████████████████████████████████| 100/100 [00:04<00:00, 20.69it/s]\n"
     ]
    },
    {
     "data": {
      "text/plain": [
       "(0.59396905, 0.32618773)"
      ]
     },
     "execution_count": 69,
     "metadata": {},
     "output_type": "execute_result"
    }
   ],
   "source": [
    "Monte_Carlo_Uncertainty(cem_cf.reshape(50,28,28,1))"
   ]
  },
  {
   "cell_type": "markdown",
   "metadata": {},
   "source": [
    "### R% Substiutability\n",
    "\n",
    "Fitting a 1-NN Euclidean Classfier on the Generated Instances and testing on the test set. Comparing to the prototypes generated by MMD Critic. "
   ]
  },
  {
   "cell_type": "code",
   "execution_count": 70,
   "metadata": {},
   "outputs": [
    {
     "data": {
      "text/plain": [
       "Counter({6: 8, 2: 2, 8: 7, 0: 5, 4: 5, 9: 9, 3: 3, 7: 7, 5: 4})"
      ]
     },
     "execution_count": 70,
     "metadata": {},
     "output_type": "execute_result"
    }
   ],
   "source": [
    "from collections import Counter\n",
    "from sklearn.neighbors import KNeighborsClassifier\n",
    "\n",
    "Counter(true_labels_user)"
   ]
  },
  {
   "cell_type": "code",
   "execution_count": 71,
   "metadata": {},
   "outputs": [
    {
     "data": {
      "text/plain": [
       "array([[[[-0.5],\n",
       "         [-0.5],\n",
       "         [-0.5],\n",
       "         ...,\n",
       "         [-0.5],\n",
       "         [-0.5],\n",
       "         [-0.5]],\n",
       "\n",
       "        [[-0.5],\n",
       "         [-0.5],\n",
       "         [-0.5],\n",
       "         ...,\n",
       "         [-0.5],\n",
       "         [-0.5],\n",
       "         [-0.5]],\n",
       "\n",
       "        [[-0.5],\n",
       "         [-0.5],\n",
       "         [-0.5],\n",
       "         ...,\n",
       "         [-0.5],\n",
       "         [-0.5],\n",
       "         [-0.5]],\n",
       "\n",
       "        ...,\n",
       "\n",
       "        [[-0.5],\n",
       "         [-0.5],\n",
       "         [-0.5],\n",
       "         ...,\n",
       "         [-0.5],\n",
       "         [-0.5],\n",
       "         [-0.5]],\n",
       "\n",
       "        [[-0.5],\n",
       "         [-0.5],\n",
       "         [-0.5],\n",
       "         ...,\n",
       "         [-0.5],\n",
       "         [-0.5],\n",
       "         [-0.5]],\n",
       "\n",
       "        [[-0.5],\n",
       "         [-0.5],\n",
       "         [-0.5],\n",
       "         ...,\n",
       "         [-0.5],\n",
       "         [-0.5],\n",
       "         [-0.5]]],\n",
       "\n",
       "\n",
       "       [[[-0.5],\n",
       "         [-0.5],\n",
       "         [-0.5],\n",
       "         ...,\n",
       "         [-0.5],\n",
       "         [-0.5],\n",
       "         [-0.5]],\n",
       "\n",
       "        [[-0.5],\n",
       "         [-0.5],\n",
       "         [-0.5],\n",
       "         ...,\n",
       "         [-0.5],\n",
       "         [-0.5],\n",
       "         [-0.5]],\n",
       "\n",
       "        [[-0.5],\n",
       "         [-0.5],\n",
       "         [-0.5],\n",
       "         ...,\n",
       "         [-0.5],\n",
       "         [-0.5],\n",
       "         [-0.5]],\n",
       "\n",
       "        ...,\n",
       "\n",
       "        [[-0.5],\n",
       "         [-0.5],\n",
       "         [-0.5],\n",
       "         ...,\n",
       "         [-0.5],\n",
       "         [-0.5],\n",
       "         [-0.5]],\n",
       "\n",
       "        [[-0.5],\n",
       "         [-0.5],\n",
       "         [-0.5],\n",
       "         ...,\n",
       "         [-0.5],\n",
       "         [-0.5],\n",
       "         [-0.5]],\n",
       "\n",
       "        [[-0.5],\n",
       "         [-0.5],\n",
       "         [-0.5],\n",
       "         ...,\n",
       "         [-0.5],\n",
       "         [-0.5],\n",
       "         [-0.5]]],\n",
       "\n",
       "\n",
       "       [[[-0.5],\n",
       "         [-0.5],\n",
       "         [-0.5],\n",
       "         ...,\n",
       "         [-0.5],\n",
       "         [-0.5],\n",
       "         [-0.5]],\n",
       "\n",
       "        [[-0.5],\n",
       "         [-0.5],\n",
       "         [-0.5],\n",
       "         ...,\n",
       "         [-0.5],\n",
       "         [-0.5],\n",
       "         [-0.5]],\n",
       "\n",
       "        [[-0.5],\n",
       "         [-0.5],\n",
       "         [-0.5],\n",
       "         ...,\n",
       "         [-0.5],\n",
       "         [-0.5],\n",
       "         [-0.5]],\n",
       "\n",
       "        ...,\n",
       "\n",
       "        [[-0.5],\n",
       "         [-0.5],\n",
       "         [-0.5],\n",
       "         ...,\n",
       "         [-0.5],\n",
       "         [-0.5],\n",
       "         [-0.5]],\n",
       "\n",
       "        [[-0.5],\n",
       "         [-0.5],\n",
       "         [-0.5],\n",
       "         ...,\n",
       "         [-0.5],\n",
       "         [-0.5],\n",
       "         [-0.5]],\n",
       "\n",
       "        [[-0.5],\n",
       "         [-0.5],\n",
       "         [-0.5],\n",
       "         ...,\n",
       "         [-0.5],\n",
       "         [-0.5],\n",
       "         [-0.5]]]], dtype=float32)"
      ]
     },
     "execution_count": 71,
     "metadata": {},
     "output_type": "execute_result"
    }
   ],
   "source": [
    "mmd_pixel_prototypes[1][0:3]"
   ]
  },
  {
   "cell_type": "code",
   "execution_count": 72,
   "metadata": {},
   "outputs": [],
   "source": [
    "def R_sub(method):\n",
    "        \n",
    "    image_set = (mmd_pixel_prototypes[1][0:3])\n",
    "    label_set = (np.array([1,1,1]))\n",
    "    \n",
    "    image_set = np.append(image_set, method)\n",
    "    label_set= np.append(label_set, true_labels_user)\n",
    "    \n",
    "    image_set = np.array(image_set).reshape(53, 28*28)\n",
    "    \n",
    "    label_set = np.array(label_set)\n",
    "    \n",
    "    \n",
    "    neigh = KNeighborsClassifier(n_neighbors=1, metric='euclidean')\n",
    "    neigh.fit(image_set, label_set)\n",
    "    \n",
    "    return neigh.predict(x_test.reshape(10000,28*28))\n",
    "    \n",
    "    \n",
    "    "
   ]
  },
  {
   "cell_type": "code",
   "execution_count": 73,
   "metadata": {},
   "outputs": [
    {
     "data": {
      "text/plain": [
       "0.3782"
      ]
     },
     "execution_count": 73,
     "metadata": {},
     "output_type": "execute_result"
    }
   ],
   "source": [
    "from sklearn.metrics import accuracy_score\n",
    "prediction = R_sub(method = G1_centroids)\n",
    "accuracy_score(prediction,np.argmax(y_test, axis=1))"
   ]
  },
  {
   "cell_type": "code",
   "execution_count": 74,
   "metadata": {},
   "outputs": [],
   "source": [
    "def R_sub_proto():\n",
    "    \n",
    "\n",
    "    \n",
    "    image_set = []\n",
    "\n",
    "    for i in range(10):\n",
    "\n",
    "        image_set.append(mmd_pixel_prototypes[i][0:5])\n",
    "\n",
    "    image_set = np.array(image_set).reshape(50,28*28)\n",
    "\n",
    "    label_set = np.array([0,0,0,0,0,1,1,1,1,1,2,2,2,2,2,3,3,3,3,3,4,4,4,4,4,5,5,5,5,5,6,6,6,6,6,7,7,7,7,7,8,8,8,8,8,9,9,9,9,9])\n",
    "\n",
    "    neigh = KNeighborsClassifier(n_neighbors=1, metric='euclidean')\n",
    "    neigh.fit(image_set, label_set)\n",
    "    \n",
    "    return neigh.predict(x_test.reshape(10000,28*28))\n",
    "    \n",
    "    "
   ]
  },
  {
   "cell_type": "code",
   "execution_count": 75,
   "metadata": {},
   "outputs": [
    {
     "data": {
      "text/plain": [
       "array([7, 3, 1, ..., 9, 5, 6])"
      ]
     },
     "execution_count": 75,
     "metadata": {},
     "output_type": "execute_result"
    }
   ],
   "source": [
    "R_sub_proto()"
   ]
  },
  {
   "cell_type": "code",
   "execution_count": 76,
   "metadata": {},
   "outputs": [
    {
     "data": {
      "text/plain": [
       "0.7557"
      ]
     },
     "execution_count": 76,
     "metadata": {},
     "output_type": "execute_result"
    }
   ],
   "source": [
    "accuracy_score(R_sub_proto(),np.argmax(y_test, axis=1))"
   ]
  },
  {
   "cell_type": "code",
   "execution_count": 77,
   "metadata": {},
   "outputs": [
    {
     "data": {
      "text/plain": [
       "array([ 3, 12, 16, 25, 37, 43, 45], dtype=int64)"
      ]
     },
     "execution_count": 77,
     "metadata": {},
     "output_type": "execute_result"
    }
   ],
   "source": [
    "np.where(true_labels_user == 8)[0]"
   ]
  },
  {
   "cell_type": "code",
   "execution_count": 78,
   "metadata": {},
   "outputs": [],
   "source": [
    "def method_distance(item_set, method, class_label):\n",
    "    \n",
    "    l1_ = []\n",
    "    \n",
    "    l1_p = []\n",
    "    \n",
    "    for image in item_set:\n",
    "        \n",
    "        \n",
    "        l1_.append(scipy.spatial.distance.cityblock(misclassified_user_sample[image].flatten(), method[image].flatten()))\n",
    "        \n",
    "        l1_p.append(scipy.spatial.distance.cityblock(mmd_pixel_prototypes[class_label][0].flatten(), method[image].flatten()))\n",
    "        \n",
    "    return np.array(l1_), np.array(l1_p)\n",
    "    \n",
    "    \n",
    "    \n",
    "    \n",
    "    \n",
    "    "
   ]
  },
  {
   "cell_type": "code",
   "execution_count": 79,
   "metadata": {},
   "outputs": [],
   "source": [
    "l1_human, l1_p_human = method_distance(np.where(true_labels_user == 0)[0], G1_centroids,0)"
   ]
  },
  {
   "cell_type": "code",
   "execution_count": 80,
   "metadata": {},
   "outputs": [],
   "source": [
    "l1_w, l1_p_w = method_distance(np.where(true_labels_user == 0)[0], wachter_cf,0)"
   ]
  },
  {
   "cell_type": "code",
   "execution_count": 81,
   "metadata": {},
   "outputs": [],
   "source": [
    "l1_r, l1_p_r = method_distance(np.where(true_labels_user == 0)[0], revise_cf_user,0)"
   ]
  },
  {
   "cell_type": "code",
   "execution_count": 82,
   "metadata": {},
   "outputs": [],
   "source": [
    "colors = [\"red\", \"green\", \"purple\"]\n",
    "x = list(l1_human) + list(l1_w) + list(l1_r)\n",
    "y = list(l1_p_human) + list(l1_p_w) + list(l1_p_r)\n",
    "color_indices = [0, 0,0,0,0] + [1,1,1,1,1] + [2,2,2,2,2]\n",
    "\n",
    "colormap = matplotlib.colors.ListedColormap(colors)\n",
    "\n",
    "#plt.scatter(x, y, c=color_indices, cmap=colormap)"
   ]
  },
  {
   "cell_type": "code",
   "execution_count": 83,
   "metadata": {},
   "outputs": [
    {
     "data": {
      "text/plain": [
       "array([50.826233, 33.567024, 63.68406 , 42.11518 , 41.92313 ],\n",
       "      dtype=float32)"
      ]
     },
     "execution_count": 83,
     "metadata": {},
     "output_type": "execute_result"
    }
   ],
   "source": [
    "l1_r"
   ]
  },
  {
   "cell_type": "code",
   "execution_count": 84,
   "metadata": {},
   "outputs": [
    {
     "data": {
      "text/plain": [
       "<matplotlib.image.AxesImage at 0x1cb01a6e188>"
      ]
     },
     "execution_count": 84,
     "metadata": {},
     "output_type": "execute_result"
    },
    {
     "data": {
      "image/png": "[encoded data removed]",
      "text/plain": [
       "<Figure size 432x288 with 1 Axes>"
      ]
     },
     "metadata": {
      "needs_background": "light"
     },
     "output_type": "display_data"
    }
   ],
   "source": [
    "plt.imshow(cem_cf[1])"
   ]
  },
  {
   "cell_type": "markdown",
   "metadata": {},
   "source": [
    "### Quantifying Image Blur Using A Laplacian Filter"
   ]
  },
  {
   "cell_type": "code",
   "execution_count": 85,
   "metadata": {},
   "outputs": [],
   "source": [
    "from skimage.filters import laplace\n",
    "import seaborn"
   ]
  },
  {
   "cell_type": "code",
   "execution_count": 86,
   "metadata": {},
   "outputs": [],
   "source": [
    "human_var = []\n",
    "vlk_var = []\n",
    "revise_var = []\n",
    "\n",
    "for image in range (50):\n",
    "    \n",
    "    revise_var.append(laplace(revise_cf_user[image], ksize=3).var())\n",
    "    vlk_var.append(laplace(wachter_cf[image], ksize=3).var())\n",
    "    human_var.append(laplace(G1_centroids[image], ksize=3).var())"
   ]
  },
  {
   "cell_type": "code",
   "execution_count": 87,
   "metadata": {},
   "outputs": [
    {
     "data": {
      "text/plain": [
       "Text(0, 0.5, 'Density')"
      ]
     },
     "execution_count": 87,
     "metadata": {},
     "output_type": "execute_result"
    },
    {
     "data": {
      "image/png": "[encoded data removed]",
      "text/plain": [
       "<Figure size 432x288 with 1 Axes>"
      ]
     },
     "metadata": {
      "needs_background": "light"
     },
     "output_type": "display_data"
    }
   ],
   "source": [
    "#seaborn.kdeplot(human_var, palette=\"crest\")\n",
    "#seaborn.kdeplot(revise_var, palette=\"crest\")\n",
    "\n",
    "seaborn.kdeplot(human_var,fill=True, common_norm=False, palette=\"crest\",alpha=.5, linewidth=0, label='Human')\n",
    "seaborn.kdeplot(revise_var,fill=True, common_norm=False, palette=\"crest\",alpha=.5, linewidth=0, label='Revise')\n",
    "plt.legend(fontsize=12)\n",
    "plt.xlabel('Variance of Laplacian Operator', fontsize=18)\n",
    "plt.ylabel('Density', fontsize=18)\n",
    "#plt.savefig('blur_laplacian.pdf')"
   ]
  },
  {
   "cell_type": "code",
   "execution_count": 88,
   "metadata": {},
   "outputs": [
    {
     "data": {
      "image/png": "[encoded data removed]",
      "text/plain": [
       "<Figure size 1080x1080 with 3 Axes>"
      ]
     },
     "metadata": {
      "needs_background": "light"
     },
     "output_type": "display_data"
    }
   ],
   "source": [
    "image_index = 16\n",
    "\n",
    "f, axarr = plt.subplots(nrows=1,ncols=3, figsize=(15,15))\n",
    "plt.sca(axarr[0]); \n",
    "plt.imshow(misclassified_user_sample[image_index], cmap='viridis'); plt.title('Query', fontsize=30)\n",
    "\n",
    "plt.sca(axarr[1]); \n",
    "plt.imshow(revise_cf_user[image_index], cmap='viridis'); plt.title('Revise', fontsize = 30)\n",
    "\n",
    "plt.sca(axarr[2]); \n",
    "plt.imshow(G1_centroids[image_index],cmap='viridis'); plt.title('Human Centroid', fontsize=30)\n",
    "#plt.savefig('blur_example_0.pdf')\n",
    "plt.show()"
   ]
  },
  {
   "cell_type": "markdown",
   "metadata": {},
   "source": [
    "### 10-LOF"
   ]
  },
  {
   "cell_type": "code",
   "execution_count": 89,
   "metadata": {},
   "outputs": [],
   "source": [
    "from sklearn.neighbors import LocalOutlierFactor"
   ]
  },
  {
   "cell_type": "code",
   "execution_count": 90,
   "metadata": {},
   "outputs": [],
   "source": [
    "mmd_pixel_prototype_indices = np.load('../../../../../MMD-critic/prototype_indices_mmd_pixel_local_200.npy')\n",
    "mmd_pixel_criticism_indices = np.load('../../../../../MMD-critic/criticism_indices_mmd_pixel_local_20.npy')"
   ]
  },
  {
   "cell_type": "code",
   "execution_count": 91,
   "metadata": {},
   "outputs": [],
   "source": [
    "training_indices_mmd_proto = []\n",
    "training_indices_mmd_criticism = []\n",
    "\n",
    "for class_label in range(10):\n",
    "    \n",
    "    training_indices_mmd_proto.append([np.where(np.argmax(y_train,axis=1)==class_label)[0][index] for index in mmd_pixel_prototype_indices[class_label]])\n",
    "    training_indices_mmd_criticism.append([np.where(np.argmax(y_train,axis=1)==class_label)[0][index] for index in mmd_pixel_criticism_indices[class_label]])\n",
    "\n",
    "training_indices_mmd_proto = np.array(training_indices_mmd_proto)\n",
    "training_indices_mmd_criticism = np.array(training_indices_mmd_criticism)"
   ]
  },
  {
   "cell_type": "code",
   "execution_count": 92,
   "metadata": {},
   "outputs": [],
   "source": [
    "def LOF(label):\n",
    "    \n",
    "    image_set = []\n",
    "    \n",
    "    image_set.append([x_train[index] for index in training_indices_mmd_proto[label]])\n",
    "    \n",
    "    image_set.append([x_train[index] for index in training_indices_mmd_criticism[label]])\n",
    "    \n",
    "    image_set = np.vstack((np.array(image_set[0]), np.array(image_set[1]))).reshape(-1,28*28)\n",
    "    \n",
    "    clf = LocalOutlierFactor(novelty=True, n_neighbors=10, contamination=0.1, metric='l2')\n",
    "    clf.fit(image_set)\n",
    "    \n",
    "    return clf"
   ]
  },
  {
   "cell_type": "code",
   "execution_count": 93,
   "metadata": {},
   "outputs": [
    {
     "name": "stdout",
     "output_type": "stream",
     "text": [
      "0.041 0.01\n",
      "0.043 0.011\n",
      "0.076 0.009\n",
      "0.122 0.008\n",
      "0.062 0.011\n"
     ]
    }
   ],
   "source": [
    "for technique in [wachter_cf, cem_cf, vlk_cf_user, revise_cf_user, G1_centroids]:\n",
    "\n",
    "    values = []\n",
    "\n",
    "    for label in [0,2,3,4,5,6,7,8,9]:\n",
    "\n",
    "        Lof = LOF(label)\n",
    "\n",
    "        values.append([Lof.decision_function(technique[i].reshape(1,28*28)) for i in np.where(true_labels_user==label)[0]])\n",
    "\n",
    "    print(round(np.concatenate(values).ravel().mean(),3), round(stats.sem(np.concatenate(values).ravel()),3))"
   ]
  },
  {
   "cell_type": "code",
   "execution_count": 94,
   "metadata": {},
   "outputs": [
    {
     "data": {
      "text/plain": [
       "array([6, 2, 6, 8, 0, 4, 9, 3, 6, 7, 9, 7, 8, 5, 0, 3, 8, 9, 7, 4, 9, 9,\n",
       "       6, 5, 6, 8, 6, 4, 7, 4, 7, 0, 6, 6, 3, 9, 4, 8, 5, 5, 9, 7, 0, 8,\n",
       "       0, 8, 7, 9, 9, 2], dtype=int64)"
      ]
     },
     "execution_count": 94,
     "metadata": {},
     "output_type": "execute_result"
    }
   ],
   "source": [
    "true_labels_user"
   ]
  },
  {
   "cell_type": "code",
   "execution_count": 95,
   "metadata": {},
   "outputs": [
    {
     "data": {
      "text/plain": [
       "(50, 28, 28)"
      ]
     },
     "execution_count": 95,
     "metadata": {},
     "output_type": "execute_result"
    }
   ],
   "source": [
    "revise_cf_user.shape"
   ]
  },
  {
   "cell_type": "markdown",
   "metadata": {},
   "source": [
    "#### Intuitive examples (using decision function)"
   ]
  },
  {
   "cell_type": "code",
   "execution_count": 96,
   "metadata": {},
   "outputs": [],
   "source": [
    "Lof = LOF(4)"
   ]
  },
  {
   "cell_type": "code",
   "execution_count": 97,
   "metadata": {},
   "outputs": [
    {
     "data": {
      "text/plain": [
       "(array([-0.01608548]), array([-1]))"
      ]
     },
     "execution_count": 97,
     "metadata": {},
     "output_type": "execute_result"
    }
   ],
   "source": [
    "Lof.decision_function(cem_cf[29].reshape(-1,28*28)), Lof.predict(cem_cf[29].reshape(-1,28*28))"
   ]
  },
  {
   "cell_type": "code",
   "execution_count": 98,
   "metadata": {},
   "outputs": [
    {
     "data": {
      "text/plain": [
       "(array([0.03100263]), array([1]))"
      ]
     },
     "execution_count": 98,
     "metadata": {},
     "output_type": "execute_result"
    }
   ],
   "source": [
    "Lof.decision_function(G1_centroids[29].reshape(-1,28*28)), Lof.predict(G1_centroids[29].reshape(-1,28*28))"
   ]
  },
  {
   "cell_type": "code",
   "execution_count": 99,
   "metadata": {},
   "outputs": [
    {
     "data": {
      "text/plain": [
       "<matplotlib.image.AxesImage at 0x1cb19058c48>"
      ]
     },
     "execution_count": 99,
     "metadata": {},
     "output_type": "execute_result"
    },
    {
     "data": {
      "image/png": "[encoded data removed]",
      "text/plain": [
       "<Figure size 432x288 with 1 Axes>"
      ]
     },
     "metadata": {
      "needs_background": "light"
     },
     "output_type": "display_data"
    }
   ],
   "source": [
    "plt.imshow(G1_centroids[32])"
   ]
  },
  {
   "cell_type": "code",
   "execution_count": 100,
   "metadata": {},
   "outputs": [
    {
     "data": {
      "text/plain": [
       "array([-0.00597457,  0.11853167, -0.06364979, -0.10194751, -0.04450535])"
      ]
     },
     "execution_count": 100,
     "metadata": {},
     "output_type": "execute_result"
    }
   ],
   "source": [
    "np.array(values[0]).flatten()"
   ]
  },
  {
   "cell_type": "markdown",
   "metadata": {},
   "source": [
    "### Proximity User Study Plots"
   ]
  },
  {
   "cell_type": "code",
   "execution_count": 101,
   "metadata": {},
   "outputs": [],
   "source": [
    "materials = ['Human \\n Natural', 'Human \\n Instructed']\n",
    "x_pos = np.arange(len(materials))\n",
    "CTEs = [np.mean(mean_l1), np.mean(mean_l1_g2)]\n",
    "error = [stats.sem(mean_l1), stats.sem(mean_l1_g2)]"
   ]
  },
  {
   "cell_type": "code",
   "execution_count": 102,
   "metadata": {},
   "outputs": [
    {
     "data": {
      "image/png": "[encoded data removed]",
      "text/plain": [
       "<Figure size 432x288 with 1 Axes>"
      ]
     },
     "metadata": {
      "needs_background": "light"
     },
     "output_type": "display_data"
    }
   ],
   "source": [
    "# Build the plot\n",
    "fig, ax = plt.subplots()\n",
    "ax.bar(x_pos, CTEs, yerr=error, align='center', alpha=0.5, ecolor='black', capsize=10)\n",
    "ax.set_ylabel('Mean L1 Distance between Query and CF', fontsize=10)\n",
    "ax.set_xticks(x_pos)\n",
    "ax.set_xticklabels(materials)\n",
    "ax.set_title('Mean L1 Distance between Query and CF', fontsize = 14)\n",
    "ax.yaxis.grid(True)\n",
    "\n",
    "plt.tight_layout()\n",
    "#plt.savefig('human_l1.pdf')\n",
    "plt.show()"
   ]
  },
  {
   "cell_type": "code",
   "execution_count": 103,
   "metadata": {},
   "outputs": [
    {
     "data": {
      "image/png": "[encoded data removed]",
      "text/plain": [
       "<Figure size 432x288 with 1 Axes>"
      ]
     },
     "metadata": {
      "needs_background": "light"
     },
     "output_type": "display_data"
    }
   ],
   "source": [
    "materials = ['Human \\n Natural', 'Human \\n Instructed']\n",
    "x_pos = np.arange(len(materials))\n",
    "CTEs = [np.mean(mean_l2), np.mean(mean_l2_g2)]\n",
    "error = [stats.sem(mean_l2), stats.sem(mean_l2_g2)]\n",
    "\n",
    "# Build the plot\n",
    "fig, ax = plt.subplots()\n",
    "ax.bar(x_pos, CTEs, yerr=error, align='center', alpha=0.5, ecolor='black', capsize=10, color = 'red')\n",
    "ax.set_ylabel('Mean L2 Distance between Query and CF', fontsize=10)\n",
    "ax.set_xticks(x_pos)\n",
    "ax.set_xticklabels(materials)\n",
    "ax.set_title('Mean L2 Distance between Query and CF', fontsize = 14)\n",
    "ax.yaxis.grid(True)\n",
    "\n",
    "plt.tight_layout()\n",
    "#plt.savefig('human_l2.pdf')\n",
    "plt.show()"
   ]
  }
 ],
 "metadata": {
  "kernelspec": {
   "display_name": "Python 3",
   "language": "python",
   "name": "python3"
  },
  "language_info": {
   "codemirror_mode": {
    "name": "ipython",
    "version": 3
   },
   "file_extension": ".py",
   "mimetype": "text/x-python",
   "name": "python",
   "nbconvert_exporter": "python",
   "pygments_lexer": "ipython3",
   "version": "3.7.9"
  },
  "toc": {
   "base_numbering": 1,
   "nav_menu": {},
   "number_sections": true,
   "sideBar": true,
   "skip_h1_title": false,
   "title_cell": "Table of Contents",
   "title_sidebar": "Contents",
   "toc_cell": false,
   "toc_position": {},
   "toc_section_display": true,
   "toc_window_display": false
  }
 },
 "nbformat": 4,
 "nbformat_minor": 4
}
