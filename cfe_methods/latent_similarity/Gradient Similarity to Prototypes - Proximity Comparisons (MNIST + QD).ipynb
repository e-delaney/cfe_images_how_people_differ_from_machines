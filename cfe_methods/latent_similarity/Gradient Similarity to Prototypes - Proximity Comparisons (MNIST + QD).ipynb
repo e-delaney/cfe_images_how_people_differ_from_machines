{
 "cells": [
  {
   "cell_type": "markdown",
   "metadata": {},
   "source": [
    "### MNIST Model and Misclassified Images"
   ]
  },
  {
   "cell_type": "code",
   "execution_count": 1,
   "metadata": {},
   "outputs": [
    {
     "name": "stdout",
     "output_type": "stream",
     "text": [
      "TF version:  2.4.1\n",
      "Eager execution enabled:  True\n"
     ]
    }
   ],
   "source": [
    "import tensorflow as tf\n",
    "tf.get_logger().setLevel(40) # suppress deprecation messages\n",
    "#tf.compat.v1.disable_v2_behavior() # disable TF2 behaviour as alibi code still relies on TF1 constructs\n",
    "from tensorflow.keras.layers import Conv2D, Dense, Dropout, Flatten, MaxPooling2D, Input, UpSampling2D\n",
    "from tensorflow.keras.models import Model, load_model\n",
    "from tensorflow.keras.utils import to_categorical\n",
    "import alibi\n",
    "import matplotlib\n",
    "from scipy import stats\n",
    "%matplotlib inline\n",
    "import matplotlib.pyplot as plt\n",
    "import numpy as np\n",
    "import os\n",
    "from time import time\n",
    "from alibi.explainers import CounterFactualProto\n",
    "print('TF version: ', tf.__version__)\n",
    "print('Eager execution enabled: ', tf.executing_eagerly()) # False"
   ]
  },
  {
   "cell_type": "code",
   "execution_count": 2,
   "metadata": {},
   "outputs": [
    {
     "name": "stdout",
     "output_type": "stream",
     "text": [
      "0.7.0\n"
     ]
    }
   ],
   "source": [
    "print(alibi.__version__)"
   ]
  },
  {
   "cell_type": "code",
   "execution_count": 3,
   "metadata": {},
   "outputs": [
    {
     "name": "stdout",
     "output_type": "stream",
     "text": [
      "x_train shape: (60000, 28, 28) y_train shape: (60000,)\n"
     ]
    },
    {
     "data": {
      "text/plain": [
       "<Figure size 432x288 with 0 Axes>"
      ]
     },
     "metadata": {},
     "output_type": "display_data"
    }
   ],
   "source": [
    "#(x_train, y_train), (x_test, y_test) = tf.keras.datasets.fashion_mnist.load_data()\n",
    "(x_train, y_train), (x_test, y_test) = tf.keras.datasets.mnist.load_data()\n",
    "print('x_train shape:', x_train.shape, 'y_train shape:', y_train.shape)\n",
    "plt.gray()\n",
    "#plt.imshow(x_test[15]);"
   ]
  },
  {
   "cell_type": "code",
   "execution_count": 4,
   "metadata": {},
   "outputs": [
    {
     "name": "stdout",
     "output_type": "stream",
     "text": [
      "x_train shape: (60000, 28, 28, 1) x_test shape: (10000, 28, 28, 1)\n",
      "y_train shape: (60000, 10) y_test shape: (10000, 10)\n"
     ]
    }
   ],
   "source": [
    "# loading etc\n",
    "x_train = x_train.astype('float32') / 255\n",
    "x_test = x_test.astype('float32') / 255\n",
    "x_train = np.reshape(x_train, x_train.shape + (1,))\n",
    "x_test = np.reshape(x_test, x_test.shape + (1,))\n",
    "print('x_train shape:', x_train.shape, 'x_test shape:', x_test.shape)\n",
    "y_train = to_categorical(y_train)\n",
    "y_test = to_categorical(y_test)\n",
    "print('y_train shape:', y_train.shape, 'y_test shape:', y_test.shape)"
   ]
  },
  {
   "cell_type": "code",
   "execution_count": 5,
   "metadata": {},
   "outputs": [],
   "source": [
    "#normalizing\n",
    "xmin, xmax = -.5, .5\n",
    "x_train = ((x_train - x_train.min()) / (x_train.max() - x_train.min())) * (xmax - xmin) + xmin\n",
    "x_test = ((x_test - x_test.min()) / (x_test.max() - x_test.min())) * (xmax - xmin) + xmin"
   ]
  },
  {
   "cell_type": "markdown",
   "metadata": {},
   "source": [
    "### Evaluate MC-Model on Test Set"
   ]
  },
  {
   "cell_type": "code",
   "execution_count": 6,
   "metadata": {},
   "outputs": [
    {
     "name": "stdout",
     "output_type": "stream",
     "text": [
      "WARNING: AutoGraph could not transform <function Model.make_test_function.<locals>.test_function at 0x000002238C045678> and will run it as-is.\n",
      "Please report this to the TensorFlow team. When filing the bug, set the verbosity to 10 (on Linux, `export AUTOGRAPH_VERBOSITY=10`) and attach the full output.\n",
      "Cause: 'arguments' object has no attribute 'posonlyargs'\n",
      "To silence this warning, decorate the function with @tf.autograph.experimental.do_not_convert\n",
      "Test accuracy:  0.989300012588501\n"
     ]
    }
   ],
   "source": [
    "cnn=load_model('cnn_mnist.h5')\n",
    "cnn_mc = load_model('cnn_mnist_mc.h5')\n",
    "score = cnn.evaluate(x_test, y_test, verbose=0)\n",
    "print('Test accuracy: ', score[1])"
   ]
  },
  {
   "cell_type": "code",
   "execution_count": 7,
   "metadata": {},
   "outputs": [
    {
     "name": "stdout",
     "output_type": "stream",
     "text": [
      "WARNING: AutoGraph could not transform <function Model.make_predict_function.<locals>.predict_function at 0x000002238DF034C8> and will run it as-is.\n",
      "Please report this to the TensorFlow team. When filing the bug, set the verbosity to 10 (on Linux, `export AUTOGRAPH_VERBOSITY=10`) and attach the full output.\n",
      "Cause: 'arguments' object has no attribute 'posonlyargs'\n",
      "To silence this warning, decorate the function with @tf.autograph.experimental.do_not_convert\n"
     ]
    }
   ],
   "source": [
    "y_pred = cnn.predict(x_test)"
   ]
  },
  {
   "cell_type": "code",
   "execution_count": 8,
   "metadata": {},
   "outputs": [],
   "source": [
    "misclassification_indices = list(np.where(np.argmax(y_pred, axis=1) != np.argmax(y_test, axis=1))[0]) #misclassifications"
   ]
  },
  {
   "cell_type": "code",
   "execution_count": 9,
   "metadata": {},
   "outputs": [],
   "source": [
    "misclassified_images = []\n",
    "\n",
    "for index in misclassification_indices:\n",
    "    misclassified_images.append(x_test[index])\n",
    "    "
   ]
  },
  {
   "cell_type": "code",
   "execution_count": 10,
   "metadata": {},
   "outputs": [
    {
     "data": {
      "text/plain": [
       "(107, 28, 28, 1)"
      ]
     },
     "execution_count": 10,
     "metadata": {},
     "output_type": "execute_result"
    }
   ],
   "source": [
    "misclassified_images = np.array(misclassified_images)\n",
    "misclassified_images.shape #i.e network misclassifies 107 28x28 mnist images"
   ]
  },
  {
   "cell_type": "markdown",
   "metadata": {},
   "source": [
    "### Reloading User-Edited Images"
   ]
  },
  {
   "cell_type": "code",
   "execution_count": 11,
   "metadata": {},
   "outputs": [],
   "source": [
    "wachter_cf = np.load('wachter_cf.npy')\n",
    "vlk_cf_user = np.load('proto_cf_mnist.npy')\n",
    "revise_cf_user = np.load('../../../../../DeDUCE-master/DeDUCE-master/REVISE_cfe.npy')\n",
    "cem_cf = np.load('CEM_mnist.npy')\n",
    "G1_centroids = np.load('G1_centroids.npy')"
   ]
  },
  {
   "cell_type": "code",
   "execution_count": 12,
   "metadata": {},
   "outputs": [],
   "source": [
    "km_prototypes = np.load('prototypes_mnist_kmedoids.npy')"
   ]
  },
  {
   "cell_type": "code",
   "execution_count": 13,
   "metadata": {},
   "outputs": [],
   "source": [
    "km_prototypes = np.load('prototypes_mnist_kmedoids.npy')\n",
    "mmd_pixel_prototype_indices = np.load('../../../../../MMD-critic/prototype_indices_mmd_pixel_local.npy')\n",
    "mmd_pixel_criticism_indices = np.load('../../../../../MMD-critic/criticism_indices_mmd_pixel_local.npy')"
   ]
  },
  {
   "cell_type": "code",
   "execution_count": 14,
   "metadata": {},
   "outputs": [],
   "source": [
    "training_indices_mmd_proto = []\n",
    "training_indices_mmd_criticism = []\n",
    "\n",
    "for class_label in range(10):\n",
    "    \n",
    "    training_indices_mmd_proto.append([np.where(np.argmax(y_train,axis=1)==class_label)[0][index] for index in mmd_pixel_prototype_indices[class_label]])\n",
    "    training_indices_mmd_criticism.append([np.where(np.argmax(y_train,axis=1)==class_label)[0][index] for index in mmd_pixel_criticism_indices[class_label]])\n",
    "\n",
    "training_indices_mmd_proto = np.array(training_indices_mmd_proto)\n",
    "training_indices_mmd_criticism = np.array(training_indices_mmd_criticism)"
   ]
  },
  {
   "cell_type": "code",
   "execution_count": 15,
   "metadata": {},
   "outputs": [],
   "source": [
    "mmd_pixel_prototypes = []\n",
    "mmd_pixel_criticisms = []\n",
    "\n",
    "for class_label in range(10):\n",
    "    \n",
    "    mmd_pixel_prototypes.append([x_train[index] for index in training_indices_mmd_proto[class_label]])\n",
    "    \n",
    "    mmd_pixel_criticisms.append([x_train[index] for index in training_indices_mmd_criticism[class_label]])\n",
    "    \n",
    "mmd_pixel_prototypes = np.array(mmd_pixel_prototypes)\n",
    "mmd_pixel_criticisms = np.array(mmd_pixel_criticisms)"
   ]
  },
  {
   "cell_type": "markdown",
   "metadata": {},
   "source": [
    "### Gradient Similarity \n",
    "\n",
    "https://docs.seldon.io/projects/alibi/en/stable/examples/similarity_explanations_mnist.html"
   ]
  },
  {
   "cell_type": "markdown",
   "metadata": {},
   "source": [
    "#### MNIST"
   ]
  },
  {
   "cell_type": "code",
   "execution_count": 16,
   "metadata": {},
   "outputs": [],
   "source": [
    "from alibi.explainers import GradientSimilarity\n",
    "from tensorflow.keras.losses import categorical_crossentropy\n",
    "import itertools"
   ]
  },
  {
   "cell_type": "code",
   "execution_count": 17,
   "metadata": {},
   "outputs": [
    {
     "data": {
      "text/plain": [
       "[<tensorflow.python.keras.engine.input_layer.InputLayer at 0x2238b4b78c8>,\n",
       " <tensorflow.python.keras.layers.convolutional.Conv2D at 0x2238beb3ec8>,\n",
       " <tensorflow.python.keras.layers.pooling.MaxPooling2D at 0x2238beefcc8>,\n",
       " <tensorflow.python.keras.layers.core.Dropout at 0x2238bf24388>,\n",
       " <tensorflow.python.keras.layers.convolutional.Conv2D at 0x2238bf24a08>,\n",
       " <tensorflow.python.keras.layers.pooling.MaxPooling2D at 0x2238bf2f3c8>,\n",
       " <tensorflow.python.keras.layers.core.Dropout at 0x2238bf2fa48>,\n",
       " <tensorflow.python.keras.layers.core.Flatten at 0x2238bf2ffc8>,\n",
       " <tensorflow.python.keras.layers.core.Dense at 0x2238bf31588>,\n",
       " <tensorflow.python.keras.layers.core.Dropout at 0x2238bf31bc8>,\n",
       " <tensorflow.python.keras.layers.core.Dense at 0x2238bf34248>]"
      ]
     },
     "execution_count": 17,
     "metadata": {},
     "output_type": "execute_result"
    }
   ],
   "source": [
    "cnn.layers"
   ]
  },
  {
   "cell_type": "code",
   "execution_count": 18,
   "metadata": {},
   "outputs": [],
   "source": [
    "gsm = GradientSimilarity(cnn, categorical_crossentropy, precompute_grads=True, sim_fn='grad_cos')"
   ]
  },
  {
   "cell_type": "code",
   "execution_count": 19,
   "metadata": {},
   "outputs": [],
   "source": [
    "mmd_proto_data = np.array([x_train[instance] for instance in training_indices_mmd_proto.flatten()]).reshape(100,28,28,1)\n",
    "mmd_proto_labels = np.array([y_train[instance] for instance in training_indices_mmd_proto.flatten()]).reshape(100,10)"
   ]
  },
  {
   "cell_type": "code",
   "execution_count": 20,
   "metadata": {},
   "outputs": [
    {
     "data": {
      "text/plain": [
       "GradientSimilarity(meta={\n",
       "  'name': 'GradientSimilarity',\n",
       "  'type': ['whitebox'],\n",
       "  'explanations': ['local'],\n",
       "  'params': {\n",
       "              'sim_fn_name': 'grad_cos',\n",
       "              'store_grads': True,\n",
       "              'backend_name': 'tensorflow',\n",
       "              'task_name': 'classification'}\n",
       "            ,\n",
       "  'version': '0.7.0'}\n",
       ")"
      ]
     },
     "execution_count": 20,
     "metadata": {},
     "output_type": "execute_result"
    }
   ],
   "source": [
    "gsm.fit(mmd_proto_data, mmd_proto_labels)"
   ]
  },
  {
   "cell_type": "code",
   "execution_count": 21,
   "metadata": {},
   "outputs": [],
   "source": [
    "user_indices = np.load('user_indices_mnist.npy')\n",
    "\n",
    "true_labels_user = np.array([np.argmax(y_test, axis=1)[index] for index in user_indices])\n",
    "y_sample = true_labels_user"
   ]
  },
  {
   "cell_type": "markdown",
   "metadata": {},
   "source": [
    "#### Fitting the explainaer"
   ]
  },
  {
   "cell_type": "code",
   "execution_count": 22,
   "metadata": {},
   "outputs": [
    {
     "data": {
      "text/plain": [
       "array([ 4, 14, 31, 42, 44], dtype=int64)"
      ]
     },
     "execution_count": 22,
     "metadata": {},
     "output_type": "execute_result"
    }
   ],
   "source": [
    "np.where(y_sample == 0)[0]"
   ]
  },
  {
   "cell_type": "code",
   "execution_count": 23,
   "metadata": {},
   "outputs": [
    {
     "data": {
      "text/plain": [
       "GradientSimilarity(meta={\n",
       "  'name': 'GradientSimilarity',\n",
       "  'type': ['whitebox'],\n",
       "  'explanations': ['local'],\n",
       "  'params': {\n",
       "              'sim_fn_name': 'grad_cos',\n",
       "              'store_grads': True,\n",
       "              'backend_name': 'tensorflow',\n",
       "              'task_name': 'classification'}\n",
       "            ,\n",
       "  'version': '0.7.0'}\n",
       ")"
      ]
     },
     "execution_count": 23,
     "metadata": {},
     "output_type": "execute_result"
    }
   ],
   "source": [
    "gsm.fit(mmd_proto_data[0:10], mmd_proto_labels[0:10])"
   ]
  },
  {
   "cell_type": "code",
   "execution_count": 24,
   "metadata": {},
   "outputs": [],
   "source": [
    "expls = gsm.explain(vlk_cf_user[42].reshape(1,28,28,1), to_categorical(y_sample[42],10))"
   ]
  },
  {
   "cell_type": "code",
   "execution_count": 25,
   "metadata": {},
   "outputs": [],
   "source": [
    "def cosine_similarity_mnist(label, technique):\n",
    "    \n",
    "    mean_scores = []\n",
    "    \n",
    "    if label  == 0:\n",
    "        gsm.fit(mmd_proto_data[label:10], mmd_proto_labels[label:10])\n",
    "    \n",
    "    else:\n",
    "        gsm.fit(mmd_proto_data[label*10:((label*10) +10)], mmd_proto_labels[label*10:((label*10) +10)])\n",
    "    \n",
    "    for instance in np.where(y_sample == label)[0]:\n",
    "        \n",
    "        expls = gsm.explain(technique[instance].reshape(1,28,28,1), to_categorical(y_sample[instance],10))  \n",
    "        \n",
    "        mean_scores.append(expls.scores[0].mean())\n",
    "        \n",
    "    return mean_scores"
   ]
  },
  {
   "cell_type": "code",
   "execution_count": 26,
   "metadata": {},
   "outputs": [
    {
     "data": {
      "text/plain": [
       "[0.25990555, 0.39697632, 0.4076523, 0.4386178]"
      ]
     },
     "execution_count": 26,
     "metadata": {},
     "output_type": "execute_result"
    }
   ],
   "source": [
    "cosine_similarity_mnist(5, cem_cf)"
   ]
  },
  {
   "cell_type": "code",
   "execution_count": 27,
   "metadata": {},
   "outputs": [],
   "source": [
    "cos_mean = []\n",
    "cos_sem = []\n",
    "\n",
    "for method in [wachter_cf, vlk_cf_user, cem_cf, revise_cf_user, G1_centroids]:\n",
    "    \n",
    "    score = []\n",
    "    for label in range(0,10):\n",
    "        score.append(cosine_similarity_mnist(label, method))\n",
    "    scores = list(itertools.chain.from_iterable(score))\n",
    "    cos_mean.append(np.array(scores).mean())\n",
    "    cos_sem.append(stats.sem(np.array(scores)))"
   ]
  },
  {
   "cell_type": "code",
   "execution_count": 28,
   "metadata": {},
   "outputs": [],
   "source": [
    "methods = ['Min-Edit', 'CEM-PN', 'VLK','Revise', 'Human']\n",
    "x_pos = np.arange(len(methods))"
   ]
  },
  {
   "cell_type": "code",
   "execution_count": 29,
   "metadata": {},
   "outputs": [
    {
     "data": {
      "image/png": "[encoded data removed]",
      "text/plain": [
       "<Figure size 432x288 with 1 Axes>"
      ]
     },
     "metadata": {
      "needs_background": "light"
     },
     "output_type": "display_data"
    }
   ],
   "source": [
    "# Build the plot\n",
    "fig, ax = plt.subplots()\n",
    "ax.bar(x_pos, cos_mean, yerr=cos_sem, align='center', alpha=0.5, ecolor='black', capsize=10, color='orange', hatch='')\n",
    "ax.set_ylabel('Grad-Cos', fontsize=10)\n",
    "ax.set_xticks(x_pos)\n",
    "ax.set_xticklabels(methods)\n",
    "ax.set_title('MNIST: Mean Grad-Cos Similarity between Candidate Counterfactual \\n and Prototypical Instances in the Counterfactual Class', fontsize = 10)\n",
    "ax.yaxis.grid(True)\n",
    "\n",
    "plt.axvline(x = 3.5, color = 'r', linestyle= '--')\n",
    "\n",
    "# Save the figure and show\n",
    "plt.tight_layout()\n",
    "#plt.savefig('bar_plot_with_error_bars_grad_cos_MNIST.pdf')\n",
    "plt.show()"
   ]
  },
  {
   "cell_type": "markdown",
   "metadata": {},
   "source": [
    "#### Quickdraw"
   ]
  },
  {
   "cell_type": "code",
   "execution_count": 30,
   "metadata": {},
   "outputs": [],
   "source": [
    "# Loading the data, model and preparing the data"
   ]
  },
  {
   "cell_type": "code",
   "execution_count": 31,
   "metadata": {},
   "outputs": [],
   "source": [
    "x_train_qd = np.load('quickdraw_x_train.npy')\n",
    "y_train_qd = np.load('quickdraw_y_train.npy')\n",
    "x_test_qd = np.load('quickdraw_x_test.npy')\n",
    "y_test_qd = np.load('quickdraw_y_test.npy')"
   ]
  },
  {
   "cell_type": "code",
   "execution_count": 32,
   "metadata": {},
   "outputs": [],
   "source": [
    "cnn_qd = load_model('cnn_quickdraw_5_classes.h5')"
   ]
  },
  {
   "cell_type": "code",
   "execution_count": 33,
   "metadata": {},
   "outputs": [],
   "source": [
    "mmd_pixel_prototype_indices_qd = np.load('../../../../../MMD-critic/quickdraw_prototype_indices_mmd_pixel_local.npy')\n",
    "mmd_proto_data_qd = np.array([x_train_qd[instance] for instance in  mmd_pixel_prototype_indices.flatten()])   "
   ]
  },
  {
   "cell_type": "code",
   "execution_count": 34,
   "metadata": {},
   "outputs": [],
   "source": [
    "training_indices_mmd_proto_qd = []\n",
    "\n",
    "for class_label in range(5):\n",
    "    \n",
    "    training_indices_mmd_proto_qd.append([np.where(np.argmax(y_train_qd,axis=1)==class_label)[0][index] for index in mmd_pixel_prototype_indices_qd[class_label]])\n",
    "    \n",
    "training_indices_mmd_proto_qd = np.array(training_indices_mmd_proto_qd)\n"
   ]
  },
  {
   "cell_type": "code",
   "execution_count": 35,
   "metadata": {},
   "outputs": [],
   "source": [
    "mmd_pixel_prototypes_qd = []\n",
    "\n",
    "for class_label in range(5):\n",
    "    \n",
    "    mmd_pixel_prototypes_qd.append([x_train_qd[index] for index in training_indices_mmd_proto_qd[class_label]])\n",
    "    \n",
    "mmd_pixel_prototypes_qd = np.array(mmd_pixel_prototypes_qd)\n"
   ]
  },
  {
   "cell_type": "code",
   "execution_count": 36,
   "metadata": {},
   "outputs": [],
   "source": [
    "mmd_proto_data_qd = mmd_pixel_prototypes_qd.reshape(50,28,28,1)\n",
    "mmd_proto_labels_qd = np.array([y_train_qd[instance] for instance in training_indices_mmd_proto_qd.flatten()])"
   ]
  },
  {
   "cell_type": "code",
   "execution_count": 37,
   "metadata": {},
   "outputs": [],
   "source": [
    "y_sample_qd = np.load('quickdraw_misclassification_indices_test_set.npy')\n",
    "\n",
    "y_sample_qd = np.array([np.argmax(y_test_qd[instance]) for instance in y_sample_qd])"
   ]
  },
  {
   "cell_type": "code",
   "execution_count": 38,
   "metadata": {},
   "outputs": [
    {
     "data": {
      "text/plain": [
       "array([1, 4, 1, 0, 0, 2, 4, 4, 1, 0, 3, 0, 2, 3, 2, 3, 1, 4, 1, 0, 3, 1,\n",
       "       3, 0, 0, 1, 2, 2, 3, 3], dtype=int64)"
      ]
     },
     "execution_count": 38,
     "metadata": {},
     "output_type": "execute_result"
    }
   ],
   "source": [
    "y_sample_qd"
   ]
  },
  {
   "cell_type": "code",
   "execution_count": 39,
   "metadata": {},
   "outputs": [],
   "source": [
    "### loading the different counterfactuals from different techniques"
   ]
  },
  {
   "cell_type": "code",
   "execution_count": 40,
   "metadata": {},
   "outputs": [],
   "source": [
    "quickdraw_min_edit_cf = np.load('quickdraw_min_edit_cf.npy')\n",
    "quickdraw_cem_cf = np.load('quickdraw_cem_cf.npy')\n",
    "quickdraw_vlk_cf = np.load('quickdraw_vlk_cf.npy')"
   ]
  },
  {
   "cell_type": "code",
   "execution_count": 41,
   "metadata": {},
   "outputs": [],
   "source": [
    "human_cfe_qd = np.load('user_kmed_prototypes_quickdraw.npy')"
   ]
  },
  {
   "cell_type": "markdown",
   "metadata": {},
   "source": [
    "#####  Gradient Similarity Fitting the Explainer"
   ]
  },
  {
   "cell_type": "code",
   "execution_count": 42,
   "metadata": {},
   "outputs": [],
   "source": [
    "#loading in revise data for quickdraw \n",
    "revise_cfes_qd = np.load('revise_cfes_qd.npy')"
   ]
  },
  {
   "cell_type": "code",
   "execution_count": 43,
   "metadata": {},
   "outputs": [],
   "source": [
    "gsm_qd = GradientSimilarity(cnn_qd, categorical_crossentropy, precompute_grads=True, sim_fn='grad_cos')"
   ]
  },
  {
   "cell_type": "code",
   "execution_count": 44,
   "metadata": {},
   "outputs": [],
   "source": [
    "def cosine_similarity_quickdraw(label, technique):\n",
    "    \n",
    "    mean_scores_qd = []\n",
    "    \n",
    "    if label  == 0:\n",
    "        gsm_qd.fit(mmd_proto_data_qd[label:10], mmd_proto_labels_qd[label:10])\n",
    "    \n",
    "    else:\n",
    "        gsm_qd.fit(mmd_proto_data_qd[label*10:((label*10) +10)], mmd_proto_labels_qd[label*10:((label*10) +10)])\n",
    "    \n",
    "    for instance in np.where(y_sample_qd == label)[0]:\n",
    "        \n",
    "        expls_qd = gsm_qd.explain(technique[instance].reshape(1,28,28,1), to_categorical(y_sample_qd[instance],5))  \n",
    "        \n",
    "        mean_scores_qd.append(expls_qd.scores[0].mean())\n",
    "        \n",
    "    return mean_scores_qd"
   ]
  },
  {
   "cell_type": "code",
   "execution_count": 45,
   "metadata": {},
   "outputs": [],
   "source": [
    "cos_mean_qd = []\n",
    "cos_sem_qd = []\n",
    "\n",
    "for method in [quickdraw_min_edit_cf, quickdraw_cem_cf, quickdraw_vlk_cf, revise_cfes_qd, human_cfe_qd]:\n",
    "    \n",
    "    score_qd = []\n",
    "    for label in range(0,5):\n",
    "        score_qd.append(cosine_similarity_quickdraw(label, method))\n",
    "    scores_qd = list(itertools.chain.from_iterable(score_qd))\n",
    "    cos_mean_qd.append(np.array(scores_qd).mean())\n",
    "    cos_sem_qd.append(stats.sem(np.array(scores_qd)))"
   ]
  },
  {
   "cell_type": "code",
   "execution_count": 46,
   "metadata": {},
   "outputs": [],
   "source": [
    "methods_qd = ['Min-Edit', 'CEM-PN', 'VLK','Revise', 'Human']\n",
    "x_pos = np.arange(len(methods_qd))"
   ]
  },
  {
   "cell_type": "code",
   "execution_count": 47,
   "metadata": {},
   "outputs": [
    {
     "data": {
      "image/png": "[encoded data removed]",
      "text/plain": [
       "<Figure size 432x288 with 1 Axes>"
      ]
     },
     "metadata": {
      "needs_background": "light"
     },
     "output_type": "display_data"
    }
   ],
   "source": [
    "# Build the plot\n",
    "fig, ax = plt.subplots()\n",
    "ax.bar(x_pos, cos_mean_qd, yerr=cos_sem_qd, align='center', alpha=0.5, ecolor='black', capsize=10, color='orange', hatch='')\n",
    "ax.set_ylabel('Grad-Cos', fontsize=10)\n",
    "ax.set_xticks(x_pos)\n",
    "ax.set_xticklabels(methods_qd)\n",
    "ax.set_title('Quickdraw: Mean Grad-Cos Similarity between Candidate Counterfactual \\n and Prototypical Instances in the Counterfactual Class', fontsize = 10)\n",
    "ax.yaxis.grid(True)\n",
    "\n",
    "plt.axvline(x = 3.5, color = 'r', linestyle= '--')\n",
    "# Save the figure and show\n",
    "plt.tight_layout()\n",
    "#plt.savefig('bar_plot_with_error_bars_grad_cos_qd.pdf')\n",
    "plt.show()"
   ]
  }
 ],
 "metadata": {
  "kernelspec": {
   "display_name": "Python 3",
   "language": "python",
   "name": "python3"
  },
  "language_info": {
   "codemirror_mode": {
    "name": "ipython",
    "version": 3
   },
   "file_extension": ".py",
   "mimetype": "text/x-python",
   "name": "python",
   "nbconvert_exporter": "python",
   "pygments_lexer": "ipython3",
   "version": "3.7.9"
  },
  "toc": {
   "base_numbering": 1,
   "nav_menu": {},
   "number_sections": true,
   "sideBar": true,
   "skip_h1_title": false,
   "title_cell": "Table of Contents",
   "title_sidebar": "Contents",
   "toc_cell": false,
   "toc_position": {},
   "toc_section_display": true,
   "toc_window_display": false
  }
 },
 "nbformat": 4,
 "nbformat_minor": 4
}
