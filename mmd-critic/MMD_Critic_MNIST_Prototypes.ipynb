{
 "cells": [
  {
   "cell_type": "markdown",
   "metadata": {},
   "source": [
    "### MMD - Critic"
   ]
  },
  {
   "cell_type": "markdown",
   "metadata": {},
   "source": [
    "Acknowledgement;  This notebook is adjusted from excellent code provided by https://github.com/maxidl/MMD-critic and also the original authors of MMD-critic https://github.com/BeenKim/MMD-critic"
   ]
  },
  {
   "cell_type": "code",
   "execution_count": 1,
   "metadata": {},
   "outputs": [
    {
     "name": "stdout",
     "output_type": "stream",
     "text": [
      "C:\\Users\\eoind\\Anaconda3\\envs\\mmd-critic\\python.exe\n"
     ]
    }
   ],
   "source": [
    "import sys\n",
    "print(sys.executable)"
   ]
  },
  {
   "cell_type": "code",
   "execution_count": 2,
   "metadata": {},
   "outputs": [],
   "source": [
    "import math\n",
    "import matplotlib.pyplot as plt\n",
    "from pathlib import Path\n",
    "import torch\n",
    "from torchvision import datasets, transforms, models\n",
    "from tqdm.auto import tqdm\n",
    "from mmd_critic import Dataset, select_prototypes, select_criticisms\n",
    "import numpy as np"
   ]
  },
  {
   "cell_type": "code",
   "execution_count": 3,
   "metadata": {},
   "outputs": [],
   "source": [
    "cwd = Path('.')"
   ]
  },
  {
   "cell_type": "code",
   "execution_count": 4,
   "metadata": {},
   "outputs": [],
   "source": [
    "from torchvision import transforms\n",
    "\n",
    "transform_1 = transforms.Compose([transforms.ToTensor()])"
   ]
  },
  {
   "cell_type": "code",
   "execution_count": 5,
   "metadata": {},
   "outputs": [],
   "source": [
    "mnist_data = datasets.MNIST('./data/', download=True, train=True, transform = transform_1)\n",
    "ds = mnist_data"
   ]
  },
  {
   "cell_type": "code",
   "execution_count": 6,
   "metadata": {},
   "outputs": [],
   "source": [
    "class_name = '7 - seven'"
   ]
  },
  {
   "cell_type": "code",
   "execution_count": 7,
   "metadata": {},
   "outputs": [
    {
     "name": "stderr",
     "output_type": "stream",
     "text": [
      "C:\\Users\\eoind\\AppData\\Local\\Temp\\ipykernel_10136\\396211549.py:2: UserWarning: To copy construct from a tensor, it is recommended to use sourceTensor.clone().detach() or sourceTensor.clone().detach().requires_grad_(True), rather than torch.tensor(sourceTensor).\n",
      "  ds = torch.utils.data.Subset(ds, torch.where(torch.tensor(ds.targets) == class_idx)[0])\n"
     ]
    }
   ],
   "source": [
    "class_idx = ds.class_to_idx[class_name]\n",
    "ds = torch.utils.data.Subset(ds, torch.where(torch.tensor(ds.targets) == class_idx)[0])\n",
    "dl = torch.utils.data.DataLoader(ds, batch_size=64)"
   ]
  },
  {
   "cell_type": "code",
   "execution_count": 8,
   "metadata": {},
   "outputs": [],
   "source": [
    "dataiter = iter(dl) # creating a iterator\n",
    "images, labels = dataiter.next()"
   ]
  },
  {
   "cell_type": "code",
   "execution_count": 9,
   "metadata": {},
   "outputs": [
    {
     "data": {
      "image/png": "[encoded data removed]",
      "text/plain": [
       "<Figure size 432x288 with 1 Axes>"
      ]
     },
     "metadata": {
      "needs_background": "light"
     },
     "output_type": "display_data"
    }
   ],
   "source": [
    "plt.imshow(images[63].numpy().squeeze(), cmap='gray_r');\n"
   ]
  },
  {
   "cell_type": "code",
   "execution_count": 10,
   "metadata": {},
   "outputs": [],
   "source": [
    "def prototype_generator_mmd_pixel(class_label):\n",
    "\n",
    "    cwd = Path('.')\n",
    "    output_dir = cwd / 'output'\n",
    "    #imagenet_root = Path('~/ILSVRC2012/')\n",
    "    mnist_root = Path('./data/MNIST/')\n",
    "    split='train'\n",
    "    device = torch.device('cpu')\n",
    "\n",
    "\n",
    "    gamma = None\n",
    "\n",
    "    num_prototypes = 200\n",
    "    num_criticisms = 20\n",
    "\n",
    "    kernel_type = 'local'\n",
    "    # kernel_type = 'global'\n",
    "\n",
    "    # regularizer = None\n",
    "    regularizer = 'logdet'\n",
    "    # regularizer = 'iterative'\n",
    "    use_image_embeddings = False\n",
    "    batch_size = 64\n",
    "\n",
    "    make_plots = False\n",
    "    \n",
    "    class_name = class_label\n",
    "\n",
    "    print('==============')\n",
    "    #print(f'imagenet_root:{imagenet_root.absolute()}')\n",
    "    print(f'output_dir:{output_dir.absolute()}')\n",
    "    print(f'target_class:{class_name}')\n",
    "    print(f'num_prototypes:{num_prototypes}')\n",
    "    print(f'num_criticisms:{num_criticisms}')\n",
    "    print(f'gamma:{gamma}')\n",
    "    print(f'kernel_type:{kernel_type}')\n",
    "    print(f'regularizer:{regularizer}')\n",
    "    print(f'make_plots:{make_plots}')\n",
    "    print('==============\\n')\n",
    "\n",
    "    # torch.set_num_threads(64)\n",
    "\n",
    "    class_name = class_label\n",
    "\n",
    "    ds = datasets.MNIST('./data/', download=True, train=True, transform = transform_1)\n",
    "    class_idx = ds.class_to_idx[class_name]\n",
    "    ds = torch.utils.data.Subset(ds, torch.where(torch.tensor(ds.targets) == class_idx)[0])\n",
    "    samples = [sample[0] for sample in ds]\n",
    "\n",
    "    X = torch.stack(samples).reshape(len(samples), -1)\n",
    "    y = torch.zeros((X.shape[0],), dtype=torch.long)\n",
    "\n",
    "    d = Dataset(X, y)\n",
    "    if kernel_type == 'global':\n",
    "        d.compute_rbf_kernel(gamma)\n",
    "    elif kernel_type == 'local':\n",
    "        d.compute_local_rbf_kernel(gamma)\n",
    "    else:\n",
    "        raise KeyError('kernel_type must be either \"global\" or \"local\"')\n",
    "    print('Done.', flush=True)\n",
    "    class_name = class_name.replace(' ', '_')\n",
    "\n",
    "    # Prototypes\n",
    "    if num_prototypes > 0:\n",
    "        print('Computing prototypes...', end='', flush=True)\n",
    "        prototype_indices = select_prototypes(d.K, num_prototypes)\n",
    "\n",
    "        prototypes = d.X[prototype_indices]\n",
    "        prototype_labels = d.y[prototype_indices]\n",
    "\n",
    "        sorted_by_y_indices = prototype_labels.argsort()\n",
    "        prototypes_sorted = prototypes[sorted_by_y_indices]\n",
    "        prototype_labels = prototype_labels[sorted_by_y_indices]\n",
    "        print('Done.', flush=True)\n",
    "        print(prototype_indices.sort()[0].tolist())\n",
    "\n",
    "        # Visualize\n",
    "        if make_plots:\n",
    "            print('Plotting prototypes...', end='', flush=True)\n",
    "            num_cols = 8\n",
    "            num_rows = math.ceil(num_prototypes / num_cols)\n",
    "            fig, axes = plt.subplots(num_rows, num_cols, figsize=(6, num_rows * 0.75))\n",
    "            for i, axis in enumerate(axes.ravel()):\n",
    "                if i >= num_prototypes:\n",
    "                    axis.axis('off')\n",
    "                    continue\n",
    "                axis.imshow(prototypes_sorted[i].view(1,28,28).permute(1,2,0).numpy())\n",
    "                axis.axis('off')\n",
    "            fig.suptitle(f'{num_prototypes} Prototypes')\n",
    "            plt.savefig(output_dir / f'{num_prototypes}_prototypes_imagenet_{class_name}.svg')\n",
    "            print('Done.', flush=True)\n",
    "\n",
    "        # Criticisms\n",
    "        if num_criticisms > 0:\n",
    "            print('Computing criticisms...', end='', flush=True)\n",
    "            criticism_indices = select_criticisms(d.K, prototype_indices, num_criticisms, regularizer)\n",
    "\n",
    "            criticisms = d.X[criticism_indices]\n",
    "            criticism_labels = d.y[criticism_indices]\n",
    "\n",
    "            sorted_by_y_indices = criticism_labels.argsort()\n",
    "            criticisms_sorted = criticisms[sorted_by_y_indices]\n",
    "            criticism_labels = criticism_labels[sorted_by_y_indices]\n",
    "            print('Done.', flush=True)\n",
    "            print(criticism_indices.sort()[0].tolist())\n",
    "\n",
    "            # Visualize\n",
    "            if make_plots:\n",
    "                print('Plotting criticisms...', end='', flush=True)\n",
    "                num_cols = 8\n",
    "                num_rows = math.ceil(num_criticisms / num_cols)\n",
    "                fig, axes = plt.subplots(num_rows, num_cols, figsize=(6, num_rows * 0.75))\n",
    "                for i, axis in enumerate(axes.ravel()):\n",
    "                    if i >= num_criticisms:\n",
    "                        axis.axis('off')\n",
    "                        continue\n",
    "                    axis.imshow(criticisms_sorted[i].view(1,28,28).permute(1,2,0).numpy())\n",
    "                    axis.axis('off')\n",
    "                fig.suptitle(f'{num_criticisms} Criticisms')\n",
    "                plt.savefig(output_dir / f'{num_criticisms}_criticisms_imagenet_{class_name}.svg')\n",
    "                print('Done.', flush=True)\n",
    "                \n",
    "        return prototype_indices.numpy(), criticism_indices.numpy()\n"
   ]
  },
  {
   "cell_type": "code",
   "execution_count": 11,
   "metadata": {},
   "outputs": [
    {
     "name": "stdout",
     "output_type": "stream",
     "text": [
      "==============\n",
      "output_dir:C:\\Users\\eoind\\MMD-critic\\output\n",
      "target_class:7 - seven\n",
      "num_prototypes:200\n",
      "num_criticisms:20\n",
      "gamma:None\n",
      "kernel_type:local\n",
      "regularizer:logdet\n",
      "make_plots:False\n",
      "==============\n",
      "\n"
     ]
    },
    {
     "name": "stderr",
     "output_type": "stream",
     "text": [
      "C:\\Users\\eoind\\AppData\\Local\\Temp\\ipykernel_10136\\255537365.py:47: UserWarning: To copy construct from a tensor, it is recommended to use sourceTensor.clone().detach() or sourceTensor.clone().detach().requires_grad_(True), rather than torch.tensor(sourceTensor).\n",
      "  ds = torch.utils.data.Subset(ds, torch.where(torch.tensor(ds.targets) == class_idx)[0])\n"
     ]
    },
    {
     "name": "stdout",
     "output_type": "stream",
     "text": [
      "Setting default gamma=0.0012755102040816326\n",
      "Done.\n",
      "Computing prototypes...Done.\n",
      "[34, 38, 119, 130, 138, 176, 183, 197, 218, 219, 228, 272, 294, 350, 390, 421, 454, 462, 484, 509, 518, 551, 554, 564, 567, 593, 626, 653, 691, 715, 738, 748, 762, 792, 795, 830, 861, 946, 961, 1046, 1077, 1176, 1199, 1251, 1274, 1313, 1398, 1423, 1424, 1506, 1537, 1541, 1544, 1556, 1583, 1610, 1653, 1703, 1732, 1769, 1809, 1811, 1838, 1856, 1900, 1908, 1911, 1951, 1976, 1994, 2012, 2063, 2220, 2221, 2271, 2352, 2447, 2464, 2543, 2610, 2680, 2694, 2722, 2742, 2789, 2803, 2809, 2826, 2852, 2891, 2935, 2960, 2976, 2984, 3019, 3064, 3102, 3189, 3220, 3224, 3250, 3252, 3257, 3321, 3323, 3364, 3392, 3397, 3446, 3464, 3487, 3500, 3538, 3570, 3590, 3594, 3598, 3664, 3681, 3699, 3714, 3773, 3797, 3818, 3821, 3836, 3885, 3899, 3924, 3935, 3978, 4031, 4101, 4113, 4143, 4158, 4186, 4190, 4243, 4267, 4281, 4360, 4368, 4408, 4412, 4553, 4557, 4605, 4648, 4657, 4665, 4680, 4690, 4727, 4774, 4791, 4832, 4842, 4849, 4853, 4880, 4999, 5010, 5063, 5074, 5166, 5220, 5257, 5281, 5301, 5326, 5358, 5396, 5416, 5443, 5471, 5511, 5515, 5597, 5603, 5639, 5648, 5680, 5753, 5755, 5834, 5877, 5896, 5969, 5971, 5985, 6019, 6070, 6093, 6113, 6165, 6179, 6198, 6209, 6230]\n",
      "Computing criticisms...Done.\n",
      "[253, 295, 616, 1259, 1397, 1996, 2114, 2781, 2790, 2847, 4164, 4376, 4980, 5133, 5660, 5724, 5731, 6080, 6199, 6206]\n"
     ]
    }
   ],
   "source": [
    "prototype_indices, criticism_indices = prototype_generator_mmd_pixel('7 - seven')"
   ]
  },
  {
   "cell_type": "code",
   "execution_count": 12,
   "metadata": {},
   "outputs": [
    {
     "data": {
      "text/plain": [
       "(array([2722, 1610, 4031, 4158, 1811,  272, 2352, 5753, 4832,  567, 2960,\n",
       "        3397,  792, 4190,  830, 6165, 1994, 4267, 1911, 6113, 5834, 2680,\n",
       "         218, 3797,  795, 1251, 3699, 5281, 5985, 1537, 5471, 5515, 5755,\n",
       "        3189, 5896, 4657, 5603, 2012, 3392, 4842,   34, 1583, 3064, 3500,\n",
       "        1506, 2742,  176, 4849, 5597, 5443, 2220,  294, 1176, 1398,  564,\n",
       "        5648, 1900, 3224, 4557, 1703, 5680, 4690,  390, 1653, 1541,   38,\n",
       "         484, 3681, 6198, 3364, 1838, 3487, 3978, 2789, 4680, 5074, 1423,\n",
       "        1046, 2809, 1556, 4553, 1951, 2447, 4360, 4101, 5969, 3446,  626,\n",
       "        4999, 4412,  462, 5301, 5511,  454, 1769, 2464, 1274,  518, 5358,\n",
       "         551, 3590, 4665,  653, 3821, 4281,  762, 6019, 1976, 3570,  961,\n",
       "        1313, 6070, 5166, 4408, 1908, 1732, 4727,  183, 4113, 2063, 3464,\n",
       "        5639, 6209, 3836,  946, 4791, 2976, 4243, 2271, 4648,  421, 5396,\n",
       "        5326, 5063,  219, 4774, 2221,  738,  197, 3773, 4143, 3252, 4853,\n",
       "        3714, 5220, 2891,  861,  554, 5877, 4880, 5971,  119, 1809, 1856,\n",
       "        3257, 1077,  228, 4368, 6230, 3935, 4605, 2935,  748, 3220, 3899,\n",
       "         138, 3885, 2852, 4186, 5257, 1199,  130,  593, 3818, 2826, 2610,\n",
       "        3664, 6093, 2694, 5416, 1424, 3321, 3323,  691, 3594, 3924, 6179,\n",
       "        3250,  509, 3538, 2803, 5010, 2984, 1544, 3019,  715, 3102, 3598,\n",
       "         350, 2543], dtype=int64),\n",
       " array([5724, 6206, 2781, 1397,  295, 2790, 6199, 5660,  253, 2114, 1259,\n",
       "        1996, 5133, 4980, 6080, 4164,  616, 4376, 2847, 5731], dtype=int64))"
      ]
     },
     "execution_count": 12,
     "metadata": {},
     "output_type": "execute_result"
    }
   ],
   "source": [
    "prototype_indices, criticism_indices"
   ]
  },
  {
   "cell_type": "markdown",
   "metadata": {},
   "source": [
    "Converting data back to numpy; "
   ]
  },
  {
   "cell_type": "code",
   "execution_count": 13,
   "metadata": {},
   "outputs": [
    {
     "name": "stdout",
     "output_type": "stream",
     "text": [
      "==============\n",
      "output_dir:C:\\Users\\eoind\\MMD-critic\\output\n",
      "target_class:0 - zero\n",
      "num_prototypes:200\n",
      "num_criticisms:20\n",
      "gamma:None\n",
      "kernel_type:local\n",
      "regularizer:logdet\n",
      "make_plots:False\n",
      "==============\n",
      "\n"
     ]
    },
    {
     "name": "stderr",
     "output_type": "stream",
     "text": [
      "C:\\Users\\eoind\\AppData\\Local\\Temp\\ipykernel_10136\\255537365.py:47: UserWarning: To copy construct from a tensor, it is recommended to use sourceTensor.clone().detach() or sourceTensor.clone().detach().requires_grad_(True), rather than torch.tensor(sourceTensor).\n",
      "  ds = torch.utils.data.Subset(ds, torch.where(torch.tensor(ds.targets) == class_idx)[0])\n"
     ]
    },
    {
     "name": "stdout",
     "output_type": "stream",
     "text": [
      "Setting default gamma=0.0012755102040816326\n",
      "Done.\n",
      "Computing prototypes...Done.\n",
      "[14, 111, 115, 138, 139, 179, 192, 215, 223, 230, 241, 271, 366, 376, 403, 441, 465, 519, 544, 580, 598, 686, 713, 733, 747, 768, 786, 818, 862, 888, 940, 944, 951, 972, 1020, 1076, 1159, 1168, 1192, 1296, 1353, 1373, 1379, 1422, 1428, 1439, 1468, 1551, 1555, 1608, 1627, 1645, 1658, 1666, 1685, 1694, 1757, 1761, 1771, 1791, 1837, 1904, 2021, 2022, 2072, 2115, 2117, 2154, 2188, 2332, 2335, 2361, 2370, 2404, 2410, 2432, 2482, 2489, 2514, 2578, 2647, 2706, 2718, 2728, 2763, 2812, 2838, 2841, 2868, 2937, 2938, 3031, 3039, 3044, 3073, 3076, 3102, 3116, 3136, 3185, 3190, 3234, 3270, 3356, 3408, 3472, 3474, 3500, 3505, 3534, 3554, 3556, 3568, 3569, 3576, 3617, 3641, 3650, 3689, 3721, 3739, 3742, 3753, 3779, 3805, 3813, 3819, 3823, 3847, 3859, 3914, 3945, 3962, 4010, 4022, 4055, 4075, 4174, 4186, 4292, 4323, 4388, 4395, 4458, 4487, 4492, 4527, 4530, 4533, 4550, 4582, 4611, 4622, 4629, 4634, 4644, 4660, 4678, 4726, 4744, 4778, 4788, 4854, 4887, 4889, 4911, 4947, 4962, 4971, 4977, 4983, 5007, 5049, 5094, 5105, 5114, 5160, 5175, 5239, 5284, 5310, 5331, 5333, 5337, 5362, 5443, 5497, 5499, 5591, 5602, 5669, 5694, 5714, 5756, 5777, 5789, 5794, 5799, 5887, 5907]\n",
      "Computing criticisms...Done.\n",
      "[112, 929, 998, 1477, 1682, 1686, 1689, 1826, 2349, 2463, 2545, 3092, 3206, 3860, 3949, 3976, 4077, 4692, 5077, 5684]\n",
      "==============\n",
      "output_dir:C:\\Users\\eoind\\MMD-critic\\output\n",
      "target_class:1 - one\n",
      "num_prototypes:200\n",
      "num_criticisms:20\n",
      "gamma:None\n",
      "kernel_type:local\n",
      "regularizer:logdet\n",
      "make_plots:False\n",
      "==============\n",
      "\n",
      "Setting default gamma=0.0012755102040816326\n",
      "Done.\n",
      "Computing prototypes...Done.\n",
      "[46, 52, 57, 131, 162, 190, 201, 242, 260, 355, 367, 368, 455, 456, 459, 496, 539, 564, 577, 593, 631, 637, 750, 758, 773, 796, 799, 820, 822, 839, 862, 881, 896, 924, 1029, 1042, 1053, 1105, 1169, 1184, 1196, 1220, 1321, 1332, 1351, 1385, 1421, 1431, 1441, 1448, 1678, 1679, 1768, 1820, 1822, 1826, 1846, 1860, 1863, 1916, 1932, 1965, 1974, 1983, 2026, 2056, 2121, 2124, 2139, 2220, 2248, 2277, 2283, 2319, 2442, 2502, 2530, 2569, 2613, 2617, 2631, 2678, 2688, 2725, 2845, 2851, 2861, 2888, 2920, 3009, 3033, 3054, 3070, 3076, 3083, 3138, 3182, 3244, 3409, 3416, 3457, 3495, 3519, 3596, 3607, 3639, 3730, 3755, 3883, 3890, 3962, 3963, 3965, 3970, 3971, 3974, 3980, 4011, 4034, 4062, 4079, 4083, 4107, 4143, 4169, 4255, 4270, 4288, 4300, 4307, 4321, 4426, 4468, 4475, 4495, 4507, 4523, 4587, 4627, 4666, 4670, 4671, 4697, 4703, 4728, 4745, 4774, 4790, 4793, 4864, 4886, 4888, 4903, 4951, 4959, 4975, 5212, 5217, 5223, 5224, 5362, 5405, 5533, 5555, 5611, 5637, 5646, 5685, 5696, 5755, 5790, 5905, 5964, 5998, 6004, 6024, 6029, 6047, 6165, 6198, 6220, 6260, 6290, 6308, 6320, 6337, 6362, 6370, 6390, 6452, 6465, 6469, 6487, 6582, 6601, 6644, 6652, 6687, 6695, 6721]\n",
      "Computing criticisms...Done.\n",
      "[452, 500, 653, 772, 1488, 1856, 1945, 2194, 2351, 2463, 3012, 3021, 3553, 3618, 4622, 4677, 5242, 5386, 5836, 6162]\n",
      "==============\n",
      "output_dir:C:\\Users\\eoind\\MMD-critic\\output\n",
      "target_class:2 - two\n",
      "num_prototypes:200\n",
      "num_criticisms:20\n",
      "gamma:None\n",
      "kernel_type:local\n",
      "regularizer:logdet\n",
      "make_plots:False\n",
      "==============\n",
      "\n",
      "Setting default gamma=0.0012755102040816326\n",
      "Done.\n",
      "Computing prototypes...Done.\n",
      "[42, 66, 67, 80, 93, 94, 156, 202, 214, 225, 294, 351, 440, 441, 586, 613, 650, 688, 698, 701, 720, 727, 791, 838, 842, 895, 943, 954, 959, 964, 974, 1007, 1021, 1092, 1125, 1135, 1168, 1169, 1202, 1271, 1290, 1299, 1338, 1395, 1402, 1437, 1460, 1468, 1614, 1646, 1669, 1703, 1706, 1707, 1713, 1727, 1753, 1793, 1803, 1827, 1922, 2025, 2034, 2054, 2082, 2103, 2116, 2143, 2167, 2169, 2185, 2242, 2266, 2280, 2293, 2328, 2394, 2415, 2484, 2520, 2527, 2534, 2566, 2570, 2643, 2658, 2662, 2671, 2753, 2757, 2785, 2786, 2818, 2825, 2887, 2900, 2949, 2965, 2983, 3011, 3070, 3075, 3090, 3151, 3185, 3199, 3311, 3350, 3372, 3450, 3484, 3497, 3511, 3521, 3573, 3578, 3588, 3649, 3657, 3726, 3729, 3748, 3767, 3776, 3782, 3868, 3936, 3955, 3968, 3971, 3982, 3993, 4026, 4069, 4129, 4158, 4212, 4258, 4275, 4318, 4341, 4344, 4373, 4383, 4392, 4443, 4478, 4490, 4508, 4559, 4594, 4665, 4699, 4706, 4727, 4747, 4753, 4780, 4820, 4843, 4854, 4873, 4907, 5008, 5014, 5052, 5079, 5107, 5122, 5128, 5181, 5234, 5252, 5263, 5329, 5335, 5361, 5379, 5386, 5397, 5406, 5407, 5446, 5474, 5501, 5600, 5609, 5654, 5671, 5718, 5722, 5746, 5748, 5775, 5782, 5788, 5820, 5832, 5859, 5949]\n",
      "Computing criticisms...Done.\n",
      "[363, 498, 507, 763, 825, 1286, 1412, 2421, 2657, 3355, 3622, 3740, 4193, 4247, 4735, 4799, 4938, 5250, 5442, 5499]\n",
      "==============\n",
      "output_dir:C:\\Users\\eoind\\MMD-critic\\output\n",
      "target_class:3 - three\n",
      "num_prototypes:200\n",
      "num_criticisms:20\n",
      "gamma:None\n",
      "kernel_type:local\n",
      "regularizer:logdet\n",
      "make_plots:False\n",
      "==============\n",
      "\n",
      "Setting default gamma=0.0012755102040816326\n",
      "Done.\n",
      "Computing prototypes...Done.\n",
      "[44, 59, 98, 109, 114, 202, 240, 259, 273, 465, 468, 479, 494, 599, 601, 646, 667, 707, 716, 721, 788, 797, 799, 808, 822, 865, 890, 915, 926, 954, 1004, 1008, 1024, 1035, 1060, 1085, 1108, 1115, 1187, 1263, 1272, 1342, 1384, 1404, 1432, 1461, 1481, 1514, 1515, 1548, 1593, 1594, 1597, 1633, 1641, 1644, 1658, 1724, 1748, 1765, 1843, 1880, 1891, 1954, 1980, 2001, 2010, 2072, 2079, 2082, 2136, 2147, 2184, 2209, 2287, 2313, 2330, 2357, 2470, 2476, 2488, 2500, 2508, 2529, 2639, 2641, 2651, 2681, 2686, 2721, 2756, 2760, 2799, 2832, 2892, 2992, 2995, 3040, 3047, 3059, 3063, 3069, 3080, 3107, 3170, 3224, 3266, 3275, 3306, 3341, 3350, 3444, 3477, 3512, 3516, 3521, 3542, 3636, 3639, 3671, 3692, 3724, 3760, 3779, 3811, 3826, 3895, 3973, 4002, 4031, 4053, 4096, 4127, 4130, 4148, 4160, 4194, 4222, 4248, 4258, 4335, 4397, 4432, 4441, 4475, 4514, 4611, 4633, 4662, 4671, 4696, 4749, 4754, 4767, 4816, 4817, 4866, 4917, 4930, 4948, 4969, 5001, 5012, 5038, 5047, 5065, 5078, 5105, 5121, 5123, 5144, 5160, 5213, 5214, 5253, 5334, 5373, 5410, 5439, 5522, 5550, 5572, 5577, 5602, 5605, 5631, 5636, 5653, 5759, 5790, 5811, 5917, 5952, 5958, 6024, 6031, 6050, 6104, 6119, 6121]\n",
      "Computing criticisms...Done.\n",
      "[82, 118, 470, 879, 888, 1450, 1729, 1827, 1948, 2331, 2363, 2555, 2599, 3263, 3734, 4395, 4648, 5139, 5566, 6020]\n",
      "==============\n",
      "output_dir:C:\\Users\\eoind\\MMD-critic\\output\n",
      "target_class:4 - four\n",
      "num_prototypes:200\n",
      "num_criticisms:20\n",
      "gamma:None\n",
      "kernel_type:local\n",
      "regularizer:logdet\n",
      "make_plots:False\n",
      "==============\n",
      "\n",
      "Setting default gamma=0.0012755102040816326\n",
      "Done.\n",
      "Computing prototypes...Done.\n",
      "[3, 27, 83, 100, 144, 147, 196, 199, 241, 281, 308, 309, 329, 337, 369, 371, 396, 444, 525, 532, 576, 620, 636, 690, 739, 773, 786, 802, 815, 842, 856, 903, 917, 973, 988, 1110, 1156, 1173, 1178, 1206, 1232, 1242, 1291, 1295, 1347, 1499, 1502, 1529, 1536, 1582, 1584, 1604, 1638, 1677, 1678, 1714, 1724, 1729, 1744, 1754, 1759, 1778, 1782, 1787, 1887, 1888, 1919, 2060, 2076, 2105, 2125, 2138, 2149, 2161, 2178, 2181, 2230, 2261, 2267, 2297, 2300, 2363, 2364, 2403, 2443, 2464, 2524, 2526, 2544, 2584, 2609, 2613, 2640, 2641, 2646, 2703, 2737, 2739, 2781, 2790, 2819, 2848, 2851, 2905, 2921, 2953, 2983, 3014, 3020, 3025, 3073, 3104, 3231, 3237, 3270, 3289, 3293, 3315, 3409, 3420, 3428, 3536, 3547, 3663, 3698, 3759, 3769, 3776, 3784, 3807, 3818, 3835, 3857, 3862, 3888, 3896, 3960, 4009, 4113, 4121, 4176, 4197, 4211, 4214, 4289, 4295, 4304, 4366, 4408, 4431, 4450, 4464, 4474, 4497, 4502, 4503, 4625, 4639, 4673, 4681, 4687, 4761, 4771, 4780, 4784, 4821, 4829, 4900, 4914, 4929, 4937, 4943, 4995, 5017, 5026, 5036, 5059, 5213, 5271, 5272, 5282, 5337, 5352, 5391, 5412, 5432, 5461, 5478, 5479, 5499, 5518, 5539, 5601, 5634, 5669, 5676, 5698, 5742, 5764, 5816]\n",
      "Computing criticisms...Done.\n",
      "[153, 536, 766, 998, 1167, 1338, 1549, 1788, 1800, 2208, 2425, 2792, 3194, 3210, 4106, 4658, 4793, 4907, 4983, 5776]\n",
      "==============\n",
      "output_dir:C:\\Users\\eoind\\MMD-critic\\output\n",
      "target_class:5 - five\n",
      "num_prototypes:200\n",
      "num_criticisms:20\n",
      "gamma:None\n",
      "kernel_type:local\n",
      "regularizer:logdet\n",
      "make_plots:False\n",
      "==============\n",
      "\n",
      "Setting default gamma=0.0012755102040816326\n",
      "Done.\n",
      "Computing prototypes...Done.\n",
      "[49, 58, 78, 115, 132, 200, 203, 212, 242, 256, 291, 292, 345, 372, 442, 448, 473, 486, 494, 543, 550, 582, 638, 650, 673, 674, 702, 759, 797, 800, 822, 868, 971, 980, 998, 1021, 1024, 1030, 1088, 1096, 1117, 1137, 1155, 1223, 1249, 1269, 1301, 1340, 1377, 1396, 1426, 1454, 1463, 1476, 1509, 1522, 1533, 1549, 1563, 1675, 1720, 1722, 1725, 1728, 1784, 1795, 1877, 1880, 1891, 1918, 1926, 1963, 1970, 2052, 2073, 2078, 2087, 2117, 2134, 2138, 2163, 2218, 2229, 2243, 2257, 2260, 2280, 2299, 2335, 2490, 2523, 2587, 2599, 2618, 2710, 2794, 2825, 2865, 2873, 2876, 2892, 2948, 2952, 3086, 3087, 3097, 3119, 3142, 3160, 3170, 3201, 3255, 3274, 3333, 3336, 3348, 3378, 3382, 3388, 3394, 3532, 3562, 3566, 3573, 3581, 3625, 3653, 3667, 3670, 3685, 3695, 3719, 3721, 3746, 3749, 3754, 3756, 3772, 3823, 3835, 3854, 3862, 3876, 3891, 3918, 3921, 3946, 3948, 3959, 4064, 4084, 4098, 4114, 4168, 4267, 4330, 4339, 4341, 4399, 4408, 4416, 4430, 4454, 4502, 4513, 4575, 4597, 4607, 4610, 4612, 4618, 4654, 4665, 4671, 4690, 4712, 4726, 4837, 4848, 4935, 4951, 5011, 5033, 5088, 5099, 5143, 5166, 5212, 5215, 5230, 5262, 5275, 5286, 5291, 5305, 5320, 5327, 5341, 5346, 5359]\n"
     ]
    },
    {
     "name": "stdout",
     "output_type": "stream",
     "text": [
      "Computing criticisms...Done.\n",
      "[204, 304, 886, 1761, 1770, 1826, 1956, 2258, 2301, 2471, 2920, 2988, 3203, 4180, 4481, 4494, 4917, 5013, 5019, 5398]\n",
      "==============\n",
      "output_dir:C:\\Users\\eoind\\MMD-critic\\output\n",
      "target_class:6 - six\n",
      "num_prototypes:200\n",
      "num_criticisms:20\n",
      "gamma:None\n",
      "kernel_type:local\n",
      "regularizer:logdet\n",
      "make_plots:False\n",
      "==============\n",
      "\n",
      "Setting default gamma=0.0012755102040816326\n",
      "Done.\n",
      "Computing prototypes...Done.\n",
      "[44, 71, 132, 217, 336, 357, 431, 438, 440, 450, 478, 538, 542, 562, 572, 589, 597, 603, 658, 660, 679, 705, 733, 747, 777, 787, 805, 909, 971, 981, 990, 1015, 1049, 1074, 1083, 1102, 1135, 1164, 1181, 1230, 1280, 1359, 1380, 1410, 1464, 1485, 1522, 1537, 1539, 1563, 1593, 1628, 1662, 1670, 1676, 1742, 1745, 1808, 1830, 1845, 1865, 1888, 1914, 1916, 1936, 1940, 1969, 1990, 2003, 2045, 2080, 2146, 2150, 2162, 2209, 2284, 2296, 2313, 2376, 2450, 2493, 2541, 2543, 2569, 2585, 2590, 2602, 2621, 2634, 2672, 2693, 2709, 2727, 2736, 2787, 2811, 2846, 2874, 2916, 2981, 3007, 3036, 3043, 3058, 3103, 3152, 3169, 3178, 3225, 3276, 3302, 3319, 3329, 3336, 3346, 3363, 3367, 3374, 3401, 3483, 3496, 3511, 3513, 3621, 3632, 3635, 3683, 3714, 3733, 3734, 3743, 3759, 3800, 3821, 3870, 3932, 3945, 3954, 3968, 3974, 3992, 4000, 4041, 4045, 4057, 4075, 4086, 4134, 4154, 4158, 4159, 4185, 4234, 4247, 4311, 4332, 4371, 4428, 4493, 4513, 4522, 4553, 4573, 4586, 4619, 4625, 4676, 4702, 4709, 4777, 4810, 4852, 4899, 4910, 4915, 4941, 4949, 4951, 5090, 5167, 5174, 5216, 5277, 5295, 5372, 5380, 5402, 5412, 5501, 5541, 5549, 5562, 5582, 5675, 5685, 5713, 5760, 5768, 5789, 5810]\n",
      "Computing criticisms...Done.\n",
      "[43, 341, 850, 1369, 1452, 1462, 2219, 2884, 3082, 3418, 3979, 4017, 4127, 4458, 4550, 4607, 4794, 5208, 5511, 5909]\n",
      "==============\n",
      "output_dir:C:\\Users\\eoind\\MMD-critic\\output\n",
      "target_class:7 - seven\n",
      "num_prototypes:200\n",
      "num_criticisms:20\n",
      "gamma:None\n",
      "kernel_type:local\n",
      "regularizer:logdet\n",
      "make_plots:False\n",
      "==============\n",
      "\n",
      "Setting default gamma=0.0012755102040816326\n",
      "Done.\n",
      "Computing prototypes...Done.\n",
      "[34, 38, 119, 130, 138, 176, 183, 197, 218, 219, 228, 272, 294, 350, 390, 421, 454, 462, 484, 509, 518, 551, 554, 564, 567, 593, 626, 653, 691, 715, 738, 748, 762, 792, 795, 830, 861, 946, 961, 1046, 1077, 1176, 1199, 1251, 1274, 1313, 1398, 1423, 1424, 1506, 1537, 1541, 1544, 1556, 1583, 1610, 1653, 1703, 1732, 1769, 1809, 1811, 1838, 1856, 1900, 1908, 1911, 1951, 1976, 1994, 2012, 2063, 2220, 2221, 2271, 2352, 2447, 2464, 2543, 2610, 2680, 2694, 2722, 2742, 2789, 2803, 2809, 2826, 2852, 2891, 2935, 2960, 2976, 2984, 3019, 3064, 3102, 3189, 3220, 3224, 3250, 3252, 3257, 3321, 3323, 3364, 3392, 3397, 3446, 3464, 3487, 3500, 3538, 3570, 3590, 3594, 3598, 3664, 3681, 3699, 3714, 3773, 3797, 3818, 3821, 3836, 3885, 3899, 3924, 3935, 3978, 4031, 4101, 4113, 4143, 4158, 4186, 4190, 4243, 4267, 4281, 4360, 4368, 4408, 4412, 4553, 4557, 4605, 4648, 4657, 4665, 4680, 4690, 4727, 4774, 4791, 4832, 4842, 4849, 4853, 4880, 4999, 5010, 5063, 5074, 5166, 5220, 5257, 5281, 5301, 5326, 5358, 5396, 5416, 5443, 5471, 5511, 5515, 5597, 5603, 5639, 5648, 5680, 5753, 5755, 5834, 5877, 5896, 5969, 5971, 5985, 6019, 6070, 6093, 6113, 6165, 6179, 6198, 6209, 6230]\n",
      "Computing criticisms...Done.\n",
      "[253, 295, 616, 1259, 1397, 1996, 2114, 2781, 2790, 2847, 4164, 4376, 4980, 5133, 5660, 5724, 5731, 6080, 6199, 6206]\n",
      "==============\n",
      "output_dir:C:\\Users\\eoind\\MMD-critic\\output\n",
      "target_class:8 - eight\n",
      "num_prototypes:200\n",
      "num_criticisms:20\n",
      "gamma:None\n",
      "kernel_type:local\n",
      "regularizer:logdet\n",
      "make_plots:False\n",
      "==============\n",
      "\n",
      "Setting default gamma=0.0012755102040816326\n",
      "Done.\n",
      "Computing prototypes...Done.\n",
      "[22, 34, 45, 65, 91, 96, 141, 216, 225, 232, 243, 265, 288, 305, 329, 360, 361, 383, 392, 398, 429, 492, 531, 568, 572, 589, 633, 644, 645, 672, 681, 709, 724, 750, 760, 772, 780, 784, 1040, 1105, 1125, 1203, 1225, 1241, 1273, 1312, 1418, 1423, 1558, 1572, 1617, 1647, 1696, 1705, 1756, 1819, 1820, 1834, 1840, 1866, 1882, 1908, 1994, 2070, 2077, 2092, 2123, 2124, 2180, 2221, 2262, 2361, 2406, 2429, 2507, 2535, 2560, 2589, 2595, 2686, 2721, 2796, 2806, 2811, 2815, 2855, 2881, 2898, 2912, 2921, 2968, 3037, 3047, 3115, 3126, 3135, 3162, 3167, 3185, 3188, 3190, 3215, 3221, 3254, 3272, 3288, 3372, 3387, 3408, 3411, 3433, 3435, 3441, 3475, 3499, 3512, 3547, 3555, 3561, 3576, 3603, 3648, 3654, 3668, 3672, 3722, 3724, 3729, 3751, 3767, 3770, 3776, 4027, 4053, 4070, 4135, 4142, 4208, 4248, 4271, 4298, 4324, 4340, 4358, 4360, 4387, 4392, 4405, 4408, 4419, 4431, 4439, 4469, 4471, 4500, 4559, 4666, 4769, 4770, 4799, 4829, 4874, 4928, 4968, 5028, 5045, 5080, 5124, 5130, 5132, 5156, 5167, 5268, 5308, 5324, 5346, 5375, 5427, 5469, 5478, 5485, 5528, 5541, 5589, 5619, 5649, 5657, 5658, 5708, 5714, 5724, 5740, 5743, 5756, 5777, 5779, 5787, 5789, 5799, 5849]\n",
      "Computing criticisms...Done.\n",
      "[456, 556, 727, 739, 968, 1124, 1236, 1708, 1763, 2348, 2791, 2975, 3369, 3904, 4750, 4881, 4899, 5127, 5368, 5535]\n",
      "==============\n",
      "output_dir:C:\\Users\\eoind\\MMD-critic\\output\n",
      "target_class:9 - nine\n",
      "num_prototypes:200\n",
      "num_criticisms:20\n",
      "gamma:None\n",
      "kernel_type:local\n",
      "regularizer:logdet\n",
      "make_plots:False\n",
      "==============\n",
      "\n",
      "Setting default gamma=0.0012755102040816326\n",
      "Done.\n",
      "Computing prototypes...Done.\n",
      "[0, 67, 70, 77, 119, 138, 179, 214, 226, 248, 259, 310, 368, 404, 411, 416, 440, 494, 496, 497, 539, 716, 725, 805, 820, 898, 1019, 1059, 1150, 1189, 1229, 1287, 1290, 1294, 1313, 1321, 1349, 1389, 1535, 1545, 1556, 1585, 1601, 1613, 1631, 1649, 1663, 1700, 1709, 1714, 1720, 1736, 1762, 1781, 1797, 1813, 1820, 1825, 1856, 1874, 1943, 1948, 1965, 1986, 2010, 2043, 2047, 2064, 2067, 2111, 2134, 2164, 2171, 2187, 2211, 2318, 2367, 2493, 2517, 2540, 2547, 2630, 2633, 2638, 2641, 2717, 2725, 2751, 2808, 2811, 2886, 2939, 2965, 2990, 2997, 3019, 3026, 3132, 3166, 3195, 3287, 3290, 3294, 3303, 3313, 3324, 3335, 3341, 3424, 3432, 3474, 3483, 3540, 3577, 3590, 3603, 3607, 3624, 3675, 3718, 3786, 3798, 3806, 3881, 3909, 3919, 3934, 3980, 4004, 4041, 4085, 4096, 4097, 4113, 4145, 4177, 4201, 4234, 4238, 4252, 4262, 4307, 4309, 4404, 4466, 4492, 4547, 4548, 4572, 4593, 4622, 4680, 4694, 4705, 4718, 4724, 4765, 4769, 4809, 4819, 4832, 4864, 4879, 4886, 4893, 4902, 4933, 4981, 4998, 5006, 5038, 5044, 5063, 5086, 5116, 5147, 5243, 5357, 5377, 5417, 5430, 5453, 5479, 5498, 5515, 5529, 5573, 5603, 5607, 5681, 5682, 5743, 5788, 5817, 5839, 5843, 5869, 5884, 5898, 5937]\n",
      "Computing criticisms...Done.\n",
      "[136, 629, 1225, 1473, 1582, 1860, 1935, 2088, 2636, 3006, 3269, 3281, 3328, 3517, 3893, 4605, 4712, 5511, 5575, 5599]\n"
     ]
    }
   ],
   "source": [
    "prototype_indices = []\n",
    "criticism_indices = []\n",
    "\n",
    "for class_label in ['0 - zero', '1 - one', '2 - two', '3 - three', '4 - four',\n",
    "                    '5 - five', '6 - six', '7 - seven', '8 - eight', '9 - nine']:\n",
    "    \n",
    "    \n",
    "    p, c = prototype_generator_mmd_pixel(class_label)\n",
    "    \n",
    "    prototype_indices.append(p)\n",
    "    criticism_indices.append(c)\n",
    "    \n",
    "    \n",
    "    \n",
    "    \n",
    "\n"
   ]
  },
  {
   "cell_type": "code",
   "execution_count": 14,
   "metadata": {},
   "outputs": [
    {
     "data": {
      "text/plain": [
       "(10, 200)"
      ]
     },
     "execution_count": 14,
     "metadata": {},
     "output_type": "execute_result"
    }
   ],
   "source": [
    "np.array(prototype_indices).shape\n",
    "\n",
    "#10 prototypes, one for each class"
   ]
  },
  {
   "cell_type": "code",
   "execution_count": 15,
   "metadata": {},
   "outputs": [
    {
     "data": {
      "text/plain": [
       "(10, 20)"
      ]
     },
     "execution_count": 15,
     "metadata": {},
     "output_type": "execute_result"
    }
   ],
   "source": [
    "np.array(criticism_indices).shape"
   ]
  },
  {
   "cell_type": "code",
   "execution_count": 16,
   "metadata": {},
   "outputs": [],
   "source": [
    "#np.save('prototype_indices_mmd_pixel_local.npy', np.array(prototype_indices))\n",
    "#np.save('criticism_indices_mmd_pixel_local.npy', np.array(criticism_indices))"
   ]
  },
  {
   "cell_type": "code",
   "execution_count": 17,
   "metadata": {},
   "outputs": [],
   "source": [
    "#np.save('prototype_indices_mmd_pixel_local_200.npy', np.array(prototype_indices))\n",
    "#np.save('criticism_indices_mmd_pixel_local_20.npy', np.array(criticism_indices))"
   ]
  },
  {
   "cell_type": "code",
   "execution_count": 18,
   "metadata": {},
   "outputs": [
    {
     "name": "stdout",
     "output_type": "stream",
     "text": [
      "==============\n",
      "output_dir:C:\\Users\\eoind\\MMD-critic\\output\n",
      "target_class:9 - nine\n",
      "num_prototypes:10\n",
      "num_criticisms:10\n",
      "gamma:None\n",
      "kernel_type:local\n",
      "regularizer:logdet\n",
      "make_plots:True\n",
      "==============\n",
      "\n"
     ]
    },
    {
     "name": "stderr",
     "output_type": "stream",
     "text": [
      "C:\\Users\\eoind\\AppData\\Local\\Temp\\ipykernel_10136\\2148838526.py:47: UserWarning: To copy construct from a tensor, it is recommended to use sourceTensor.clone().detach() or sourceTensor.clone().detach().requires_grad_(True), rather than torch.tensor(sourceTensor).\n",
      "  ds = torch.utils.data.Subset(ds, torch.where(torch.tensor(ds.targets) == class_idx)[0])\n"
     ]
    },
    {
     "name": "stdout",
     "output_type": "stream",
     "text": [
      "Setting default gamma=0.0012755102040816326\n",
      "Done.\n",
      "Computing prototypes...Done.\n",
      "[179, 259, 1189, 1294, 1556, 1813, 2047, 3341, 3980, 5607]\n",
      "Plotting prototypes...Done.\n",
      "Computing criticisms...Done.\n",
      "[457, 1104, 1225, 1473, 1860, 2634, 3517, 3893, 4448, 5511]\n",
      "Plotting criticisms...Done.\n"
     ]
    },
    {
     "data": {
      "image/png": "[encoded data removed]",
      "text/plain": [
       "<Figure size 432x108 with 16 Axes>"
      ]
     },
     "metadata": {
      "needs_background": "light"
     },
     "output_type": "display_data"
    },
    {
     "data": {
      "image/png": "[encoded data removed]",
      "text/plain": [
       "<Figure size 432x108 with 16 Axes>"
      ]
     },
     "metadata": {
      "needs_background": "light"
     },
     "output_type": "display_data"
    }
   ],
   "source": [
    "\n",
    "    cwd = Path('.')\n",
    "    output_dir = cwd / 'output'\n",
    "    #imagenet_root = Path('~/ILSVRC2012/')\n",
    "    mnist_root = Path('./data/MNIST/')\n",
    "    split='train'\n",
    "    device = torch.device('cpu')\n",
    "    \n",
    "    class_label = '9 - nine'\n",
    "\n",
    "\n",
    "    gamma = None\n",
    "\n",
    "    num_prototypes = 10\n",
    "    num_criticisms = 10\n",
    "\n",
    "    kernel_type = 'local'\n",
    "    # kernel_type = 'global'\n",
    "\n",
    "    # regularizer = None\n",
    "    regularizer = 'logdet'\n",
    "    # regularizer = 'iterative'\n",
    "    use_image_embeddings = False\n",
    "    batch_size = 64\n",
    "\n",
    "    make_plots = True\n",
    "    \n",
    "    class_name = class_label\n",
    "\n",
    "    print('==============')\n",
    "    #print(f'imagenet_root:{imagenet_root.absolute()}')\n",
    "    print(f'output_dir:{output_dir.absolute()}')\n",
    "    print(f'target_class:{class_name}')\n",
    "    print(f'num_prototypes:{num_prototypes}')\n",
    "    print(f'num_criticisms:{num_criticisms}')\n",
    "    print(f'gamma:{gamma}')\n",
    "    print(f'kernel_type:{kernel_type}')\n",
    "    print(f'regularizer:{regularizer}')\n",
    "    print(f'make_plots:{make_plots}')\n",
    "    print('==============\\n')\n",
    "\n",
    "    # torch.set_num_threads(64)\n",
    "\n",
    "    class_name = class_label\n",
    "\n",
    "    ds = datasets.MNIST('./data/', download=True, train=True, transform = transform_1)\n",
    "    class_idx = ds.class_to_idx[class_name]\n",
    "    ds = torch.utils.data.Subset(ds, torch.where(torch.tensor(ds.targets) == class_idx)[0])\n",
    "    samples = [sample[0] for sample in ds]\n",
    "\n",
    "    X = torch.stack(samples).reshape(len(samples), -1)\n",
    "    y = torch.zeros((X.shape[0],), dtype=torch.long)\n",
    "\n",
    "    d = Dataset(X, y)\n",
    "    if kernel_type == 'global':\n",
    "        d.compute_rbf_kernel(gamma)\n",
    "    elif kernel_type == 'local':\n",
    "        d.compute_local_rbf_kernel(gamma)\n",
    "    else:\n",
    "        raise KeyError('kernel_type must be either \"global\" or \"local\"')\n",
    "    print('Done.', flush=True)\n",
    "    class_name = class_name.replace(' ', '_')\n",
    "\n",
    "    # Prototypes\n",
    "    if num_prototypes > 0:\n",
    "        print('Computing prototypes...', end='', flush=True)\n",
    "        prototype_indices = select_prototypes(d.K, num_prototypes)\n",
    "\n",
    "        prototypes = d.X[prototype_indices]\n",
    "        prototype_labels = d.y[prototype_indices]\n",
    "\n",
    "        sorted_by_y_indices = prototype_labels.argsort()\n",
    "        prototypes_sorted = prototypes[sorted_by_y_indices]\n",
    "        prototype_labels = prototype_labels[sorted_by_y_indices]\n",
    "        print('Done.', flush=True)\n",
    "        print(prototype_indices.sort()[0].tolist())\n",
    "\n",
    "        # Visualize\n",
    "        if make_plots:\n",
    "            print('Plotting prototypes...', end='', flush=True)\n",
    "            num_cols = 8\n",
    "            num_rows = math.ceil(num_prototypes / num_cols)\n",
    "            fig, axes = plt.subplots(num_rows, num_cols, figsize=(6, num_rows * 0.75))\n",
    "            for i, axis in enumerate(axes.ravel()):\n",
    "                if i >= num_prototypes:\n",
    "                    axis.axis('off')\n",
    "                    continue\n",
    "                axis.imshow(prototypes_sorted[i].view(1,28,28).permute(1,2,0).numpy())\n",
    "                axis.axis('off')\n",
    "            fig.suptitle(f'{num_prototypes} Prototypes')\n",
    "            plt.savefig(output_dir / f'{num_prototypes}_prototypes_imagenet_{class_name}.svg')\n",
    "            print('Done.', flush=True)\n",
    "\n",
    "        # Criticisms\n",
    "        if num_criticisms > 0:\n",
    "            print('Computing criticisms...', end='', flush=True)\n",
    "            criticism_indices = select_criticisms(d.K, prototype_indices, num_criticisms, regularizer)\n",
    "\n",
    "            criticisms = d.X[criticism_indices]\n",
    "            criticism_labels = d.y[criticism_indices]\n",
    "\n",
    "            sorted_by_y_indices = criticism_labels.argsort()\n",
    "            criticisms_sorted = criticisms[sorted_by_y_indices]\n",
    "            criticism_labels = criticism_labels[sorted_by_y_indices]\n",
    "            print('Done.', flush=True)\n",
    "            print(criticism_indices.sort()[0].tolist())\n",
    "\n",
    "            # Visualize\n",
    "            if make_plots:\n",
    "                print('Plotting criticisms...', end='', flush=True)\n",
    "                num_cols = 8\n",
    "                num_rows = math.ceil(num_criticisms / num_cols)\n",
    "                fig, axes = plt.subplots(num_rows, num_cols, figsize=(6, num_rows * 0.75))\n",
    "                for i, axis in enumerate(axes.ravel()):\n",
    "                    if i >= num_criticisms:\n",
    "                        axis.axis('off')\n",
    "                        continue\n",
    "                    axis.imshow(criticisms_sorted[i].view(1,28,28).permute(1,2,0).numpy())\n",
    "                    axis.axis('off')\n",
    "                fig.suptitle(f'{num_criticisms} Criticisms')\n",
    "                plt.savefig(output_dir / f'{num_criticisms}_criticisms_imagenet_{class_name}.svg')\n",
    "                print('Done.', flush=True)"
   ]
  },
  {
   "cell_type": "code",
   "execution_count": 19,
   "metadata": {},
   "outputs": [
    {
     "data": {
      "text/plain": [
       "tensor([ 179,  259, 1189, 5607, 1294, 1556, 3980, 2047, 1813, 3341])"
      ]
     },
     "execution_count": 19,
     "metadata": {},
     "output_type": "execute_result"
    }
   ],
   "source": [
    "prototype_indices"
   ]
  }
 ],
 "metadata": {
  "kernelspec": {
   "display_name": "Python 3",
   "language": "python",
   "name": "python3"
  },
  "language_info": {
   "codemirror_mode": {
    "name": "ipython",
    "version": 3
   },
   "file_extension": ".py",
   "mimetype": "text/x-python",
   "name": "python",
   "nbconvert_exporter": "python",
   "pygments_lexer": "ipython3",
   "version": "3.7.9"
  },
  "toc": {
   "base_numbering": 1,
   "nav_menu": {},
   "number_sections": true,
   "sideBar": true,
   "skip_h1_title": false,
   "title_cell": "Table of Contents",
   "title_sidebar": "Contents",
   "toc_cell": false,
   "toc_position": {},
   "toc_section_display": true,
   "toc_window_display": false
  }
 },
 "nbformat": 4,
 "nbformat_minor": 4
}
