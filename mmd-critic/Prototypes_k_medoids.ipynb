{
 "cells": [
  {
   "cell_type": "markdown",
   "metadata": {},
   "source": [
    "### K-Medoids"
   ]
  },
  {
   "cell_type": "markdown",
   "metadata": {},
   "source": [
    "#### MNIST"
   ]
  },
  {
   "cell_type": "code",
   "execution_count": 1,
   "metadata": {},
   "outputs": [
    {
     "name": "stdout",
     "output_type": "stream",
     "text": [
      "TF version:  2.4.1\n",
      "Eager execution enabled:  False\n"
     ]
    }
   ],
   "source": [
    "from sklearn_extra.cluster import KMedoids\n",
    "\n",
    "import tensorflow as tf\n",
    "tf.get_logger().setLevel(40) # suppress deprecation messages\n",
    "tf.compat.v1.disable_v2_behavior() # disable TF2 behaviour as alibi code still relies on TF1 constructs\n",
    "from tensorflow.keras.layers import Conv2D, Dense, Dropout, Flatten, MaxPooling2D, Input, UpSampling2D\n",
    "from tensorflow.keras.models import Model, load_model\n",
    "from tensorflow.keras.utils import to_categorical\n",
    "import alibi\n",
    "import matplotlib\n",
    "%matplotlib inline\n",
    "import matplotlib.pyplot as plt\n",
    "import numpy as np\n",
    "import os\n",
    "from time import time\n",
    "from alibi.explainers import CounterFactualProto\n",
    "print('TF version: ', tf.__version__)\n",
    "print('Eager execution enabled: ', tf.executing_eagerly()) # False"
   ]
  },
  {
   "cell_type": "code",
   "execution_count": 2,
   "metadata": {},
   "outputs": [],
   "source": [
    "from sklearn_extra.cluster import KMedoids"
   ]
  },
  {
   "cell_type": "code",
   "execution_count": 3,
   "metadata": {},
   "outputs": [
    {
     "name": "stdout",
     "output_type": "stream",
     "text": [
      "x_train shape: (60000, 28, 28) y_train shape: (60000,)\n"
     ]
    },
    {
     "data": {
      "image/png": "[encoded data removed]",
      "text/plain": [
       "<Figure size 432x288 with 1 Axes>"
      ]
     },
     "metadata": {
      "needs_background": "light"
     },
     "output_type": "display_data"
    }
   ],
   "source": [
    "#(x_train, y_train), (x_test, y_test) = tf.keras.datasets.fashion_mnist.load_data()\n",
    "(x_train, y_train), (x_test, y_test) = tf.keras.datasets.mnist.load_data()\n",
    "print('x_train shape:', x_train.shape, 'y_train shape:', y_train.shape)\n",
    "plt.gray()\n",
    "plt.imshow(x_test[15]);"
   ]
  },
  {
   "cell_type": "code",
   "execution_count": 4,
   "metadata": {},
   "outputs": [
    {
     "name": "stdout",
     "output_type": "stream",
     "text": [
      "x_train shape: (60000, 28, 28, 1) x_test shape: (10000, 28, 28, 1)\n",
      "y_train shape: (60000, 10) y_test shape: (10000, 10)\n"
     ]
    }
   ],
   "source": [
    "# loading etc\n",
    "\n",
    "x_train = x_train.astype('float32') / 255\n",
    "x_test = x_test.astype('float32') / 255\n",
    "x_train = np.reshape(x_train, x_train.shape + (1,))\n",
    "x_test = np.reshape(x_test, x_test.shape + (1,))\n",
    "print('x_train shape:', x_train.shape, 'x_test shape:', x_test.shape)\n",
    "y_train = to_categorical(y_train)\n",
    "y_test = to_categorical(y_test)\n",
    "print('y_train shape:', y_train.shape, 'y_test shape:', y_test.shape)"
   ]
  },
  {
   "cell_type": "code",
   "execution_count": 5,
   "metadata": {},
   "outputs": [],
   "source": [
    "#normalizing\n",
    "xmin, xmax = -.5, .5\n",
    "x_train = ((x_train - x_train.min()) / (x_train.max() - x_train.min())) * (xmax - xmin) + xmin\n",
    "x_test = ((x_test - x_test.min()) / (x_test.max() - x_test.min())) * (xmax - xmin) + xmin"
   ]
  },
  {
   "cell_type": "code",
   "execution_count": 6,
   "metadata": {},
   "outputs": [],
   "source": [
    "def km_prototyper():\n",
    "    prototypes = []\n",
    "    for digit in range(0,10):\n",
    "        \n",
    "        x_train_subset = [x_train[i] for i in np.where(np.argmax(y_train, axis=1)==digit)[0]]\n",
    "        x_train_subset = np.array(x_train_subset)\n",
    "        \n",
    "        kmedoids = KMedoids(n_clusters=10, random_state=0).fit(x_train_subset.reshape(x_train_subset.shape[0],784))\n",
    "        prototypes.append(kmedoids.cluster_centers_)\n",
    "    \n",
    "    return prototypes"
   ]
  },
  {
   "cell_type": "code",
   "execution_count": 7,
   "metadata": {},
   "outputs": [],
   "source": [
    "x_train_subset = [x_train[i] for i in np.where(np.argmax(y_train, axis=1)==4)[0]]\n",
    "x_train_subset = np.array(x_train_subset)"
   ]
  },
  {
   "cell_type": "code",
   "execution_count": 8,
   "metadata": {},
   "outputs": [
    {
     "data": {
      "text/plain": [
       "5842"
      ]
     },
     "execution_count": 8,
     "metadata": {},
     "output_type": "execute_result"
    }
   ],
   "source": [
    "x_train_subset.shape[0]"
   ]
  },
  {
   "cell_type": "code",
   "execution_count": 9,
   "metadata": {},
   "outputs": [],
   "source": [
    "prototype_data = []\n",
    "\n",
    "for class_item in range(10):\n",
    "    \n",
    "    x_train_subset = [x_train[i] for i in np.where(np.argmax(y_train, axis=1)==class_item)[0]]\n",
    "    x_train_subset = np.array(x_train_subset)\n",
    "    \n",
    "    kmedoids = KMedoids(n_clusters=10, random_state=0).fit(x_train_subset.reshape(x_train_subset.shape[0],784))\n",
    "    \n",
    "    prototype_data.append(kmedoids.cluster_centers_.reshape(10,28,28,1))\n",
    "    \n",
    "    \n",
    "    "
   ]
  },
  {
   "cell_type": "code",
   "execution_count": 10,
   "metadata": {},
   "outputs": [],
   "source": [
    "prototype_data = np.array(prototype_data)"
   ]
  },
  {
   "cell_type": "code",
   "execution_count": 11,
   "metadata": {},
   "outputs": [
    {
     "data": {
      "text/plain": [
       "<matplotlib.image.AxesImage at 0x2d980254408>"
      ]
     },
     "execution_count": 11,
     "metadata": {},
     "output_type": "execute_result"
    },
    {
     "data": {
      "image/png": "[encoded data removed]",
      "text/plain": [
       "<Figure size 432x288 with 1 Axes>"
      ]
     },
     "metadata": {
      "needs_background": "light"
     },
     "output_type": "display_data"
    }
   ],
   "source": [
    "plt.imshow(prototype_data[6][2])"
   ]
  },
  {
   "cell_type": "code",
   "execution_count": 12,
   "metadata": {},
   "outputs": [],
   "source": [
    "np.save('prototypes_mnist_kmedoids.npy', prototype_data)"
   ]
  },
  {
   "cell_type": "code",
   "execution_count": 13,
   "metadata": {},
   "outputs": [
    {
     "data": {
      "image/png": "[encoded data removed]",
      "text/plain": [
       "<Figure size 432x288 with 8 Axes>"
      ]
     },
     "metadata": {
      "needs_background": "light"
     },
     "output_type": "display_data"
    }
   ],
   "source": [
    "f, axarr = plt.subplots(nrows=2,ncols=4)\n",
    "plt.sca(axarr[0,0]); \n",
    "plt.imshow(prototype_data[6][0]); plt.title('')\n",
    "plt.sca(axarr[0,1]); \n",
    "plt.imshow(prototype_data[6][1]); plt.title('')\n",
    "plt.sca(axarr[0,2]); \n",
    "plt.imshow(prototype_data[6][2]); plt.title(''); \n",
    "plt.sca(axarr[0,3]); \n",
    "plt.imshow(prototype_data[6][3]); plt.title(''); \n",
    "\n",
    "\n",
    "plt.sca(axarr[1,0]); \n",
    "plt.imshow(prototype_data[7][9]); plt.title('')\n",
    "plt.sca(axarr[1,1]); \n",
    "plt.imshow(prototype_data[7][8]); plt.title('')\n",
    "plt.sca(axarr[1,2]); \n",
    "plt.imshow(prototype_data[7][6]); plt.title(''); \n",
    "plt.sca(axarr[1,3]); \n",
    "plt.imshow(prototype_data[7][7]); plt.title(''); \n",
    "\n",
    "\n",
    "\n",
    "plt.show()"
   ]
  },
  {
   "cell_type": "code",
   "execution_count": 14,
   "metadata": {},
   "outputs": [],
   "source": [
    "G1 = np.load('user_explanations_g1.npy')\n",
    "G2 = np.load('user_explanations_g2.npy')"
   ]
  },
  {
   "cell_type": "code",
   "execution_count": 15,
   "metadata": {},
   "outputs": [
    {
     "data": {
      "text/plain": [
       "(50, 28, 28, 1)"
      ]
     },
     "execution_count": 15,
     "metadata": {},
     "output_type": "execute_result"
    }
   ],
   "source": [
    "G1[0].shape"
   ]
  },
  {
   "cell_type": "code",
   "execution_count": 16,
   "metadata": {},
   "outputs": [],
   "source": [
    "user_explanation_centroids = []\n",
    "\n",
    "\n",
    "for image in range(50):\n",
    "\n",
    "\n",
    "    data_example = []\n",
    "\n",
    "    for user in range(21):\n",
    "\n",
    "        data_example.append(G1[user][image])\n",
    "\n",
    "\n",
    "    data_example = np.array(data_example)\n",
    "\n",
    "    kmedoids = KMedoids(n_clusters=1, random_state=0).fit(data_example.reshape(21,784))\n",
    "\n",
    "    user_explanation_centroids.append(kmedoids.cluster_centers_.reshape(1,28,28,1))\n",
    "    \n",
    "user_explanation_centroids = np.array(user_explanation_centroids).reshape(50,28,28,1)"
   ]
  },
  {
   "cell_type": "code",
   "execution_count": 17,
   "metadata": {},
   "outputs": [],
   "source": [
    "user_explanation_centroids = np.array(user_explanation_centroids).reshape(50,28,28,1)"
   ]
  },
  {
   "cell_type": "code",
   "execution_count": 18,
   "metadata": {},
   "outputs": [],
   "source": [
    "np.save('G1_centroids.npy', user_explanation_centroids)"
   ]
  },
  {
   "cell_type": "code",
   "execution_count": 19,
   "metadata": {},
   "outputs": [],
   "source": [
    "user_explanation_centroids = []\n",
    "\n",
    "\n",
    "for image in range(50):\n",
    "\n",
    "\n",
    "    data_example = []\n",
    "\n",
    "    for user in range(21):\n",
    "\n",
    "        data_example.append(G2[user][image])\n",
    "\n",
    "\n",
    "    data_example = np.array(data_example)\n",
    "\n",
    "    kmedoids = KMedoids(n_clusters=1, random_state=0).fit(data_example.reshape(21,784))\n",
    "\n",
    "    user_explanation_centroids.append(kmedoids.cluster_centers_.reshape(1,28,28,1))\n",
    "    \n",
    "user_explanation_centroids = np.array(user_explanation_centroids).reshape(50,28,28,1)"
   ]
  },
  {
   "cell_type": "code",
   "execution_count": 20,
   "metadata": {},
   "outputs": [],
   "source": [
    "np.save('G2_centroids.npy', user_explanation_centroids)"
   ]
  },
  {
   "cell_type": "markdown",
   "metadata": {},
   "source": [
    "#### Quickdraw"
   ]
  },
  {
   "cell_type": "code",
   "execution_count": 21,
   "metadata": {},
   "outputs": [],
   "source": [
    "user_explanations_quickdraw = np.load('user_explanations_quickdraw.npy')"
   ]
  },
  {
   "cell_type": "code",
   "execution_count": 22,
   "metadata": {},
   "outputs": [],
   "source": [
    "user_explanation_centroids_quickdraw = []\n",
    "\n",
    "\n",
    "for image in range(30):\n",
    "\n",
    "\n",
    "    data_example_quickdraw = []\n",
    "\n",
    "    for user in range(5):\n",
    "\n",
    "        data_example_quickdraw.append(user_explanations_quickdraw[user][image])\n",
    "\n",
    "\n",
    "    data_example_quickdraw = np.array(data_example_quickdraw)\n",
    "\n",
    "    kmedoids_quickdraw = KMedoids(n_clusters=1, random_state=0).fit(data_example_quickdraw.reshape(5,784))\n",
    "\n",
    "    user_explanation_centroids_quickdraw.append(kmedoids_quickdraw.cluster_centers_.reshape(1,28,28,1))\n",
    "    \n",
    "user_explanation_centroids_quickdraw = np.array(user_explanation_centroids_quickdraw).reshape(30,28,28,1)"
   ]
  },
  {
   "cell_type": "code",
   "execution_count": 37,
   "metadata": {},
   "outputs": [
    {
     "data": {
      "text/plain": [
       "<matplotlib.image.AxesImage at 0x2d985c0cd08>"
      ]
     },
     "execution_count": 37,
     "metadata": {},
     "output_type": "execute_result"
    },
    {
     "data": {
      "image/png": "[encoded data removed]",
      "text/plain": [
       "<Figure size 432x288 with 1 Axes>"
      ]
     },
     "metadata": {
      "needs_background": "light"
     },
     "output_type": "display_data"
    }
   ],
   "source": [
    "plt.imshow(user_explanation_centroids_quickdraw[12])"
   ]
  },
  {
   "cell_type": "code",
   "execution_count": 38,
   "metadata": {},
   "outputs": [],
   "source": [
    "np.save('user_kmed_prototypes_quickdraw.npy', user_explanation_centroids_quickdraw)"
   ]
  },
  {
   "cell_type": "code",
   "execution_count": 40,
   "metadata": {},
   "outputs": [],
   "source": [
    "x_train = np.load('quickdraw_x_train.npy')\n",
    "y_train = np.load('quickdraw_y_train.npy')"
   ]
  },
  {
   "cell_type": "code",
   "execution_count": 42,
   "metadata": {},
   "outputs": [],
   "source": [
    "prototype_data = []\n",
    "\n",
    "for class_item in range(5):\n",
    "    \n",
    "    x_train_subset = [x_train[i] for i in np.where(np.argmax(y_train, axis=1)==class_item)[0]]\n",
    "    x_train_subset = np.array(x_train_subset)\n",
    "    \n",
    "    kmedoids = KMedoids(n_clusters=10, random_state=0).fit(x_train_subset.reshape(x_train_subset.shape[0],784))\n",
    "    \n",
    "    prototype_data.append(kmedoids.cluster_centers_.reshape(10,28,28,1))"
   ]
  },
  {
   "cell_type": "code",
   "execution_count": 43,
   "metadata": {},
   "outputs": [],
   "source": [
    "prototype_data = np.array(prototype_data)"
   ]
  },
  {
   "cell_type": "code",
   "execution_count": 45,
   "metadata": {},
   "outputs": [
    {
     "data": {
      "text/plain": [
       "(5, 10, 28, 28, 1)"
      ]
     },
     "execution_count": 45,
     "metadata": {},
     "output_type": "execute_result"
    }
   ],
   "source": [
    "prototype_data.shape"
   ]
  },
  {
   "cell_type": "code",
   "execution_count": 59,
   "metadata": {},
   "outputs": [
    {
     "data": {
      "text/plain": [
       "<matplotlib.image.AxesImage at 0x2d980155448>"
      ]
     },
     "execution_count": 59,
     "metadata": {},
     "output_type": "execute_result"
    },
    {
     "data": {
      "image/png": "[encoded data removed]",
      "text/plain": [
       "<Figure size 432x288 with 1 Axes>"
      ]
     },
     "metadata": {
      "needs_background": "light"
     },
     "output_type": "display_data"
    }
   ],
   "source": [
    "plt.imshow(prototype_data[2][9])"
   ]
  }
 ],
 "metadata": {
  "kernelspec": {
   "display_name": "Python 3 (ipykernel)",
   "language": "python",
   "name": "python3"
  },
  "language_info": {
   "codemirror_mode": {
    "name": "ipython",
    "version": 3
   },
   "file_extension": ".py",
   "mimetype": "text/x-python",
   "name": "python",
   "nbconvert_exporter": "python",
   "pygments_lexer": "ipython3",
   "version": "3.8.12"
  },
  "toc": {
   "base_numbering": 1,
   "nav_menu": {},
   "number_sections": true,
   "sideBar": true,
   "skip_h1_title": false,
   "title_cell": "Table of Contents",
   "title_sidebar": "Contents",
   "toc_cell": false,
   "toc_position": {},
   "toc_section_display": true,
   "toc_window_display": false
  }
 },
 "nbformat": 4,
 "nbformat_minor": 4
}
